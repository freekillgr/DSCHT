{
  "nbformat": 4,
  "nbformat_minor": 0,
  "metadata": {
    "colab": {
      "provenance": []
    },
    "kernelspec": {
      "name": "python3",
      "display_name": "Python 3"
    },
    "language_info": {
      "name": "python"
    }
  },
  "cells": [
    {
      "cell_type": "code",
      "execution_count": 1,
      "metadata": {
        "id": "9grqB_9V_mhW"
      },
      "outputs": [],
      "source": [
        "import pandas as pd\n",
        "import numpy as np\n",
        "\n",
        "import matplotlib.pyplot as plt\n",
        "import seaborn as sns"
      ]
    },
    {
      "cell_type": "markdown",
      "source": [
        "## Timestamps and associated operations"
      ],
      "metadata": {
        "id": "mnmTi5GgKv1Q"
      }
    },
    {
      "cell_type": "code",
      "source": [
        "now = pd.Timestamp('now')\n",
        "\n",
        "now"
      ],
      "metadata": {
        "colab": {
          "base_uri": "https://localhost:8080/"
        },
        "id": "ixdQtbcQDMKe",
        "outputId": "8fd1e60e-7148-4466-e96c-78d2405616f0"
      },
      "execution_count": 2,
      "outputs": [
        {
          "output_type": "execute_result",
          "data": {
            "text/plain": [
              "Timestamp('2023-05-27 07:13:50.023679')"
            ]
          },
          "metadata": {},
          "execution_count": 2
        }
      ]
    },
    {
      "cell_type": "code",
      "source": [
        "print(f'{now.year=}')\n",
        "print(f'{now.month=}')\n",
        "print(f'{now.day=}')\n",
        "print(f'{now.hour=}')\n",
        "print(f'{now.minute=}')\n",
        "print(f'{now.second=}')\n",
        "print(f'{now.microsecond=}')"
      ],
      "metadata": {
        "colab": {
          "base_uri": "https://localhost:8080/"
        },
        "id": "LYYAdUjCDmwW",
        "outputId": "3e25dfbc-f685-4080-8e41-b55d00093ca9"
      },
      "execution_count": 3,
      "outputs": [
        {
          "output_type": "stream",
          "name": "stdout",
          "text": [
            "now.year=2023\n",
            "now.month=5\n",
            "now.day=27\n",
            "now.hour=7\n",
            "now.minute=13\n",
            "now.second=50\n",
            "now.microsecond=23679\n"
          ]
        }
      ]
    },
    {
      "cell_type": "code",
      "source": [
        "now.date()"
      ],
      "metadata": {
        "colab": {
          "base_uri": "https://localhost:8080/"
        },
        "id": "JBpDHMfsEHKz",
        "outputId": "7d12033c-01ad-4c36-8f1b-87f55b5d23c2"
      },
      "execution_count": 4,
      "outputs": [
        {
          "output_type": "execute_result",
          "data": {
            "text/plain": [
              "datetime.date(2023, 5, 27)"
            ]
          },
          "metadata": {},
          "execution_count": 4
        }
      ]
    },
    {
      "cell_type": "code",
      "source": [
        "now.time()"
      ],
      "metadata": {
        "colab": {
          "base_uri": "https://localhost:8080/"
        },
        "id": "TZ40CcFyEUL4",
        "outputId": "39c40e3b-1a48-4c83-89b4-0069e7edbf2a"
      },
      "execution_count": 5,
      "outputs": [
        {
          "output_type": "execute_result",
          "data": {
            "text/plain": [
              "datetime.time(7, 13, 50, 23679)"
            ]
          },
          "metadata": {},
          "execution_count": 5
        }
      ]
    },
    {
      "cell_type": "code",
      "source": [
        "now.day_of_week"
      ],
      "metadata": {
        "colab": {
          "base_uri": "https://localhost:8080/"
        },
        "id": "F_FqUDPwEVHv",
        "outputId": "ac2b7fcc-6f53-42c6-892f-f7f01d1afcc5"
      },
      "execution_count": 6,
      "outputs": [
        {
          "output_type": "execute_result",
          "data": {
            "text/plain": [
              "5"
            ]
          },
          "metadata": {},
          "execution_count": 6
        }
      ]
    },
    {
      "cell_type": "code",
      "source": [
        "now.day_name()"
      ],
      "metadata": {
        "colab": {
          "base_uri": "https://localhost:8080/",
          "height": 35
        },
        "id": "9slCFWHjEgpc",
        "outputId": "7a7f704b-609c-4310-c603-5cfc750836a2"
      },
      "execution_count": 7,
      "outputs": [
        {
          "output_type": "execute_result",
          "data": {
            "text/plain": [
              "'Saturday'"
            ],
            "application/vnd.google.colaboratory.intrinsic+json": {
              "type": "string"
            }
          },
          "metadata": {},
          "execution_count": 7
        }
      ]
    },
    {
      "cell_type": "code",
      "source": [
        "now.is_leap_year"
      ],
      "metadata": {
        "colab": {
          "base_uri": "https://localhost:8080/"
        },
        "id": "Xqn067FwEltd",
        "outputId": "39379c6e-1e44-437d-b401-36bfdd27bed4"
      },
      "execution_count": 8,
      "outputs": [
        {
          "output_type": "execute_result",
          "data": {
            "text/plain": [
              "False"
            ]
          },
          "metadata": {},
          "execution_count": 8
        }
      ]
    },
    {
      "cell_type": "code",
      "source": [
        "t1 = pd.Timestamp(2023, 5, 27)\n",
        "t2 = pd.Timestamp(2023, 3, 27, 12)\n",
        "\n",
        "t1, t2"
      ],
      "metadata": {
        "colab": {
          "base_uri": "https://localhost:8080/"
        },
        "id": "ttlxx7ReEpVE",
        "outputId": "5d626f76-990e-49bc-9019-9419889a9a71"
      },
      "execution_count": 9,
      "outputs": [
        {
          "output_type": "execute_result",
          "data": {
            "text/plain": [
              "(Timestamp('2023-05-27 00:00:00'), Timestamp('2023-03-27 12:00:00'))"
            ]
          },
          "metadata": {},
          "execution_count": 9
        }
      ]
    },
    {
      "cell_type": "code",
      "source": [
        "t1 > t2"
      ],
      "metadata": {
        "colab": {
          "base_uri": "https://localhost:8080/"
        },
        "id": "GsXvUpqoFXZ0",
        "outputId": "2f17f720-8631-44c2-8b7d-78cdb2bb7748"
      },
      "execution_count": 11,
      "outputs": [
        {
          "output_type": "execute_result",
          "data": {
            "text/plain": [
              "True"
            ]
          },
          "metadata": {},
          "execution_count": 11
        }
      ]
    },
    {
      "cell_type": "code",
      "source": [
        "diff = t1 - t2"
      ],
      "metadata": {
        "id": "YBlAh9rSFGYO"
      },
      "execution_count": 12,
      "outputs": []
    },
    {
      "cell_type": "code",
      "source": [
        "diff.days * 24 + diff.seconds / 60 / 60"
      ],
      "metadata": {
        "colab": {
          "base_uri": "https://localhost:8080/"
        },
        "id": "hYYBaSD7FhIc",
        "outputId": "59b2a559-883d-4766-bc3b-d4c85718f3dd"
      },
      "execution_count": 16,
      "outputs": [
        {
          "output_type": "execute_result",
          "data": {
            "text/plain": [
              "1452.0"
            ]
          },
          "metadata": {},
          "execution_count": 16
        }
      ]
    },
    {
      "cell_type": "code",
      "source": [
        "diff / pd.Timedelta(hours=1)"
      ],
      "metadata": {
        "colab": {
          "base_uri": "https://localhost:8080/"
        },
        "id": "Zv_cYbWLFrvi",
        "outputId": "0a83d958-1aec-44a4-d853-a97e1ada0a92"
      },
      "execution_count": 18,
      "outputs": [
        {
          "output_type": "execute_result",
          "data": {
            "text/plain": [
              "1452.0"
            ]
          },
          "metadata": {},
          "execution_count": 18
        }
      ]
    },
    {
      "cell_type": "code",
      "source": [
        "now + pd.Timedelta(days=7*5)"
      ],
      "metadata": {
        "colab": {
          "base_uri": "https://localhost:8080/"
        },
        "id": "oaRsS8HkFvkf",
        "outputId": "6ba2a0c6-dd0e-4ba5-9ef5-9df9963eaf9b"
      },
      "execution_count": 20,
      "outputs": [
        {
          "output_type": "execute_result",
          "data": {
            "text/plain": [
              "Timestamp('2023-07-01 07:13:50.023679')"
            ]
          },
          "metadata": {},
          "execution_count": 20
        }
      ]
    },
    {
      "cell_type": "code",
      "source": [
        "hundred_days_ago = now - pd.Timedelta(days=100)\n",
        "hundred_days_ago.day_name()"
      ],
      "metadata": {
        "colab": {
          "base_uri": "https://localhost:8080/",
          "height": 35
        },
        "id": "OrGhjWWwHL8p",
        "outputId": "8c8a5808-3400-4b39-cc25-cc02a37e2679"
      },
      "execution_count": 22,
      "outputs": [
        {
          "output_type": "execute_result",
          "data": {
            "text/plain": [
              "'Thursday'"
            ],
            "application/vnd.google.colaboratory.intrinsic+json": {
              "type": "string"
            }
          },
          "metadata": {},
          "execution_count": 22
        }
      ]
    },
    {
      "cell_type": "code",
      "source": [
        "date_list = [t1, t2, now, hundred_days_ago, pd.Timestamp(1980, 1, 1)]"
      ],
      "metadata": {
        "id": "lyx1obH7ISFg"
      },
      "execution_count": 24,
      "outputs": []
    },
    {
      "cell_type": "code",
      "source": [
        "min(date_list)"
      ],
      "metadata": {
        "colab": {
          "base_uri": "https://localhost:8080/"
        },
        "id": "fgwPTPm8IcLx",
        "outputId": "f5ab738e-a4b8-45a5-90e3-c7829569bd5f"
      },
      "execution_count": 25,
      "outputs": [
        {
          "output_type": "execute_result",
          "data": {
            "text/plain": [
              "Timestamp('1980-01-01 00:00:00')"
            ]
          },
          "metadata": {},
          "execution_count": 25
        }
      ]
    },
    {
      "cell_type": "code",
      "source": [
        "max(date_list)"
      ],
      "metadata": {
        "colab": {
          "base_uri": "https://localhost:8080/"
        },
        "id": "KWaGjn-6Iu4b",
        "outputId": "d5b494e0-7a49-475a-bcb8-5ab00eda57ca"
      },
      "execution_count": 26,
      "outputs": [
        {
          "output_type": "execute_result",
          "data": {
            "text/plain": [
              "Timestamp('2023-05-27 07:13:50.023679')"
            ]
          },
          "metadata": {},
          "execution_count": 26
        }
      ]
    },
    {
      "cell_type": "code",
      "source": [
        "sorted(date_list)"
      ],
      "metadata": {
        "colab": {
          "base_uri": "https://localhost:8080/"
        },
        "id": "uAQnxUXFIxV-",
        "outputId": "e9b455cd-1287-4cba-dd18-b6a16c4408d9"
      },
      "execution_count": 27,
      "outputs": [
        {
          "output_type": "execute_result",
          "data": {
            "text/plain": [
              "[Timestamp('1980-01-01 00:00:00'),\n",
              " Timestamp('2023-02-16 07:13:50.023679'),\n",
              " Timestamp('2023-03-27 12:00:00'),\n",
              " Timestamp('2023-05-27 00:00:00'),\n",
              " Timestamp('2023-05-27 07:13:50.023679')]"
            ]
          },
          "metadata": {},
          "execution_count": 27
        }
      ]
    },
    {
      "cell_type": "code",
      "source": [
        "pd.date_range(start='2023-01-01', end='2023-05-27', freq='12H')"
      ],
      "metadata": {
        "colab": {
          "base_uri": "https://localhost:8080/"
        },
        "id": "jTZSbWv_I0yQ",
        "outputId": "494f4d5d-9311-418f-86f0-e242b60f4db1"
      },
      "execution_count": 29,
      "outputs": [
        {
          "output_type": "execute_result",
          "data": {
            "text/plain": [
              "DatetimeIndex(['2023-01-01 00:00:00', '2023-01-01 12:00:00',\n",
              "               '2023-01-02 00:00:00', '2023-01-02 12:00:00',\n",
              "               '2023-01-03 00:00:00', '2023-01-03 12:00:00',\n",
              "               '2023-01-04 00:00:00', '2023-01-04 12:00:00',\n",
              "               '2023-01-05 00:00:00', '2023-01-05 12:00:00',\n",
              "               ...\n",
              "               '2023-05-22 12:00:00', '2023-05-23 00:00:00',\n",
              "               '2023-05-23 12:00:00', '2023-05-24 00:00:00',\n",
              "               '2023-05-24 12:00:00', '2023-05-25 00:00:00',\n",
              "               '2023-05-25 12:00:00', '2023-05-26 00:00:00',\n",
              "               '2023-05-26 12:00:00', '2023-05-27 00:00:00'],\n",
              "              dtype='datetime64[ns]', length=293, freq='12H')"
            ]
          },
          "metadata": {},
          "execution_count": 29
        }
      ]
    },
    {
      "cell_type": "code",
      "source": [
        "pd.Timestamp('2023-03-01') - pd.Timestamp('2023-02-26')"
      ],
      "metadata": {
        "colab": {
          "base_uri": "https://localhost:8080/"
        },
        "id": "4F32qCMeJeJQ",
        "outputId": "594d8e9c-420f-401f-c32b-6de18a7cc709"
      },
      "execution_count": 30,
      "outputs": [
        {
          "output_type": "execute_result",
          "data": {
            "text/plain": [
              "Timedelta('3 days 00:00:00')"
            ]
          },
          "metadata": {},
          "execution_count": 30
        }
      ]
    },
    {
      "cell_type": "code",
      "source": [
        "pd.Timestamp('2022-03-01') - pd.Timestamp('2022-02-26')"
      ],
      "metadata": {
        "colab": {
          "base_uri": "https://localhost:8080/"
        },
        "id": "RX6TT-SoJ9c8",
        "outputId": "42fcd16e-5988-44d6-fbb7-61559b7a8ded"
      },
      "execution_count": 31,
      "outputs": [
        {
          "output_type": "execute_result",
          "data": {
            "text/plain": [
              "Timedelta('3 days 00:00:00')"
            ]
          },
          "metadata": {},
          "execution_count": 31
        }
      ]
    },
    {
      "cell_type": "code",
      "source": [
        "pd.Timestamp('2021-03-01') - pd.Timestamp('2021-02-26')"
      ],
      "metadata": {
        "colab": {
          "base_uri": "https://localhost:8080/"
        },
        "id": "ZrOzkgkaKJue",
        "outputId": "aef2c0f1-2fc2-4e21-fb3e-ec2e05a970c3"
      },
      "execution_count": 32,
      "outputs": [
        {
          "output_type": "execute_result",
          "data": {
            "text/plain": [
              "Timedelta('3 days 00:00:00')"
            ]
          },
          "metadata": {},
          "execution_count": 32
        }
      ]
    },
    {
      "cell_type": "code",
      "source": [
        "pd.Timestamp('2020-03-01') - pd.Timestamp('2020-02-26')"
      ],
      "metadata": {
        "colab": {
          "base_uri": "https://localhost:8080/"
        },
        "id": "yUQYNNMeKMH0",
        "outputId": "eb3565fb-11a0-4ef7-f67b-df34c2b52dc3"
      },
      "execution_count": 33,
      "outputs": [
        {
          "output_type": "execute_result",
          "data": {
            "text/plain": [
              "Timedelta('4 days 00:00:00')"
            ]
          },
          "metadata": {},
          "execution_count": 33
        }
      ]
    },
    {
      "cell_type": "code",
      "source": [
        "pd.Timestamp('2024-03-01') - pd.Timestamp('2024-02-26')"
      ],
      "metadata": {
        "colab": {
          "base_uri": "https://localhost:8080/"
        },
        "id": "naw7rZ4xKOHh",
        "outputId": "6de5d60c-9ea1-41a6-b4b1-0fdcbf33b0b2"
      },
      "execution_count": 34,
      "outputs": [
        {
          "output_type": "execute_result",
          "data": {
            "text/plain": [
              "Timedelta('4 days 00:00:00')"
            ]
          },
          "metadata": {},
          "execution_count": 34
        }
      ]
    },
    {
      "cell_type": "markdown",
      "source": [
        "## Parsing time"
      ],
      "metadata": {
        "id": "niwSg-7xKQSb"
      }
    },
    {
      "cell_type": "markdown",
      "source": [
        "2023-03-01 12:00  \n",
        "1/3/2023 at time 12 PM  \n",
        "12.00 on 3/1/2023  \n",
        "March 1st 2023, 12 o' clock noon"
      ],
      "metadata": {
        "id": "kwHuWa1yLIUS"
      }
    },
    {
      "cell_type": "code",
      "source": [
        "fmt = '%d/%m/%Y'\n",
        "\n",
        "pd.Timestamp(2023, 3, 1).strftime(fmt)"
      ],
      "metadata": {
        "colab": {
          "base_uri": "https://localhost:8080/",
          "height": 35
        },
        "id": "DqY0quhQK8AW",
        "outputId": "5c493d65-892b-414d-93b4-876734d11162"
      },
      "execution_count": 41,
      "outputs": [
        {
          "output_type": "execute_result",
          "data": {
            "text/plain": [
              "'01/03/2023'"
            ],
            "application/vnd.google.colaboratory.intrinsic+json": {
              "type": "string"
            }
          },
          "metadata": {},
          "execution_count": 41
        }
      ]
    },
    {
      "cell_type": "code",
      "source": [
        "url = 'https://raw.githubusercontent.com/jbrownlee/Datasets/master/airline-passengers.csv'\n",
        "\n",
        "df = pd.read_csv(url)  # parse_dates=['Month']\n",
        "\n",
        "df"
      ],
      "metadata": {
        "colab": {
          "base_uri": "https://localhost:8080/",
          "height": 423
        },
        "id": "LDr8EBNlMgho",
        "outputId": "6747f359-0e2b-4214-93ef-de23c92a7226"
      },
      "execution_count": 50,
      "outputs": [
        {
          "output_type": "execute_result",
          "data": {
            "text/plain": [
              "         Month  Passengers\n",
              "0   1949-01-01         112\n",
              "1   1949-02-01         118\n",
              "2   1949-03-01         132\n",
              "3   1949-04-01         129\n",
              "4   1949-05-01         121\n",
              "..         ...         ...\n",
              "139 1960-08-01         606\n",
              "140 1960-09-01         508\n",
              "141 1960-10-01         461\n",
              "142 1960-11-01         390\n",
              "143 1960-12-01         432\n",
              "\n",
              "[144 rows x 2 columns]"
            ],
            "text/html": [
              "\n",
              "  <div id=\"df-1f5356a8-c5fd-44e7-b06d-cf529374ecdb\">\n",
              "    <div class=\"colab-df-container\">\n",
              "      <div>\n",
              "<style scoped>\n",
              "    .dataframe tbody tr th:only-of-type {\n",
              "        vertical-align: middle;\n",
              "    }\n",
              "\n",
              "    .dataframe tbody tr th {\n",
              "        vertical-align: top;\n",
              "    }\n",
              "\n",
              "    .dataframe thead th {\n",
              "        text-align: right;\n",
              "    }\n",
              "</style>\n",
              "<table border=\"1\" class=\"dataframe\">\n",
              "  <thead>\n",
              "    <tr style=\"text-align: right;\">\n",
              "      <th></th>\n",
              "      <th>Month</th>\n",
              "      <th>Passengers</th>\n",
              "    </tr>\n",
              "  </thead>\n",
              "  <tbody>\n",
              "    <tr>\n",
              "      <th>0</th>\n",
              "      <td>1949-01-01</td>\n",
              "      <td>112</td>\n",
              "    </tr>\n",
              "    <tr>\n",
              "      <th>1</th>\n",
              "      <td>1949-02-01</td>\n",
              "      <td>118</td>\n",
              "    </tr>\n",
              "    <tr>\n",
              "      <th>2</th>\n",
              "      <td>1949-03-01</td>\n",
              "      <td>132</td>\n",
              "    </tr>\n",
              "    <tr>\n",
              "      <th>3</th>\n",
              "      <td>1949-04-01</td>\n",
              "      <td>129</td>\n",
              "    </tr>\n",
              "    <tr>\n",
              "      <th>4</th>\n",
              "      <td>1949-05-01</td>\n",
              "      <td>121</td>\n",
              "    </tr>\n",
              "    <tr>\n",
              "      <th>...</th>\n",
              "      <td>...</td>\n",
              "      <td>...</td>\n",
              "    </tr>\n",
              "    <tr>\n",
              "      <th>139</th>\n",
              "      <td>1960-08-01</td>\n",
              "      <td>606</td>\n",
              "    </tr>\n",
              "    <tr>\n",
              "      <th>140</th>\n",
              "      <td>1960-09-01</td>\n",
              "      <td>508</td>\n",
              "    </tr>\n",
              "    <tr>\n",
              "      <th>141</th>\n",
              "      <td>1960-10-01</td>\n",
              "      <td>461</td>\n",
              "    </tr>\n",
              "    <tr>\n",
              "      <th>142</th>\n",
              "      <td>1960-11-01</td>\n",
              "      <td>390</td>\n",
              "    </tr>\n",
              "    <tr>\n",
              "      <th>143</th>\n",
              "      <td>1960-12-01</td>\n",
              "      <td>432</td>\n",
              "    </tr>\n",
              "  </tbody>\n",
              "</table>\n",
              "<p>144 rows × 2 columns</p>\n",
              "</div>\n",
              "      <button class=\"colab-df-convert\" onclick=\"convertToInteractive('df-1f5356a8-c5fd-44e7-b06d-cf529374ecdb')\"\n",
              "              title=\"Convert this dataframe to an interactive table.\"\n",
              "              style=\"display:none;\">\n",
              "        \n",
              "  <svg xmlns=\"http://www.w3.org/2000/svg\" height=\"24px\"viewBox=\"0 0 24 24\"\n",
              "       width=\"24px\">\n",
              "    <path d=\"M0 0h24v24H0V0z\" fill=\"none\"/>\n",
              "    <path d=\"M18.56 5.44l.94 2.06.94-2.06 2.06-.94-2.06-.94-.94-2.06-.94 2.06-2.06.94zm-11 1L8.5 8.5l.94-2.06 2.06-.94-2.06-.94L8.5 2.5l-.94 2.06-2.06.94zm10 10l.94 2.06.94-2.06 2.06-.94-2.06-.94-.94-2.06-.94 2.06-2.06.94z\"/><path d=\"M17.41 7.96l-1.37-1.37c-.4-.4-.92-.59-1.43-.59-.52 0-1.04.2-1.43.59L10.3 9.45l-7.72 7.72c-.78.78-.78 2.05 0 2.83L4 21.41c.39.39.9.59 1.41.59.51 0 1.02-.2 1.41-.59l7.78-7.78 2.81-2.81c.8-.78.8-2.07 0-2.86zM5.41 20L4 18.59l7.72-7.72 1.47 1.35L5.41 20z\"/>\n",
              "  </svg>\n",
              "      </button>\n",
              "      \n",
              "  <style>\n",
              "    .colab-df-container {\n",
              "      display:flex;\n",
              "      flex-wrap:wrap;\n",
              "      gap: 12px;\n",
              "    }\n",
              "\n",
              "    .colab-df-convert {\n",
              "      background-color: #E8F0FE;\n",
              "      border: none;\n",
              "      border-radius: 50%;\n",
              "      cursor: pointer;\n",
              "      display: none;\n",
              "      fill: #1967D2;\n",
              "      height: 32px;\n",
              "      padding: 0 0 0 0;\n",
              "      width: 32px;\n",
              "    }\n",
              "\n",
              "    .colab-df-convert:hover {\n",
              "      background-color: #E2EBFA;\n",
              "      box-shadow: 0px 1px 2px rgba(60, 64, 67, 0.3), 0px 1px 3px 1px rgba(60, 64, 67, 0.15);\n",
              "      fill: #174EA6;\n",
              "    }\n",
              "\n",
              "    [theme=dark] .colab-df-convert {\n",
              "      background-color: #3B4455;\n",
              "      fill: #D2E3FC;\n",
              "    }\n",
              "\n",
              "    [theme=dark] .colab-df-convert:hover {\n",
              "      background-color: #434B5C;\n",
              "      box-shadow: 0px 1px 3px 1px rgba(0, 0, 0, 0.15);\n",
              "      filter: drop-shadow(0px 1px 2px rgba(0, 0, 0, 0.3));\n",
              "      fill: #FFFFFF;\n",
              "    }\n",
              "  </style>\n",
              "\n",
              "      <script>\n",
              "        const buttonEl =\n",
              "          document.querySelector('#df-1f5356a8-c5fd-44e7-b06d-cf529374ecdb button.colab-df-convert');\n",
              "        buttonEl.style.display =\n",
              "          google.colab.kernel.accessAllowed ? 'block' : 'none';\n",
              "\n",
              "        async function convertToInteractive(key) {\n",
              "          const element = document.querySelector('#df-1f5356a8-c5fd-44e7-b06d-cf529374ecdb');\n",
              "          const dataTable =\n",
              "            await google.colab.kernel.invokeFunction('convertToInteractive',\n",
              "                                                     [key], {});\n",
              "          if (!dataTable) return;\n",
              "\n",
              "          const docLinkHtml = 'Like what you see? Visit the ' +\n",
              "            '<a target=\"_blank\" href=https://colab.research.google.com/notebooks/data_table.ipynb>data table notebook</a>'\n",
              "            + ' to learn more about interactive tables.';\n",
              "          element.innerHTML = '';\n",
              "          dataTable['output_type'] = 'display_data';\n",
              "          await google.colab.output.renderOutput(dataTable, element);\n",
              "          const docLink = document.createElement('div');\n",
              "          docLink.innerHTML = docLinkHtml;\n",
              "          element.appendChild(docLink);\n",
              "        }\n",
              "      </script>\n",
              "    </div>\n",
              "  </div>\n",
              "  "
            ]
          },
          "metadata": {},
          "execution_count": 50
        }
      ]
    },
    {
      "cell_type": "code",
      "source": [
        "df.dtypes"
      ],
      "metadata": {
        "colab": {
          "base_uri": "https://localhost:8080/"
        },
        "id": "-O-RnYgpNgl9",
        "outputId": "90339c80-1ddf-4335-b778-86346918c839"
      },
      "execution_count": 44,
      "outputs": [
        {
          "output_type": "execute_result",
          "data": {
            "text/plain": [
              "Month         object\n",
              "Passengers     int64\n",
              "dtype: object"
            ]
          },
          "metadata": {},
          "execution_count": 44
        }
      ]
    },
    {
      "cell_type": "code",
      "source": [
        "df['Month'] = pd.to_datetime(df['Month'], format='%Y-%m')"
      ],
      "metadata": {
        "id": "Ut9NYBHpNnEB"
      },
      "execution_count": 47,
      "outputs": []
    },
    {
      "cell_type": "code",
      "source": [
        "df"
      ],
      "metadata": {
        "colab": {
          "base_uri": "https://localhost:8080/",
          "height": 423
        },
        "id": "3j-xxt5dOL5B",
        "outputId": "993508f4-964e-42a5-d9cc-ec6496807419"
      },
      "execution_count": 48,
      "outputs": [
        {
          "output_type": "execute_result",
          "data": {
            "text/plain": [
              "         Month  Passengers\n",
              "0   1949-01-01         112\n",
              "1   1949-02-01         118\n",
              "2   1949-03-01         132\n",
              "3   1949-04-01         129\n",
              "4   1949-05-01         121\n",
              "..         ...         ...\n",
              "139 1960-08-01         606\n",
              "140 1960-09-01         508\n",
              "141 1960-10-01         461\n",
              "142 1960-11-01         390\n",
              "143 1960-12-01         432\n",
              "\n",
              "[144 rows x 2 columns]"
            ],
            "text/html": [
              "\n",
              "  <div id=\"df-9c32a128-fd7b-4c80-884e-723d90db6f9c\">\n",
              "    <div class=\"colab-df-container\">\n",
              "      <div>\n",
              "<style scoped>\n",
              "    .dataframe tbody tr th:only-of-type {\n",
              "        vertical-align: middle;\n",
              "    }\n",
              "\n",
              "    .dataframe tbody tr th {\n",
              "        vertical-align: top;\n",
              "    }\n",
              "\n",
              "    .dataframe thead th {\n",
              "        text-align: right;\n",
              "    }\n",
              "</style>\n",
              "<table border=\"1\" class=\"dataframe\">\n",
              "  <thead>\n",
              "    <tr style=\"text-align: right;\">\n",
              "      <th></th>\n",
              "      <th>Month</th>\n",
              "      <th>Passengers</th>\n",
              "    </tr>\n",
              "  </thead>\n",
              "  <tbody>\n",
              "    <tr>\n",
              "      <th>0</th>\n",
              "      <td>1949-01-01</td>\n",
              "      <td>112</td>\n",
              "    </tr>\n",
              "    <tr>\n",
              "      <th>1</th>\n",
              "      <td>1949-02-01</td>\n",
              "      <td>118</td>\n",
              "    </tr>\n",
              "    <tr>\n",
              "      <th>2</th>\n",
              "      <td>1949-03-01</td>\n",
              "      <td>132</td>\n",
              "    </tr>\n",
              "    <tr>\n",
              "      <th>3</th>\n",
              "      <td>1949-04-01</td>\n",
              "      <td>129</td>\n",
              "    </tr>\n",
              "    <tr>\n",
              "      <th>4</th>\n",
              "      <td>1949-05-01</td>\n",
              "      <td>121</td>\n",
              "    </tr>\n",
              "    <tr>\n",
              "      <th>...</th>\n",
              "      <td>...</td>\n",
              "      <td>...</td>\n",
              "    </tr>\n",
              "    <tr>\n",
              "      <th>139</th>\n",
              "      <td>1960-08-01</td>\n",
              "      <td>606</td>\n",
              "    </tr>\n",
              "    <tr>\n",
              "      <th>140</th>\n",
              "      <td>1960-09-01</td>\n",
              "      <td>508</td>\n",
              "    </tr>\n",
              "    <tr>\n",
              "      <th>141</th>\n",
              "      <td>1960-10-01</td>\n",
              "      <td>461</td>\n",
              "    </tr>\n",
              "    <tr>\n",
              "      <th>142</th>\n",
              "      <td>1960-11-01</td>\n",
              "      <td>390</td>\n",
              "    </tr>\n",
              "    <tr>\n",
              "      <th>143</th>\n",
              "      <td>1960-12-01</td>\n",
              "      <td>432</td>\n",
              "    </tr>\n",
              "  </tbody>\n",
              "</table>\n",
              "<p>144 rows × 2 columns</p>\n",
              "</div>\n",
              "      <button class=\"colab-df-convert\" onclick=\"convertToInteractive('df-9c32a128-fd7b-4c80-884e-723d90db6f9c')\"\n",
              "              title=\"Convert this dataframe to an interactive table.\"\n",
              "              style=\"display:none;\">\n",
              "        \n",
              "  <svg xmlns=\"http://www.w3.org/2000/svg\" height=\"24px\"viewBox=\"0 0 24 24\"\n",
              "       width=\"24px\">\n",
              "    <path d=\"M0 0h24v24H0V0z\" fill=\"none\"/>\n",
              "    <path d=\"M18.56 5.44l.94 2.06.94-2.06 2.06-.94-2.06-.94-.94-2.06-.94 2.06-2.06.94zm-11 1L8.5 8.5l.94-2.06 2.06-.94-2.06-.94L8.5 2.5l-.94 2.06-2.06.94zm10 10l.94 2.06.94-2.06 2.06-.94-2.06-.94-.94-2.06-.94 2.06-2.06.94z\"/><path d=\"M17.41 7.96l-1.37-1.37c-.4-.4-.92-.59-1.43-.59-.52 0-1.04.2-1.43.59L10.3 9.45l-7.72 7.72c-.78.78-.78 2.05 0 2.83L4 21.41c.39.39.9.59 1.41.59.51 0 1.02-.2 1.41-.59l7.78-7.78 2.81-2.81c.8-.78.8-2.07 0-2.86zM5.41 20L4 18.59l7.72-7.72 1.47 1.35L5.41 20z\"/>\n",
              "  </svg>\n",
              "      </button>\n",
              "      \n",
              "  <style>\n",
              "    .colab-df-container {\n",
              "      display:flex;\n",
              "      flex-wrap:wrap;\n",
              "      gap: 12px;\n",
              "    }\n",
              "\n",
              "    .colab-df-convert {\n",
              "      background-color: #E8F0FE;\n",
              "      border: none;\n",
              "      border-radius: 50%;\n",
              "      cursor: pointer;\n",
              "      display: none;\n",
              "      fill: #1967D2;\n",
              "      height: 32px;\n",
              "      padding: 0 0 0 0;\n",
              "      width: 32px;\n",
              "    }\n",
              "\n",
              "    .colab-df-convert:hover {\n",
              "      background-color: #E2EBFA;\n",
              "      box-shadow: 0px 1px 2px rgba(60, 64, 67, 0.3), 0px 1px 3px 1px rgba(60, 64, 67, 0.15);\n",
              "      fill: #174EA6;\n",
              "    }\n",
              "\n",
              "    [theme=dark] .colab-df-convert {\n",
              "      background-color: #3B4455;\n",
              "      fill: #D2E3FC;\n",
              "    }\n",
              "\n",
              "    [theme=dark] .colab-df-convert:hover {\n",
              "      background-color: #434B5C;\n",
              "      box-shadow: 0px 1px 3px 1px rgba(0, 0, 0, 0.15);\n",
              "      filter: drop-shadow(0px 1px 2px rgba(0, 0, 0, 0.3));\n",
              "      fill: #FFFFFF;\n",
              "    }\n",
              "  </style>\n",
              "\n",
              "      <script>\n",
              "        const buttonEl =\n",
              "          document.querySelector('#df-9c32a128-fd7b-4c80-884e-723d90db6f9c button.colab-df-convert');\n",
              "        buttonEl.style.display =\n",
              "          google.colab.kernel.accessAllowed ? 'block' : 'none';\n",
              "\n",
              "        async function convertToInteractive(key) {\n",
              "          const element = document.querySelector('#df-9c32a128-fd7b-4c80-884e-723d90db6f9c');\n",
              "          const dataTable =\n",
              "            await google.colab.kernel.invokeFunction('convertToInteractive',\n",
              "                                                     [key], {});\n",
              "          if (!dataTable) return;\n",
              "\n",
              "          const docLinkHtml = 'Like what you see? Visit the ' +\n",
              "            '<a target=\"_blank\" href=https://colab.research.google.com/notebooks/data_table.ipynb>data table notebook</a>'\n",
              "            + ' to learn more about interactive tables.';\n",
              "          element.innerHTML = '';\n",
              "          dataTable['output_type'] = 'display_data';\n",
              "          await google.colab.output.renderOutput(dataTable, element);\n",
              "          const docLink = document.createElement('div');\n",
              "          docLink.innerHTML = docLinkHtml;\n",
              "          element.appendChild(docLink);\n",
              "        }\n",
              "      </script>\n",
              "    </div>\n",
              "  </div>\n",
              "  "
            ]
          },
          "metadata": {},
          "execution_count": 48
        }
      ]
    },
    {
      "cell_type": "code",
      "source": [
        "df.iloc[0, 0] "
      ],
      "metadata": {
        "colab": {
          "base_uri": "https://localhost:8080/"
        },
        "id": "wqrgAqb2OYQ5",
        "outputId": "22a0e14f-3cf7-4c5b-b5a3-541a61f04b2c"
      },
      "execution_count": 49,
      "outputs": [
        {
          "output_type": "execute_result",
          "data": {
            "text/plain": [
              "Timestamp('1949-01-01 00:00:00')"
            ]
          },
          "metadata": {},
          "execution_count": 49
        }
      ]
    },
    {
      "cell_type": "markdown",
      "source": [
        "Number of passengers after 1955"
      ],
      "metadata": {
        "id": "xCsP-sS6SOUd"
      }
    },
    {
      "cell_type": "code",
      "source": [
        "df[df['Month'] >= pd.Timestamp('1955')]['Passengers'].sum()"
      ],
      "metadata": {
        "colab": {
          "base_uri": "https://localhost:8080/"
        },
        "id": "XksxbO-cOuNe",
        "outputId": "7c890422-a174-435a-dabe-266c23c23bea"
      },
      "execution_count": 56,
      "outputs": [
        {
          "output_type": "execute_result",
          "data": {
            "text/plain": [
              "27194"
            ]
          },
          "metadata": {},
          "execution_count": 56
        }
      ]
    },
    {
      "cell_type": "markdown",
      "source": [
        "Average yearly passengers"
      ],
      "metadata": {
        "id": "gZDjiBhGQFiS"
      }
    },
    {
      "cell_type": "code",
      "source": [
        "df['year'] = df['Month'].apply(lambda x: x.year)\n",
        "\n",
        "df.groupby('year')['Passengers'].mean()"
      ],
      "metadata": {
        "colab": {
          "base_uri": "https://localhost:8080/"
        },
        "id": "FjvdbeWCSUVL",
        "outputId": "7954ebf3-dd9d-4274-9527-744311383053"
      },
      "execution_count": 59,
      "outputs": [
        {
          "output_type": "execute_result",
          "data": {
            "text/plain": [
              "year\n",
              "1949    126.666667\n",
              "1950    139.666667\n",
              "1951    170.166667\n",
              "1952    197.000000\n",
              "1953    225.000000\n",
              "1954    238.916667\n",
              "1955    284.000000\n",
              "1956    328.250000\n",
              "1957    368.416667\n",
              "1958    381.000000\n",
              "1959    428.333333\n",
              "1960    476.166667\n",
              "Name: Passengers, dtype: float64"
            ]
          },
          "metadata": {},
          "execution_count": 59
        }
      ]
    },
    {
      "cell_type": "markdown",
      "source": [
        "Datetime as index"
      ],
      "metadata": {
        "id": "SVqc5m7TTPVN"
      }
    },
    {
      "cell_type": "code",
      "source": [
        "df.index = df['Month']"
      ],
      "metadata": {
        "id": "5rMuGd39Tl8b"
      },
      "execution_count": 62,
      "outputs": []
    },
    {
      "cell_type": "code",
      "source": [
        "df.loc['1955':, 'Passengers'].sum()"
      ],
      "metadata": {
        "colab": {
          "base_uri": "https://localhost:8080/"
        },
        "id": "EZ6mo9ylTp2i",
        "outputId": "83c24bb2-a9b7-418b-9fa2-50218e15fb2e"
      },
      "execution_count": 66,
      "outputs": [
        {
          "output_type": "execute_result",
          "data": {
            "text/plain": [
              "27194"
            ]
          },
          "metadata": {},
          "execution_count": 66
        }
      ]
    },
    {
      "cell_type": "code",
      "source": [
        "ps = df['Passengers']\n",
        "\n",
        "ps"
      ],
      "metadata": {
        "colab": {
          "base_uri": "https://localhost:8080/"
        },
        "id": "lnSLNls4TqkF",
        "outputId": "af05c269-ff59-4660-ac07-aaede3787b59"
      },
      "execution_count": 67,
      "outputs": [
        {
          "output_type": "execute_result",
          "data": {
            "text/plain": [
              "Month\n",
              "1949-01-01    112\n",
              "1949-02-01    118\n",
              "1949-03-01    132\n",
              "1949-04-01    129\n",
              "1949-05-01    121\n",
              "             ... \n",
              "1960-08-01    606\n",
              "1960-09-01    508\n",
              "1960-10-01    461\n",
              "1960-11-01    390\n",
              "1960-12-01    432\n",
              "Name: Passengers, Length: 144, dtype: int64"
            ]
          },
          "metadata": {},
          "execution_count": 67
        }
      ]
    },
    {
      "cell_type": "code",
      "source": [
        "ps['1955':].sum()"
      ],
      "metadata": {
        "colab": {
          "base_uri": "https://localhost:8080/"
        },
        "id": "oPv5IcQdUVxb",
        "outputId": "a55d4a92-25bb-4873-c712-4b3288dc06b0"
      },
      "execution_count": 68,
      "outputs": [
        {
          "output_type": "execute_result",
          "data": {
            "text/plain": [
              "27194"
            ]
          },
          "metadata": {},
          "execution_count": 68
        }
      ]
    },
    {
      "cell_type": "code",
      "source": [
        "pd.Timestamp('1955')"
      ],
      "metadata": {
        "colab": {
          "base_uri": "https://localhost:8080/"
        },
        "id": "WZgqsP2jUfeV",
        "outputId": "4a297d38-6d14-4b41-c186-878d0a793fb8"
      },
      "execution_count": 69,
      "outputs": [
        {
          "output_type": "execute_result",
          "data": {
            "text/plain": [
              "Timestamp('1955-01-01 00:00:00')"
            ]
          },
          "metadata": {},
          "execution_count": 69
        }
      ]
    },
    {
      "cell_type": "markdown",
      "source": [
        "## Plotting"
      ],
      "metadata": {
        "id": "9hEoU6bJbsfI"
      }
    },
    {
      "cell_type": "code",
      "source": [
        "ax = ps.plot()\n",
        "\n",
        "ax.set_ylabel('Passengers')"
      ],
      "metadata": {
        "colab": {
          "base_uri": "https://localhost:8080/",
          "height": 466
        },
        "id": "ydOCHvUvb8-x",
        "outputId": "2d4e98c0-23e3-4dea-a47d-3b3d4dd5318c"
      },
      "execution_count": 72,
      "outputs": [
        {
          "output_type": "execute_result",
          "data": {
            "text/plain": [
              "Text(0, 0.5, 'Passengers')"
            ]
          },
          "metadata": {},
          "execution_count": 72
        },
        {
          "output_type": "display_data",
          "data": {
            "text/plain": [
              "<Figure size 640x480 with 1 Axes>"
            ],
            "image/png": "[encoded data removed]"
          },
          "metadata": {}
        }
      ]
    },
    {
      "cell_type": "markdown",
      "source": [
        "## COVID data"
      ],
      "metadata": {
        "id": "uJSZz3eJcC5x"
      }
    },
    {
      "cell_type": "code",
      "source": [
        "df = pd.read_csv('https://raw.githubusercontent.com/owid/covid-19-data/master/public/data/owid-covid-data.csv')\n",
        "\n",
        "df.index = pd.to_datetime(df['date'])"
      ],
      "metadata": {
        "id": "VUsyoOZGc2g8"
      },
      "execution_count": 80,
      "outputs": []
    },
    {
      "cell_type": "code",
      "source": [
        "df.sample(5)"
      ],
      "metadata": {
        "colab": {
          "base_uri": "https://localhost:8080/",
          "height": 417
        },
        "id": "oKJ2ek7Sc5gs",
        "outputId": "2e4cea7a-31fa-401a-d603-3e839692f884"
      },
      "execution_count": 86,
      "outputs": [
        {
          "output_type": "execute_result",
          "data": {
            "text/plain": [
              "           iso_code continent location        date  total_cases  new_cases  \\\n",
              "date                                                                         \n",
              "2022-10-02      BRN      Asia   Brunei  2022-10-02     229665.0        0.0   \n",
              "2022-04-17      EST    Europe  Estonia  2022-04-17     569770.0      286.0   \n",
              "2023-01-31      JOR      Asia   Jordan  2023-01-31    1746997.0        0.0   \n",
              "2023-01-19      EST    Europe  Estonia  2023-01-19     613324.0       47.0   \n",
              "2021-10-27      BTN      Asia   Bhutan  2021-10-27       2620.0        3.0   \n",
              "\n",
              "            new_cases_smoothed  total_deaths  new_deaths  new_deaths_smoothed  \\\n",
              "date                                                                            \n",
              "2022-10-02             272.714         132.0         0.0                0.143   \n",
              "2022-04-17             497.143        2516.0         5.0                3.143   \n",
              "2023-01-31               0.000       14122.0         0.0                0.000   \n",
              "2023-01-19              48.143        2885.0         0.0                0.000   \n",
              "2021-10-27               0.429           3.0         0.0                0.000   \n",
              "\n",
              "            ...  male_smokers  handwashing_facilities  \\\n",
              "date        ...                                         \n",
              "2022-10-02  ...          30.9                     NaN   \n",
              "2022-04-17  ...          39.3                     NaN   \n",
              "2023-01-31  ...           NaN                     NaN   \n",
              "2023-01-19  ...          39.3                     NaN   \n",
              "2021-10-27  ...           NaN                  79.807   \n",
              "\n",
              "            hospital_beds_per_thousand  life_expectancy  \\\n",
              "date                                                      \n",
              "2022-10-02                        2.70            75.86   \n",
              "2022-04-17                        4.69            78.74   \n",
              "2023-01-31                        1.40            74.53   \n",
              "2023-01-19                        4.69            78.74   \n",
              "2021-10-27                        1.70            71.78   \n",
              "\n",
              "            human_development_index  population  \\\n",
              "date                                              \n",
              "2022-10-02                    0.838    449002.0   \n",
              "2022-04-17                    0.892   1326064.0   \n",
              "2023-01-31                    0.729  11285875.0   \n",
              "2023-01-19                    0.892   1326064.0   \n",
              "2021-10-27                    0.654    782457.0   \n",
              "\n",
              "            excess_mortality_cumulative_absolute  excess_mortality_cumulative  \\\n",
              "date                                                                            \n",
              "2022-10-02                                   NaN                          NaN   \n",
              "2022-04-17                             3488.2996                         9.54   \n",
              "2023-01-31                                   NaN                          NaN   \n",
              "2023-01-19                                   NaN                          NaN   \n",
              "2021-10-27                                   NaN                          NaN   \n",
              "\n",
              "            excess_mortality  excess_mortality_cumulative_per_million  \n",
              "date                                                                   \n",
              "2022-10-02               NaN                                      NaN  \n",
              "2022-04-17              -0.9                                2630.5664  \n",
              "2023-01-31               NaN                                      NaN  \n",
              "2023-01-19               NaN                                      NaN  \n",
              "2021-10-27               NaN                                      NaN  \n",
              "\n",
              "[5 rows x 67 columns]"
            ],
            "text/html": [
              "\n",
              "  <div id=\"df-ae7169f9-a45b-4f69-aad2-633597e26674\">\n",
              "    <div class=\"colab-df-container\">\n",
              "      <div>\n",
              "<style scoped>\n",
              "    .dataframe tbody tr th:only-of-type {\n",
              "        vertical-align: middle;\n",
              "    }\n",
              "\n",
              "    .dataframe tbody tr th {\n",
              "        vertical-align: top;\n",
              "    }\n",
              "\n",
              "    .dataframe thead th {\n",
              "        text-align: right;\n",
              "    }\n",
              "</style>\n",
              "<table border=\"1\" class=\"dataframe\">\n",
              "  <thead>\n",
              "    <tr style=\"text-align: right;\">\n",
              "      <th></th>\n",
              "      <th>iso_code</th>\n",
              "      <th>continent</th>\n",
              "      <th>location</th>\n",
              "      <th>date</th>\n",
              "      <th>total_cases</th>\n",
              "      <th>new_cases</th>\n",
              "      <th>new_cases_smoothed</th>\n",
              "      <th>total_deaths</th>\n",
              "      <th>new_deaths</th>\n",
              "      <th>new_deaths_smoothed</th>\n",
              "      <th>...</th>\n",
              "      <th>male_smokers</th>\n",
              "      <th>handwashing_facilities</th>\n",
              "      <th>hospital_beds_per_thousand</th>\n",
              "      <th>life_expectancy</th>\n",
              "      <th>human_development_index</th>\n",
              "      <th>population</th>\n",
              "      <th>excess_mortality_cumulative_absolute</th>\n",
              "      <th>excess_mortality_cumulative</th>\n",
              "      <th>excess_mortality</th>\n",
              "      <th>excess_mortality_cumulative_per_million</th>\n",
              "    </tr>\n",
              "    <tr>\n",
              "      <th>date</th>\n",
              "      <th></th>\n",
              "      <th></th>\n",
              "      <th></th>\n",
              "      <th></th>\n",
              "      <th></th>\n",
              "      <th></th>\n",
              "      <th></th>\n",
              "      <th></th>\n",
              "      <th></th>\n",
              "      <th></th>\n",
              "      <th></th>\n",
              "      <th></th>\n",
              "      <th></th>\n",
              "      <th></th>\n",
              "      <th></th>\n",
              "      <th></th>\n",
              "      <th></th>\n",
              "      <th></th>\n",
              "      <th></th>\n",
              "      <th></th>\n",
              "      <th></th>\n",
              "    </tr>\n",
              "  </thead>\n",
              "  <tbody>\n",
              "    <tr>\n",
              "      <th>2022-10-02</th>\n",
              "      <td>BRN</td>\n",
              "      <td>Asia</td>\n",
              "      <td>Brunei</td>\n",
              "      <td>2022-10-02</td>\n",
              "      <td>229665.0</td>\n",
              "      <td>0.0</td>\n",
              "      <td>272.714</td>\n",
              "      <td>132.0</td>\n",
              "      <td>0.0</td>\n",
              "      <td>0.143</td>\n",
              "      <td>...</td>\n",
              "      <td>30.9</td>\n",
              "      <td>NaN</td>\n",
              "      <td>2.70</td>\n",
              "      <td>75.86</td>\n",
              "      <td>0.838</td>\n",
              "      <td>449002.0</td>\n",
              "      <td>NaN</td>\n",
              "      <td>NaN</td>\n",
              "      <td>NaN</td>\n",
              "      <td>NaN</td>\n",
              "    </tr>\n",
              "    <tr>\n",
              "      <th>2022-04-17</th>\n",
              "      <td>EST</td>\n",
              "      <td>Europe</td>\n",
              "      <td>Estonia</td>\n",
              "      <td>2022-04-17</td>\n",
              "      <td>569770.0</td>\n",
              "      <td>286.0</td>\n",
              "      <td>497.143</td>\n",
              "      <td>2516.0</td>\n",
              "      <td>5.0</td>\n",
              "      <td>3.143</td>\n",
              "      <td>...</td>\n",
              "      <td>39.3</td>\n",
              "      <td>NaN</td>\n",
              "      <td>4.69</td>\n",
              "      <td>78.74</td>\n",
              "      <td>0.892</td>\n",
              "      <td>1326064.0</td>\n",
              "      <td>3488.2996</td>\n",
              "      <td>9.54</td>\n",
              "      <td>-0.9</td>\n",
              "      <td>2630.5664</td>\n",
              "    </tr>\n",
              "    <tr>\n",
              "      <th>2023-01-31</th>\n",
              "      <td>JOR</td>\n",
              "      <td>Asia</td>\n",
              "      <td>Jordan</td>\n",
              "      <td>2023-01-31</td>\n",
              "      <td>1746997.0</td>\n",
              "      <td>0.0</td>\n",
              "      <td>0.000</td>\n",
              "      <td>14122.0</td>\n",
              "      <td>0.0</td>\n",
              "      <td>0.000</td>\n",
              "      <td>...</td>\n",
              "      <td>NaN</td>\n",
              "      <td>NaN</td>\n",
              "      <td>1.40</td>\n",
              "      <td>74.53</td>\n",
              "      <td>0.729</td>\n",
              "      <td>11285875.0</td>\n",
              "      <td>NaN</td>\n",
              "      <td>NaN</td>\n",
              "      <td>NaN</td>\n",
              "      <td>NaN</td>\n",
              "    </tr>\n",
              "    <tr>\n",
              "      <th>2023-01-19</th>\n",
              "      <td>EST</td>\n",
              "      <td>Europe</td>\n",
              "      <td>Estonia</td>\n",
              "      <td>2023-01-19</td>\n",
              "      <td>613324.0</td>\n",
              "      <td>47.0</td>\n",
              "      <td>48.143</td>\n",
              "      <td>2885.0</td>\n",
              "      <td>0.0</td>\n",
              "      <td>0.000</td>\n",
              "      <td>...</td>\n",
              "      <td>39.3</td>\n",
              "      <td>NaN</td>\n",
              "      <td>4.69</td>\n",
              "      <td>78.74</td>\n",
              "      <td>0.892</td>\n",
              "      <td>1326064.0</td>\n",
              "      <td>NaN</td>\n",
              "      <td>NaN</td>\n",
              "      <td>NaN</td>\n",
              "      <td>NaN</td>\n",
              "    </tr>\n",
              "    <tr>\n",
              "      <th>2021-10-27</th>\n",
              "      <td>BTN</td>\n",
              "      <td>Asia</td>\n",
              "      <td>Bhutan</td>\n",
              "      <td>2021-10-27</td>\n",
              "      <td>2620.0</td>\n",
              "      <td>3.0</td>\n",
              "      <td>0.429</td>\n",
              "      <td>3.0</td>\n",
              "      <td>0.0</td>\n",
              "      <td>0.000</td>\n",
              "      <td>...</td>\n",
              "      <td>NaN</td>\n",
              "      <td>79.807</td>\n",
              "      <td>1.70</td>\n",
              "      <td>71.78</td>\n",
              "      <td>0.654</td>\n",
              "      <td>782457.0</td>\n",
              "      <td>NaN</td>\n",
              "      <td>NaN</td>\n",
              "      <td>NaN</td>\n",
              "      <td>NaN</td>\n",
              "    </tr>\n",
              "  </tbody>\n",
              "</table>\n",
              "<p>5 rows × 67 columns</p>\n",
              "</div>\n",
              "      <button class=\"colab-df-convert\" onclick=\"convertToInteractive('df-ae7169f9-a45b-4f69-aad2-633597e26674')\"\n",
              "              title=\"Convert this dataframe to an interactive table.\"\n",
              "              style=\"display:none;\">\n",
              "        \n",
              "  <svg xmlns=\"http://www.w3.org/2000/svg\" height=\"24px\"viewBox=\"0 0 24 24\"\n",
              "       width=\"24px\">\n",
              "    <path d=\"M0 0h24v24H0V0z\" fill=\"none\"/>\n",
              "    <path d=\"M18.56 5.44l.94 2.06.94-2.06 2.06-.94-2.06-.94-.94-2.06-.94 2.06-2.06.94zm-11 1L8.5 8.5l.94-2.06 2.06-.94-2.06-.94L8.5 2.5l-.94 2.06-2.06.94zm10 10l.94 2.06.94-2.06 2.06-.94-2.06-.94-.94-2.06-.94 2.06-2.06.94z\"/><path d=\"M17.41 7.96l-1.37-1.37c-.4-.4-.92-.59-1.43-.59-.52 0-1.04.2-1.43.59L10.3 9.45l-7.72 7.72c-.78.78-.78 2.05 0 2.83L4 21.41c.39.39.9.59 1.41.59.51 0 1.02-.2 1.41-.59l7.78-7.78 2.81-2.81c.8-.78.8-2.07 0-2.86zM5.41 20L4 18.59l7.72-7.72 1.47 1.35L5.41 20z\"/>\n",
              "  </svg>\n",
              "      </button>\n",
              "      \n",
              "  <style>\n",
              "    .colab-df-container {\n",
              "      display:flex;\n",
              "      flex-wrap:wrap;\n",
              "      gap: 12px;\n",
              "    }\n",
              "\n",
              "    .colab-df-convert {\n",
              "      background-color: #E8F0FE;\n",
              "      border: none;\n",
              "      border-radius: 50%;\n",
              "      cursor: pointer;\n",
              "      display: none;\n",
              "      fill: #1967D2;\n",
              "      height: 32px;\n",
              "      padding: 0 0 0 0;\n",
              "      width: 32px;\n",
              "    }\n",
              "\n",
              "    .colab-df-convert:hover {\n",
              "      background-color: #E2EBFA;\n",
              "      box-shadow: 0px 1px 2px rgba(60, 64, 67, 0.3), 0px 1px 3px 1px rgba(60, 64, 67, 0.15);\n",
              "      fill: #174EA6;\n",
              "    }\n",
              "\n",
              "    [theme=dark] .colab-df-convert {\n",
              "      background-color: #3B4455;\n",
              "      fill: #D2E3FC;\n",
              "    }\n",
              "\n",
              "    [theme=dark] .colab-df-convert:hover {\n",
              "      background-color: #434B5C;\n",
              "      box-shadow: 0px 1px 3px 1px rgba(0, 0, 0, 0.15);\n",
              "      filter: drop-shadow(0px 1px 2px rgba(0, 0, 0, 0.3));\n",
              "      fill: #FFFFFF;\n",
              "    }\n",
              "  </style>\n",
              "\n",
              "      <script>\n",
              "        const buttonEl =\n",
              "          document.querySelector('#df-ae7169f9-a45b-4f69-aad2-633597e26674 button.colab-df-convert');\n",
              "        buttonEl.style.display =\n",
              "          google.colab.kernel.accessAllowed ? 'block' : 'none';\n",
              "\n",
              "        async function convertToInteractive(key) {\n",
              "          const element = document.querySelector('#df-ae7169f9-a45b-4f69-aad2-633597e26674');\n",
              "          const dataTable =\n",
              "            await google.colab.kernel.invokeFunction('convertToInteractive',\n",
              "                                                     [key], {});\n",
              "          if (!dataTable) return;\n",
              "\n",
              "          const docLinkHtml = 'Like what you see? Visit the ' +\n",
              "            '<a target=\"_blank\" href=https://colab.research.google.com/notebooks/data_table.ipynb>data table notebook</a>'\n",
              "            + ' to learn more about interactive tables.';\n",
              "          element.innerHTML = '';\n",
              "          dataTable['output_type'] = 'display_data';\n",
              "          await google.colab.output.renderOutput(dataTable, element);\n",
              "          const docLink = document.createElement('div');\n",
              "          docLink.innerHTML = docLinkHtml;\n",
              "          element.appendChild(docLink);\n",
              "        }\n",
              "      </script>\n",
              "    </div>\n",
              "  </div>\n",
              "  "
            ]
          },
          "metadata": {},
          "execution_count": 86
        }
      ]
    },
    {
      "cell_type": "code",
      "source": [
        "gr = df[df['location'] == 'Greece']\n",
        "gr = gr['2020':'2020']"
      ],
      "metadata": {
        "id": "ZWUMqVyOc6cq"
      },
      "execution_count": 113,
      "outputs": []
    },
    {
      "cell_type": "code",
      "source": [
        "gr[['new_cases', 'new_cases_smoothed']].plot()"
      ],
      "metadata": {
        "colab": {
          "base_uri": "https://localhost:8080/",
          "height": 483
        },
        "id": "zoHHEyfMdQje",
        "outputId": "b0c01269-1279-4ef0-853a-414e3ccfcef3"
      },
      "execution_count": 116,
      "outputs": [
        {
          "output_type": "execute_result",
          "data": {
            "text/plain": [
              "<Axes: xlabel='date'>"
            ]
          },
          "metadata": {},
          "execution_count": 116
        },
        {
          "output_type": "display_data",
          "data": {
            "text/plain": [
              "<Figure size 640x480 with 1 Axes>"
            ],
            "image/png": "[encoded data removed]"
          },
          "metadata": {}
        }
      ]
    },
    {
      "cell_type": "code",
      "source": [
        "gr[['new_cases', 'new_deaths']].plot(subplots=True)"
      ],
      "metadata": {
        "colab": {
          "base_uri": "https://localhost:8080/",
          "height": 483
        },
        "id": "1dgWkxDBdlh5",
        "outputId": "79035dd4-7388-4d7e-8f35-75b6d5e6f5ed"
      },
      "execution_count": 118,
      "outputs": [
        {
          "output_type": "execute_result",
          "data": {
            "text/plain": [
              "array([<Axes: xlabel='date'>, <Axes: xlabel='date'>], dtype=object)"
            ]
          },
          "metadata": {},
          "execution_count": 118
        },
        {
          "output_type": "display_data",
          "data": {
            "text/plain": [
              "<Figure size 640x480 with 2 Axes>"
            ],
            "image/png": "[encoded data removed]"
          },
          "metadata": {}
        }
      ]
    },
    {
      "cell_type": "markdown",
      "source": [
        "## Timeseries manipulation\n",
        "\n",
        "### Shifting"
      ],
      "metadata": {
        "id": "NAAQGp1FhLiW"
      }
    },
    {
      "cell_type": "code",
      "source": [
        "gr2 = gr['2020-09':]\n",
        " \n",
        "gr2['new_cases'].plot()"
      ],
      "metadata": {
        "colab": {
          "base_uri": "https://localhost:8080/",
          "height": 483
        },
        "id": "ISfcwmpNhzLq",
        "outputId": "7ea17067-c79f-40b8-8fe2-fd997de2a1cc"
      },
      "execution_count": 121,
      "outputs": [
        {
          "output_type": "execute_result",
          "data": {
            "text/plain": [
              "<Axes: xlabel='date'>"
            ]
          },
          "metadata": {},
          "execution_count": 121
        },
        {
          "output_type": "display_data",
          "data": {
            "text/plain": [
              "<Figure size 640x480 with 1 Axes>"
            ],
            "image/png": "[encoded data removed]"
          },
          "metadata": {}
        }
      ]
    },
    {
      "cell_type": "code",
      "source": [
        "gr2['new_cases']"
      ],
      "metadata": {
        "colab": {
          "base_uri": "https://localhost:8080/"
        },
        "id": "U_rYq4Cmh6CZ",
        "outputId": "f9d6b073-0923-41f0-936d-e6ebda860230"
      },
      "execution_count": 122,
      "outputs": [
        {
          "output_type": "execute_result",
          "data": {
            "text/plain": [
              "date\n",
              "2020-09-01     183.0\n",
              "2020-09-02     207.0\n",
              "2020-09-03     233.0\n",
              "2020-09-04     241.0\n",
              "2020-09-05     202.0\n",
              "               ...  \n",
              "2020-12-27     262.0\n",
              "2020-12-28     342.0\n",
              "2020-12-29     475.0\n",
              "2020-12-30    1045.0\n",
              "2020-12-31     942.0\n",
              "Name: new_cases, Length: 122, dtype: float64"
            ]
          },
          "metadata": {},
          "execution_count": 122
        }
      ]
    },
    {
      "cell_type": "code",
      "source": [
        "gr2['new_cases'].shift(-2)"
      ],
      "metadata": {
        "colab": {
          "base_uri": "https://localhost:8080/"
        },
        "id": "KYyGVQJfiWSF",
        "outputId": "2776164e-65bf-475c-8c4e-1518666a8d35"
      },
      "execution_count": 125,
      "outputs": [
        {
          "output_type": "execute_result",
          "data": {
            "text/plain": [
              "date\n",
              "2020-09-01     233.0\n",
              "2020-09-02     241.0\n",
              "2020-09-03     202.0\n",
              "2020-09-04     186.0\n",
              "2020-09-05     138.0\n",
              "               ...  \n",
              "2020-12-27     475.0\n",
              "2020-12-28    1045.0\n",
              "2020-12-29     942.0\n",
              "2020-12-30       NaN\n",
              "2020-12-31       NaN\n",
              "Name: new_cases, Length: 122, dtype: float64"
            ]
          },
          "metadata": {},
          "execution_count": 125
        }
      ]
    },
    {
      "cell_type": "code",
      "source": [
        "gr2['new_cases'].plot(label='original')\n",
        "gr2['new_cases'].shift(5).plot(label='+5')\n",
        "gr2['new_cases'].shift(-5).plot(label='-5')\n",
        "\n",
        "plt.legend()"
      ],
      "metadata": {
        "colab": {
          "base_uri": "https://localhost:8080/",
          "height": 483
        },
        "id": "I85DMRbxibq-",
        "outputId": "9974e811-774a-43a9-fa2e-8b703f63e0f6"
      },
      "execution_count": 127,
      "outputs": [
        {
          "output_type": "execute_result",
          "data": {
            "text/plain": [
              "<matplotlib.legend.Legend at 0x7f288d482770>"
            ]
          },
          "metadata": {},
          "execution_count": 127
        },
        {
          "output_type": "display_data",
          "data": {
            "text/plain": [
              "<Figure size 640x480 with 1 Axes>"
            ],
            "image/png": "[encoded data removed]"
          },
          "metadata": {}
        }
      ]
    },
    {
      "cell_type": "markdown",
      "source": [
        "## Resampling\n",
        "\n",
        "Undersampling"
      ],
      "metadata": {
        "id": "N9B6T6iciyep"
      }
    },
    {
      "cell_type": "code",
      "source": [
        "gr[-20:]['new_cases']"
      ],
      "metadata": {
        "colab": {
          "base_uri": "https://localhost:8080/"
        },
        "id": "Anap-MPYlcVi",
        "outputId": "c8f5dcb7-1c70-4e5a-84b5-6025a29c6022"
      },
      "execution_count": 135,
      "outputs": [
        {
          "output_type": "execute_result",
          "data": {
            "text/plain": [
              "date\n",
              "2020-12-12    1395.0\n",
              "2020-12-13    1194.0\n",
              "2020-12-14     692.0\n",
              "2020-12-15     639.0\n",
              "2020-12-16    1199.0\n",
              "2020-12-17    1185.0\n",
              "2020-12-18    1153.0\n",
              "2020-12-19     874.0\n",
              "2020-12-20     901.0\n",
              "2020-12-21     587.0\n",
              "2020-12-22     525.0\n",
              "2020-12-23     833.0\n",
              "2020-12-24     935.0\n",
              "2020-12-25     870.0\n",
              "2020-12-26     617.0\n",
              "2020-12-27     262.0\n",
              "2020-12-28     342.0\n",
              "2020-12-29     475.0\n",
              "2020-12-30    1045.0\n",
              "2020-12-31     942.0\n",
              "Name: new_cases, dtype: float64"
            ]
          },
          "metadata": {},
          "execution_count": 135
        }
      ]
    },
    {
      "cell_type": "code",
      "source": [
        "gr[-20:]['new_cases'].resample('3D').first()"
      ],
      "metadata": {
        "colab": {
          "base_uri": "https://localhost:8080/"
        },
        "id": "PiFWJo7Qj2jj",
        "outputId": "5098cc67-bae3-4803-b732-db0bd68f4f24"
      },
      "execution_count": 134,
      "outputs": [
        {
          "output_type": "execute_result",
          "data": {
            "text/plain": [
              "date\n",
              "2020-12-12    1395.0\n",
              "2020-12-15     639.0\n",
              "2020-12-18    1153.0\n",
              "2020-12-21     587.0\n",
              "2020-12-24     935.0\n",
              "2020-12-27     262.0\n",
              "2020-12-30    1045.0\n",
              "Freq: 3D, Name: new_cases, dtype: float64"
            ]
          },
          "metadata": {},
          "execution_count": 134
        }
      ]
    },
    {
      "cell_type": "code",
      "source": [
        "gr[-20:]['new_cases'].resample('3D').last()"
      ],
      "metadata": {
        "colab": {
          "base_uri": "https://localhost:8080/"
        },
        "id": "YpEIUl9Nkiko",
        "outputId": "46b4a97b-71d2-42e7-cc07-690e5fa931cd"
      },
      "execution_count": 136,
      "outputs": [
        {
          "output_type": "execute_result",
          "data": {
            "text/plain": [
              "date\n",
              "2020-12-12     692.0\n",
              "2020-12-15    1185.0\n",
              "2020-12-18     901.0\n",
              "2020-12-21     833.0\n",
              "2020-12-24     617.0\n",
              "2020-12-27     475.0\n",
              "2020-12-30     942.0\n",
              "Freq: 3D, Name: new_cases, dtype: float64"
            ]
          },
          "metadata": {},
          "execution_count": 136
        }
      ]
    },
    {
      "cell_type": "code",
      "source": [
        "gr[-20:]['new_cases'].resample('3D').mean()"
      ],
      "metadata": {
        "colab": {
          "base_uri": "https://localhost:8080/"
        },
        "id": "kHD13xcxljtw",
        "outputId": "490b31c9-8e33-42ea-d223-1d7700c13c8e"
      },
      "execution_count": 137,
      "outputs": [
        {
          "output_type": "execute_result",
          "data": {
            "text/plain": [
              "date\n",
              "2020-12-12    1093.666667\n",
              "2020-12-15    1007.666667\n",
              "2020-12-18     976.000000\n",
              "2020-12-21     648.333333\n",
              "2020-12-24     807.333333\n",
              "2020-12-27     359.666667\n",
              "2020-12-30     993.500000\n",
              "Freq: 3D, Name: new_cases, dtype: float64"
            ]
          },
          "metadata": {},
          "execution_count": 137
        }
      ]
    },
    {
      "cell_type": "code",
      "source": [
        "gr['new_cases'].resample('1W').sum()"
      ],
      "metadata": {
        "colab": {
          "base_uri": "https://localhost:8080/"
        },
        "id": "J0fKP8w0llP0",
        "outputId": "ee5a5c2f-5b87-4044-c2d2-944ff3f115bb"
      },
      "execution_count": 141,
      "outputs": [
        {
          "output_type": "execute_result",
          "data": {
            "text/plain": [
              "date\n",
              "2020-01-05        0.0\n",
              "2020-01-12        0.0\n",
              "2020-01-19        0.0\n",
              "2020-01-26        0.0\n",
              "2020-02-02        0.0\n",
              "2020-02-09        0.0\n",
              "2020-02-16        0.0\n",
              "2020-02-23        0.0\n",
              "2020-03-01        5.0\n",
              "2020-03-08       61.0\n",
              "2020-03-15      162.0\n",
              "2020-03-22      302.0\n",
              "2020-03-29      531.0\n",
              "2020-04-05      612.0\n",
              "2020-04-12      408.0\n",
              "2020-04-19      154.0\n",
              "2020-04-26      271.0\n",
              "2020-05-03      114.0\n",
              "2020-05-10       90.0\n",
              "2020-05-17      109.0\n",
              "2020-05-24       57.0\n",
              "2020-05-31       39.0\n",
              "2020-06-07       65.0\n",
              "2020-06-14      132.0\n",
              "2020-06-21      144.0\n",
              "2020-06-28      110.0\n",
              "2020-07-05      145.0\n",
              "2020-07-12      261.0\n",
              "2020-07-19      211.0\n",
              "2020-07-26      183.0\n",
              "2020-08-02      421.0\n",
              "2020-08-09      834.0\n",
              "2020-08-16     1437.0\n",
              "2020-08-23     1523.0\n",
              "2020-08-30     1596.0\n",
              "2020-09-06     1409.0\n",
              "2020-09-13     1650.0\n",
              "2020-09-20     1942.0\n",
              "2020-09-27     2250.0\n",
              "2020-10-04     2385.0\n",
              "2020-10-11     2465.0\n",
              "2020-10-18     2854.0\n",
              "2020-10-25     5060.0\n",
              "2020-11-01     9259.0\n",
              "2020-11-08    15558.0\n",
              "2020-11-15    17701.0\n",
              "2020-11-22    17611.0\n",
              "2020-11-29    12913.0\n",
              "2020-12-06    11534.0\n",
              "2020-12-13     9274.0\n",
              "2020-12-20     6643.0\n",
              "2020-12-27     4629.0\n",
              "2021-01-03     2804.0\n",
              "Freq: W-SUN, Name: new_cases, dtype: float64"
            ]
          },
          "metadata": {},
          "execution_count": 141
        }
      ]
    },
    {
      "cell_type": "markdown",
      "source": [
        "Oversampling"
      ],
      "metadata": {
        "id": "a9XD6BrgmRMk"
      }
    },
    {
      "cell_type": "code",
      "source": [
        "gr[-4:]['new_cases']"
      ],
      "metadata": {
        "colab": {
          "base_uri": "https://localhost:8080/"
        },
        "id": "0v5f_4HMmh6P",
        "outputId": "673389d5-f453-4ffe-c74d-9cd7abf2775d"
      },
      "execution_count": 142,
      "outputs": [
        {
          "output_type": "execute_result",
          "data": {
            "text/plain": [
              "date\n",
              "2020-12-28     342.0\n",
              "2020-12-29     475.0\n",
              "2020-12-30    1045.0\n",
              "2020-12-31     942.0\n",
              "Name: new_cases, dtype: float64"
            ]
          },
          "metadata": {},
          "execution_count": 142
        }
      ]
    },
    {
      "cell_type": "code",
      "source": [
        "gr[-20:]['new_cases'].resample('6H').asfreq()"
      ],
      "metadata": {
        "colab": {
          "base_uri": "https://localhost:8080/"
        },
        "id": "ds9Rwy1soxQy",
        "outputId": "8211d269-c7ec-4a7d-a8f4-e06a89903b80"
      },
      "execution_count": 164,
      "outputs": [
        {
          "output_type": "execute_result",
          "data": {
            "text/plain": [
              "date\n",
              "2020-12-12 00:00:00    1395.0\n",
              "2020-12-12 06:00:00       NaN\n",
              "2020-12-12 12:00:00       NaN\n",
              "2020-12-12 18:00:00       NaN\n",
              "2020-12-13 00:00:00    1194.0\n",
              "                        ...  \n",
              "2020-12-30 00:00:00    1045.0\n",
              "2020-12-30 06:00:00       NaN\n",
              "2020-12-30 12:00:00       NaN\n",
              "2020-12-30 18:00:00       NaN\n",
              "2020-12-31 00:00:00     942.0\n",
              "Freq: 6H, Name: new_cases, Length: 77, dtype: float64"
            ]
          },
          "metadata": {},
          "execution_count": 164
        }
      ]
    },
    {
      "cell_type": "code",
      "source": [
        "gr[-4:]['new_cases'].resample('6H').ffill()"
      ],
      "metadata": {
        "colab": {
          "base_uri": "https://localhost:8080/"
        },
        "id": "7HENQBcgmytS",
        "outputId": "5bef6568-f33e-4fb4-cadc-949cf17c2ee4"
      },
      "execution_count": 162,
      "outputs": [
        {
          "output_type": "execute_result",
          "data": {
            "text/plain": [
              "date\n",
              "2020-12-28 00:00:00     342.0\n",
              "2020-12-28 06:00:00     342.0\n",
              "2020-12-28 12:00:00     342.0\n",
              "2020-12-28 18:00:00     342.0\n",
              "2020-12-29 00:00:00     475.0\n",
              "2020-12-29 06:00:00     475.0\n",
              "2020-12-29 12:00:00     475.0\n",
              "2020-12-29 18:00:00     475.0\n",
              "2020-12-30 00:00:00    1045.0\n",
              "2020-12-30 06:00:00    1045.0\n",
              "2020-12-30 12:00:00    1045.0\n",
              "2020-12-30 18:00:00    1045.0\n",
              "2020-12-31 00:00:00     942.0\n",
              "Freq: 6H, Name: new_cases, dtype: float64"
            ]
          },
          "metadata": {},
          "execution_count": 162
        }
      ]
    },
    {
      "cell_type": "code",
      "source": [
        "gr[-4:]['new_cases'].resample('6H').interpolate()"
      ],
      "metadata": {
        "colab": {
          "base_uri": "https://localhost:8080/"
        },
        "id": "JJhvUvoOm6Qo",
        "outputId": "9adb94b3-2ea1-441d-8e92-25aeaf9749db"
      },
      "execution_count": 161,
      "outputs": [
        {
          "output_type": "execute_result",
          "data": {
            "text/plain": [
              "date\n",
              "2020-12-28 00:00:00     342.00\n",
              "2020-12-28 06:00:00     375.25\n",
              "2020-12-28 12:00:00     408.50\n",
              "2020-12-28 18:00:00     441.75\n",
              "2020-12-29 00:00:00     475.00\n",
              "2020-12-29 06:00:00     617.50\n",
              "2020-12-29 12:00:00     760.00\n",
              "2020-12-29 18:00:00     902.50\n",
              "2020-12-30 00:00:00    1045.00\n",
              "2020-12-30 06:00:00    1019.25\n",
              "2020-12-30 12:00:00     993.50\n",
              "2020-12-30 18:00:00     967.75\n",
              "2020-12-31 00:00:00     942.00\n",
              "Freq: 6H, Name: new_cases, dtype: float64"
            ]
          },
          "metadata": {},
          "execution_count": 161
        }
      ]
    },
    {
      "cell_type": "markdown",
      "source": [
        "Rolling"
      ],
      "metadata": {
        "id": "L8Zzdw-wpiiD"
      }
    },
    {
      "cell_type": "code",
      "source": [
        "gr[-7:]['new_cases']"
      ],
      "metadata": {
        "colab": {
          "base_uri": "https://localhost:8080/"
        },
        "id": "aYxMfye8q5Yl",
        "outputId": "f29cab1d-29f7-42df-ac1e-a68cb9c29072"
      },
      "execution_count": 165,
      "outputs": [
        {
          "output_type": "execute_result",
          "data": {
            "text/plain": [
              "date\n",
              "2020-12-25     870.0\n",
              "2020-12-26     617.0\n",
              "2020-12-27     262.0\n",
              "2020-12-28     342.0\n",
              "2020-12-29     475.0\n",
              "2020-12-30    1045.0\n",
              "2020-12-31     942.0\n",
              "Name: new_cases, dtype: float64"
            ]
          },
          "metadata": {},
          "execution_count": 165
        }
      ]
    },
    {
      "cell_type": "code",
      "source": [
        "gr[-7:]['new_cases'].rolling(3).mean()"
      ],
      "metadata": {
        "colab": {
          "base_uri": "https://localhost:8080/"
        },
        "id": "EBQsil3BrAbg",
        "outputId": "54454a6a-f77a-4ee0-ce59-24728ce23696"
      },
      "execution_count": 170,
      "outputs": [
        {
          "output_type": "execute_result",
          "data": {
            "text/plain": [
              "date\n",
              "2020-12-25    583.000000\n",
              "2020-12-26    407.000000\n",
              "2020-12-27    359.666667\n",
              "2020-12-28    620.666667\n",
              "2020-12-29    820.666667\n",
              "2020-12-30           NaN\n",
              "2020-12-31           NaN\n",
              "Name: new_cases, dtype: float64"
            ]
          },
          "metadata": {},
          "execution_count": 170
        }
      ]
    },
    {
      "cell_type": "code",
      "source": [
        "gr['new_cases'].plot(label='original')\n",
        "gr['new_cases'].rolling('7D').mean().plot(label='original')"
      ],
      "metadata": {
        "colab": {
          "base_uri": "https://localhost:8080/",
          "height": 483
        },
        "id": "AoIJYPQard62",
        "outputId": "35042154-7592-4a00-b5a3-79ad80b3fa03"
      },
      "execution_count": 168,
      "outputs": [
        {
          "output_type": "execute_result",
          "data": {
            "text/plain": [
              "<Axes: xlabel='date'>"
            ]
          },
          "metadata": {},
          "execution_count": 168
        },
        {
          "output_type": "display_data",
          "data": {
            "text/plain": [
              "<Figure size 640x480 with 1 Axes>"
            ],
            "image/png": "[encoded data removed]"
          },
          "metadata": {}
        }
      ]
    },
    {
      "cell_type": "code",
      "source": [],
      "metadata": {
        "id": "BhGwh-BBr9-b"
      },
      "execution_count": null,
      "outputs": []
    }
  ]
}