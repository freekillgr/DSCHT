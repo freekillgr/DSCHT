{
 "cells": [
  {
   "cell_type": "code",
   "execution_count": null,
   "id": "2f9f4278",
   "metadata": {},
   "outputs": [],
   "source": [
    "# Greece, greek, el\n",
    "# Germany, german, de\n",
    "# Spain, spanish, es\n",
    "# USA, nglish, en\n",
    "# England, english, en"
   ]
  },
  {
   "cell_type": "code",
   "execution_count": 15,
   "id": "ae578df9",
   "metadata": {},
   "outputs": [
    {
     "name": "stdout",
     "output_type": "stream",
     "text": [
      "Greece, greek, el\n",
      "Germany, german, de\n",
      "Spain, spanish, es\n",
      "USA, nglish, en\n",
      "England, english, en"
     ]
    }
   ],
   "source": [
    "#open\n",
    "file = open('input.csv')\n",
    "\n",
    "# process\n",
    "for line in file:\n",
    "    print(f'{line}', end='')\n",
    "    \n",
    "# close\n",
    "file.close()"
   ]
  },
  {
   "cell_type": "code",
   "execution_count": 19,
   "id": "096df631",
   "metadata": {},
   "outputs": [
    {
     "name": "stdout",
     "output_type": "stream",
     "text": [
      "Greece, greek, el\n",
      "Germany, german, de\n",
      "Spain, spanish, es\n",
      "USA, nglish, en\n",
      "England, english, en"
     ]
    }
   ],
   "source": [
    "with open('./data/input.csv') as file:\n",
    "    for line in file:\n",
    "        print(f'{line}', end='')"
   ]
  },
  {
   "cell_type": "code",
   "execution_count": 20,
   "id": "a18bbb91",
   "metadata": {},
   "outputs": [
    {
     "name": "stdout",
     "output_type": "stream",
     "text": [
      "['Greece, greek, el\\n', 'Germany, german, de\\n', 'Spain, spanish, es\\n', 'USA, nglish, en\\n', 'England, english, en']\n"
     ]
    }
   ],
   "source": [
    "with open('./data/input.csv', 'r', encoding='utf-8') as file:\n",
    "    lines = file.readlines()\n",
    "\n",
    "print(lines)\n",
    "    "
   ]
  },
  {
   "cell_type": "code",
   "execution_count": 22,
   "id": "8414efe2",
   "metadata": {},
   "outputs": [
    {
     "data": {
      "text/plain": [
       "[10, 15, 20, 25, 30, 35, 40, 45, 50, 55, 60, 65, 70, 75, 80, 85, 90, 95]"
      ]
     },
     "execution_count": 22,
     "metadata": {},
     "output_type": "execute_result"
    }
   ],
   "source": [
    "numbers = list(range(10, 100, 5))\n",
    "numbers"
   ]
  },
  {
   "cell_type": "code",
   "execution_count": 24,
   "id": "cf3c0c0c",
   "metadata": {},
   "outputs": [],
   "source": [
    "with open('data.txt', 'w', encoding='ascii') as file:\n",
    "    for n in numbers:\n",
    "        file.write(str(n))"
   ]
  },
  {
   "cell_type": "code",
   "execution_count": 25,
   "id": "82a1ce4c",
   "metadata": {},
   "outputs": [],
   "source": [
    "with open('data.txt', 'w', encoding='ascii') as file:\n",
    "    for n in numbers:\n",
    "        file.write(f'{n}\\n')"
   ]
  },
  {
   "cell_type": "markdown",
   "id": "f985d05a",
   "metadata": {},
   "source": [
    "r --> read only\n",
    "\n",
    "w --> write only\n",
    "\n",
    "r+ --> read write\n",
    "\n",
    "a --> append only\n",
    "\n",
    "a+ -> append read"
   ]
  },
  {
   "cell_type": "code",
   "execution_count": null,
   "id": "15ca849e",
   "metadata": {},
   "outputs": [],
   "source": []
  },
  {
   "cell_type": "code",
   "execution_count": null,
   "id": "4dd4faac",
   "metadata": {},
   "outputs": [],
   "source": []
  },
  {
   "cell_type": "code",
   "execution_count": null,
   "id": "707b2f89",
   "metadata": {},
   "outputs": [],
   "source": []
  }
 ],
 "metadata": {
  "kernelspec": {
   "display_name": "Python 3 (ipykernel)",
   "language": "python",
   "name": "python3"
  },
  "language_info": {
   "codemirror_mode": {
    "name": "ipython",
    "version": 3
   },
   "file_extension": ".py",
   "mimetype": "text/x-python",
   "name": "python",
   "nbconvert_exporter": "python",
   "pygments_lexer": "ipython3",
   "version": "3.11.1"
  }
 },
 "nbformat": 4,
 "nbformat_minor": 5
}
