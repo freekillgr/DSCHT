{
 "cells": [
  {
   "cell_type": "markdown",
   "id": "208d72ac",
   "metadata": {},
   "source": [
    "### List"
   ]
  },
  {
   "cell_type": "code",
   "execution_count": 6,
   "id": "49032c32",
   "metadata": {},
   "outputs": [],
   "source": [
    "l = []\n",
    "l = list()\n",
    "type(l)"
   ]
  },
  {
   "cell_type": "code",
   "execution_count": 74,
   "id": "e104d4dc",
   "metadata": {},
   "outputs": [
    {
     "name": "stdout",
     "output_type": "stream",
     "text": [
      "['a', 'b', 'c', 'd', 'e']\n",
      "L = [1, 2, 3, 4, 5]\n"
     ]
    }
   ],
   "source": [
    "l1 = ['a', 'b', 'c', 'd', 'e']\n",
    "l2 = [1, 2, 3, 4, 5]\n",
    "print(l1)\n",
    "print(f'L = {l2}')"
   ]
  },
  {
   "cell_type": "code",
   "execution_count": 24,
   "id": "df2059bf",
   "metadata": {},
   "outputs": [
    {
     "data": {
      "text/plain": [
       "[2, 4]"
      ]
     },
     "execution_count": 24,
     "metadata": {},
     "output_type": "execute_result"
    }
   ],
   "source": [
    "# slicing\n",
    "\n",
    "l1[0]\n",
    "l1[-1]\n",
    "l1[:]\n",
    "l1[2:4]\n",
    "l1[2:]\n",
    "l1[:3]\n",
    "l2[2:5:2]\n",
    "l2[::2]\n",
    "l2[1::2]"
   ]
  },
  {
   "cell_type": "code",
   "execution_count": 28,
   "id": "1a8b3594",
   "metadata": {},
   "outputs": [
    {
     "data": {
      "text/plain": [
       "[1, 3, 5, 7, 9, 11, 13, 15, 17, 19]"
      ]
     },
     "execution_count": 28,
     "metadata": {},
     "output_type": "execute_result"
    }
   ],
   "source": [
    "list(range(1,20, 2))"
   ]
  },
  {
   "cell_type": "code",
   "execution_count": 31,
   "id": "abce395e",
   "metadata": {},
   "outputs": [],
   "source": [
    "l1[2] = 15\n",
    "l1[1:3] = 20, 50"
   ]
  },
  {
   "cell_type": "code",
   "execution_count": 32,
   "id": "2c905cdc",
   "metadata": {},
   "outputs": [
    {
     "data": {
      "text/plain": [
       "['A', 20, 50, 'd']"
      ]
     },
     "execution_count": 32,
     "metadata": {},
     "output_type": "execute_result"
    }
   ],
   "source": [
    "l1"
   ]
  },
  {
   "cell_type": "code",
   "execution_count": 39,
   "id": "6a94a377",
   "metadata": {},
   "outputs": [],
   "source": [
    "num = 10\n",
    "\n",
    "del num"
   ]
  },
  {
   "cell_type": "code",
   "execution_count": 40,
   "id": "0e2f4634",
   "metadata": {},
   "outputs": [
    {
     "ename": "NameError",
     "evalue": "name 'num' is not defined",
     "output_type": "error",
     "traceback": [
      "\u001b[1;31m---------------------------------------------------------------------------\u001b[0m",
      "\u001b[1;31mNameError\u001b[0m                                 Traceback (most recent call last)",
      "Cell \u001b[1;32mIn[40], line 1\u001b[0m\n\u001b[1;32m----> 1\u001b[0m \u001b[43mnum\u001b[49m\n",
      "\u001b[1;31mNameError\u001b[0m: name 'num' is not defined"
     ]
    }
   ],
   "source": [
    "num"
   ]
  },
  {
   "cell_type": "code",
   "execution_count": 41,
   "id": "0e47e003",
   "metadata": {},
   "outputs": [
    {
     "data": {
      "text/plain": [
       "[1, 2, 3, 4, 5]"
      ]
     },
     "execution_count": 41,
     "metadata": {},
     "output_type": "execute_result"
    }
   ],
   "source": [
    "l2"
   ]
  },
  {
   "cell_type": "code",
   "execution_count": 52,
   "id": "7c6cf132",
   "metadata": {},
   "outputs": [],
   "source": [
    "del l2[2]    # deletes an element\n",
    "l2.insert(2, 13)  # insert index, value\n",
    "l2.extend([6, 7, 8])  # append all values \n",
    "# l2.remove(2)  # remove 1st occurance\n",
    "del l2"
   ]
  },
  {
   "cell_type": "code",
   "execution_count": 53,
   "id": "e6884047",
   "metadata": {},
   "outputs": [
    {
     "ename": "NameError",
     "evalue": "name 'l2' is not defined",
     "output_type": "error",
     "traceback": [
      "\u001b[1;31m---------------------------------------------------------------------------\u001b[0m",
      "\u001b[1;31mNameError\u001b[0m                                 Traceback (most recent call last)",
      "Cell \u001b[1;32mIn[53], line 1\u001b[0m\n\u001b[1;32m----> 1\u001b[0m \u001b[43ml2\u001b[49m\n",
      "\u001b[1;31mNameError\u001b[0m: name 'l2' is not defined"
     ]
    }
   ],
   "source": [
    "l2"
   ]
  },
  {
   "cell_type": "code",
   "execution_count": 59,
   "id": "491e09a7",
   "metadata": {},
   "outputs": [],
   "source": [
    "# stack\n",
    "stack = []\n",
    "stack.append(1)\n",
    "stack.append(2)\n",
    "stack.append(3)"
   ]
  },
  {
   "cell_type": "code",
   "execution_count": 57,
   "id": "d2b5a632",
   "metadata": {},
   "outputs": [
    {
     "data": {
      "text/plain": [
       "3"
      ]
     },
     "execution_count": 57,
     "metadata": {},
     "output_type": "execute_result"
    }
   ],
   "source": [
    "stack.pop()"
   ]
  },
  {
   "cell_type": "code",
   "execution_count": 58,
   "id": "ce852902",
   "metadata": {},
   "outputs": [
    {
     "data": {
      "text/plain": [
       "[1, 2]"
      ]
     },
     "execution_count": 58,
     "metadata": {},
     "output_type": "execute_result"
    }
   ],
   "source": [
    "stack"
   ]
  },
  {
   "cell_type": "code",
   "execution_count": 65,
   "id": "dc408b6c",
   "metadata": {},
   "outputs": [],
   "source": [
    "queue = stack[:]  # hard copy\n",
    "queue.append(4)\n",
    "queue.append(5)"
   ]
  },
  {
   "cell_type": "code",
   "execution_count": 67,
   "id": "84c2ce3f",
   "metadata": {},
   "outputs": [
    {
     "data": {
      "text/plain": [
       "1"
      ]
     },
     "execution_count": 67,
     "metadata": {},
     "output_type": "execute_result"
    }
   ],
   "source": [
    "queue.pop(0)"
   ]
  },
  {
   "cell_type": "code",
   "execution_count": 68,
   "id": "92e5c729",
   "metadata": {},
   "outputs": [
    {
     "data": {
      "text/plain": [
       "[1, 2, 3]"
      ]
     },
     "execution_count": 68,
     "metadata": {},
     "output_type": "execute_result"
    }
   ],
   "source": [
    "A = [1, 2, 3]\n",
    "B = A\n",
    "B"
   ]
  },
  {
   "cell_type": "code",
   "execution_count": 69,
   "id": "7c5d3f9a",
   "metadata": {},
   "outputs": [],
   "source": [
    "B[1] = 1000"
   ]
  },
  {
   "cell_type": "code",
   "execution_count": 70,
   "id": "2eda1504",
   "metadata": {},
   "outputs": [
    {
     "data": {
      "text/plain": [
       "[1, 1000, 3]"
      ]
     },
     "execution_count": 70,
     "metadata": {},
     "output_type": "execute_result"
    }
   ],
   "source": [
    "A"
   ]
  },
  {
   "cell_type": "code",
   "execution_count": 78,
   "id": "109706f7",
   "metadata": {},
   "outputs": [
    {
     "data": {
      "text/plain": [
       "1"
      ]
     },
     "execution_count": 78,
     "metadata": {},
     "output_type": "execute_result"
    }
   ],
   "source": [
    "len(l2)\n",
    "max(l2)\n",
    "min(l2)\n",
    "sum(l2)\n",
    "\n",
    "l1.count('a')"
   ]
  },
  {
   "cell_type": "code",
   "execution_count": 79,
   "id": "022b8cf5",
   "metadata": {},
   "outputs": [
    {
     "data": {
      "text/plain": [
       "False"
      ]
     },
     "execution_count": 79,
     "metadata": {},
     "output_type": "execute_result"
    }
   ],
   "source": [
    "# membership\n",
    "2 in l1\n"
   ]
  },
  {
   "cell_type": "code",
   "execution_count": 80,
   "id": "5ee7600b",
   "metadata": {},
   "outputs": [
    {
     "data": {
      "text/plain": [
       "True"
      ]
     },
     "execution_count": 80,
     "metadata": {},
     "output_type": "execute_result"
    }
   ],
   "source": [
    "2 in l2"
   ]
  },
  {
   "cell_type": "code",
   "execution_count": 82,
   "id": "8cae623b",
   "metadata": {},
   "outputs": [
    {
     "data": {
      "text/plain": [
       "['a', 'b', 'c', 'd', 'e', 1, 2, 3, 4, 5]"
      ]
     },
     "execution_count": 82,
     "metadata": {},
     "output_type": "execute_result"
    }
   ],
   "source": [
    "l1 + l2"
   ]
  },
  {
   "cell_type": "markdown",
   "id": "dc89d5dc",
   "metadata": {},
   "source": [
    "### Tuple immutable"
   ]
  },
  {
   "cell_type": "code",
   "execution_count": 103,
   "id": "1e5922c9",
   "metadata": {},
   "outputs": [],
   "source": [
    "t0 = ()\n",
    "t00 = tuple()\n",
    "t1 = 1, 2, 3, 4, 5\n",
    "t2 = ('a', 'b', 'c', 'd', 'e')"
   ]
  },
  {
   "cell_type": "code",
   "execution_count": 94,
   "id": "edffad89",
   "metadata": {},
   "outputs": [
    {
     "data": {
      "text/plain": [
       "('a', 'b', 'c', 'd', 'e')"
      ]
     },
     "execution_count": 94,
     "metadata": {},
     "output_type": "execute_result"
    }
   ],
   "source": [
    "t2"
   ]
  },
  {
   "cell_type": "code",
   "execution_count": 95,
   "id": "a2073bc4",
   "metadata": {},
   "outputs": [
    {
     "data": {
      "text/plain": [
       "(tuple, tuple)"
      ]
     },
     "execution_count": 95,
     "metadata": {},
     "output_type": "execute_result"
    }
   ],
   "source": [
    "type(t1), type(t2)"
   ]
  },
  {
   "cell_type": "code",
   "execution_count": 96,
   "id": "47ad1dac",
   "metadata": {},
   "outputs": [
    {
     "ename": "AttributeError",
     "evalue": "'tuple' object has no attribute 'append'",
     "output_type": "error",
     "traceback": [
      "\u001b[1;31m---------------------------------------------------------------------------\u001b[0m",
      "\u001b[1;31mAttributeError\u001b[0m                            Traceback (most recent call last)",
      "Cell \u001b[1;32mIn[96], line 1\u001b[0m\n\u001b[1;32m----> 1\u001b[0m \u001b[43mt1\u001b[49m\u001b[38;5;241;43m.\u001b[39;49m\u001b[43mappend\u001b[49m(\u001b[38;5;241m10\u001b[39m)\n",
      "\u001b[1;31mAttributeError\u001b[0m: 'tuple' object has no attribute 'append'"
     ]
    }
   ],
   "source": [
    "t1.append(10)"
   ]
  },
  {
   "cell_type": "code",
   "execution_count": 99,
   "id": "63e7ead9",
   "metadata": {},
   "outputs": [
    {
     "data": {
      "text/plain": [
       "(3, 4, 5)"
      ]
     },
     "execution_count": 99,
     "metadata": {},
     "output_type": "execute_result"
    }
   ],
   "source": [
    "t1[2:5:1]"
   ]
  },
  {
   "cell_type": "code",
   "execution_count": 101,
   "id": "6dd15d49",
   "metadata": {},
   "outputs": [
    {
     "ename": "TypeError",
     "evalue": "'tuple' object does not support item assignment",
     "output_type": "error",
     "traceback": [
      "\u001b[1;31m---------------------------------------------------------------------------\u001b[0m",
      "\u001b[1;31mTypeError\u001b[0m                                 Traceback (most recent call last)",
      "Cell \u001b[1;32mIn[101], line 1\u001b[0m\n\u001b[1;32m----> 1\u001b[0m \u001b[43mt1\u001b[49m\u001b[43m[\u001b[49m\u001b[38;5;241;43m3\u001b[39;49m\u001b[43m]\u001b[49m \u001b[38;5;241m=\u001b[39m \u001b[38;5;241m332\u001b[39m\n",
      "\u001b[1;31mTypeError\u001b[0m: 'tuple' object does not support item assignment"
     ]
    }
   ],
   "source": [
    "t1[3] = 332"
   ]
  },
  {
   "cell_type": "code",
   "execution_count": 107,
   "id": "5046e7d0",
   "metadata": {},
   "outputs": [
    {
     "data": {
      "text/plain": [
       "(20, 10)"
      ]
     },
     "execution_count": 107,
     "metadata": {},
     "output_type": "execute_result"
    }
   ],
   "source": [
    "a = 10 \n",
    "b = 20\n",
    "\n",
    "x, y = b, a\n",
    "x, y"
   ]
  },
  {
   "cell_type": "markdown",
   "id": "a01b81b6",
   "metadata": {},
   "source": [
    "### Set"
   ]
  },
  {
   "cell_type": "code",
   "execution_count": 118,
   "id": "52f1c53a",
   "metadata": {},
   "outputs": [],
   "source": [
    "s1 = {}\n",
    "s1 = set()\n",
    "s2 = {1,2,3,4,5,4,4,4,3,3,2}\n",
    "s3 = {True, True, False, None}"
   ]
  },
  {
   "cell_type": "code",
   "execution_count": 116,
   "id": "855cce37",
   "metadata": {},
   "outputs": [
    {
     "data": {
      "text/plain": [
       "{1, 2, 3, 4, 5}"
      ]
     },
     "execution_count": 116,
     "metadata": {},
     "output_type": "execute_result"
    }
   ],
   "source": [
    "s2"
   ]
  },
  {
   "cell_type": "code",
   "execution_count": 110,
   "id": "7ed5551f",
   "metadata": {},
   "outputs": [
    {
     "data": {
      "text/plain": [
       "True"
      ]
     },
     "execution_count": 110,
     "metadata": {},
     "output_type": "execute_result"
    }
   ],
   "source": [
    "1 in s2"
   ]
  },
  {
   "cell_type": "code",
   "execution_count": 119,
   "id": "73103d39",
   "metadata": {},
   "outputs": [
    {
     "data": {
      "text/plain": [
       "{1, 2, 3, 4, 5, False, None}"
      ]
     },
     "execution_count": 119,
     "metadata": {},
     "output_type": "execute_result"
    }
   ],
   "source": [
    "# s3.union(s2)\n",
    "s2.union(s3)"
   ]
  },
  {
   "cell_type": "code",
   "execution_count": 114,
   "id": "020794a2",
   "metadata": {},
   "outputs": [
    {
     "data": {
      "text/plain": [
       "{True}"
      ]
     },
     "execution_count": 114,
     "metadata": {},
     "output_type": "execute_result"
    }
   ],
   "source": [
    "s3.intersection(s2)"
   ]
  },
  {
   "cell_type": "markdown",
   "id": "5c2e3061",
   "metadata": {},
   "source": [
    "### Dictionary"
   ]
  },
  {
   "cell_type": "code",
   "execution_count": 120,
   "id": "843f1268",
   "metadata": {},
   "outputs": [],
   "source": [
    "l1 = ['Jack', 12, '6576545443']"
   ]
  },
  {
   "cell_type": "code",
   "execution_count": 123,
   "id": "93182195",
   "metadata": {},
   "outputs": [
    {
     "data": {
      "text/plain": [
       "'Jack'"
      ]
     },
     "execution_count": 123,
     "metadata": {},
     "output_type": "execute_result"
    }
   ],
   "source": [
    "l1[0]"
   ]
  },
  {
   "cell_type": "code",
   "execution_count": 126,
   "id": "3ca3e310",
   "metadata": {},
   "outputs": [],
   "source": [
    "d1 = {}\n",
    "d1 = dict()\n",
    "\n",
    "d1 = {'Name': 'Jack', 'Age': 12, 'Phone': '6576545443'}"
   ]
  },
  {
   "cell_type": "code",
   "execution_count": 129,
   "id": "226ed929",
   "metadata": {},
   "outputs": [
    {
     "ename": "KeyError",
     "evalue": "'PO'",
     "output_type": "error",
     "traceback": [
      "\u001b[1;31m---------------------------------------------------------------------------\u001b[0m",
      "\u001b[1;31mKeyError\u001b[0m                                  Traceback (most recent call last)",
      "Cell \u001b[1;32mIn[129], line 2\u001b[0m\n\u001b[0;32m      1\u001b[0m d1[\u001b[38;5;124m'\u001b[39m\u001b[38;5;124mAge\u001b[39m\u001b[38;5;124m'\u001b[39m]\n\u001b[1;32m----> 2\u001b[0m \u001b[43md1\u001b[49m\u001b[43m[\u001b[49m\u001b[38;5;124;43m'\u001b[39;49m\u001b[38;5;124;43mPO\u001b[39;49m\u001b[38;5;124;43m'\u001b[39;49m\u001b[43m]\u001b[49m\n",
      "\u001b[1;31mKeyError\u001b[0m: 'PO'"
     ]
    }
   ],
   "source": [
    "d1['Age']\n",
    "d1['PO'] # error"
   ]
  },
  {
   "cell_type": "code",
   "execution_count": 130,
   "id": "579a1294",
   "metadata": {},
   "outputs": [],
   "source": [
    "d1['PO'] = 12874"
   ]
  },
  {
   "cell_type": "code",
   "execution_count": 131,
   "id": "31cb47a5",
   "metadata": {},
   "outputs": [
    {
     "data": {
      "text/plain": [
       "{'Name': 'Jack', 'Age': 12, 'Phone': '6576545443', 'PO': 12874}"
      ]
     },
     "execution_count": 131,
     "metadata": {},
     "output_type": "execute_result"
    }
   ],
   "source": [
    "d1"
   ]
  },
  {
   "cell_type": "code",
   "execution_count": 132,
   "id": "46744572",
   "metadata": {},
   "outputs": [],
   "source": [
    "d1['PO'] = 65458"
   ]
  },
  {
   "cell_type": "code",
   "execution_count": 133,
   "id": "878b9383",
   "metadata": {},
   "outputs": [
    {
     "data": {
      "text/plain": [
       "{'Name': 'Jack', 'Age': 12, 'Phone': '6576545443', 'PO': 65458}"
      ]
     },
     "execution_count": 133,
     "metadata": {},
     "output_type": "execute_result"
    }
   ],
   "source": [
    "d1"
   ]
  },
  {
   "cell_type": "code",
   "execution_count": 134,
   "id": "e76bb3b3",
   "metadata": {},
   "outputs": [],
   "source": [
    "d2 = d1.copy()\n",
    "d1.get('PO')"
   ]
  },
  {
   "cell_type": "code",
   "execution_count": 136,
   "id": "1283f31a",
   "metadata": {},
   "outputs": [
    {
     "name": "stdout",
     "output_type": "stream",
     "text": [
      "Name\n",
      "Age\n",
      "Phone\n",
      "PO\n"
     ]
    }
   ],
   "source": [
    "for key in d2:\n",
    "    print(key)"
   ]
  },
  {
   "cell_type": "code",
   "execution_count": 137,
   "id": "f806500a",
   "metadata": {},
   "outputs": [
    {
     "name": "stdout",
     "output_type": "stream",
     "text": [
      "Jack\n",
      "12\n",
      "6576545443\n",
      "65458\n"
     ]
    }
   ],
   "source": [
    "for key in d2:\n",
    "    print(d2.get(key))"
   ]
  },
  {
   "cell_type": "code",
   "execution_count": 138,
   "id": "37b54a24",
   "metadata": {},
   "outputs": [
    {
     "data": {
      "text/plain": [
       "dict_keys(['Name', 'Age', 'Phone', 'PO'])"
      ]
     },
     "execution_count": 138,
     "metadata": {},
     "output_type": "execute_result"
    }
   ],
   "source": [
    "d1.keys()"
   ]
  },
  {
   "cell_type": "code",
   "execution_count": 139,
   "id": "600f5446",
   "metadata": {},
   "outputs": [
    {
     "data": {
      "text/plain": [
       "dict_values(['Jack', 12, '6576545443', 65458])"
      ]
     },
     "execution_count": 139,
     "metadata": {},
     "output_type": "execute_result"
    }
   ],
   "source": [
    "d1.values()"
   ]
  },
  {
   "cell_type": "code",
   "execution_count": 140,
   "id": "bfff5dd3",
   "metadata": {},
   "outputs": [
    {
     "data": {
      "text/plain": [
       "dict_items([('Name', 'Jack'), ('Age', 12), ('Phone', '6576545443'), ('PO', 65458)])"
      ]
     },
     "execution_count": 140,
     "metadata": {},
     "output_type": "execute_result"
    }
   ],
   "source": [
    "d1.items()"
   ]
  },
  {
   "cell_type": "code",
   "execution_count": 141,
   "id": "448a0355",
   "metadata": {},
   "outputs": [
    {
     "name": "stdout",
     "output_type": "stream",
     "text": [
      "('Name', 'Jack')\n",
      "('Age', 12)\n",
      "('Phone', '6576545443')\n",
      "('PO', 65458)\n"
     ]
    }
   ],
   "source": [
    "for item in d1.items():\n",
    "    print(item)"
   ]
  },
  {
   "cell_type": "code",
   "execution_count": 145,
   "id": "42a78f68",
   "metadata": {},
   "outputs": [
    {
     "name": "stdout",
     "output_type": "stream",
     "text": [
      "Name --> Jack\n",
      "Age --> 12\n",
      "Phone --> 6576545443\n",
      "PO --> 65458\n"
     ]
    }
   ],
   "source": [
    "for (key, value) in d1.items():\n",
    "    print(f'{key} --> {value}')"
   ]
  },
  {
   "cell_type": "code",
   "execution_count": 147,
   "id": "428439cc",
   "metadata": {},
   "outputs": [
    {
     "data": {
      "text/plain": [
       "65458"
      ]
     },
     "execution_count": 147,
     "metadata": {},
     "output_type": "execute_result"
    }
   ],
   "source": [
    "d1.setdefault('PO', 10)"
   ]
  },
  {
   "cell_type": "code",
   "execution_count": 146,
   "id": "7c5462c9",
   "metadata": {},
   "outputs": [
    {
     "data": {
      "text/plain": [
       "{'Name': 'Jack', 'Age': 12, 'Phone': '6576545443', 'PO': 65458}"
      ]
     },
     "execution_count": 146,
     "metadata": {},
     "output_type": "execute_result"
    }
   ],
   "source": []
  },
  {
   "cell_type": "code",
   "execution_count": 148,
   "id": "bb1c9705",
   "metadata": {},
   "outputs": [],
   "source": [
    "d1.get('Address')"
   ]
  },
  {
   "cell_type": "code",
   "execution_count": 153,
   "id": "ab93a3c2",
   "metadata": {},
   "outputs": [
    {
     "data": {
      "text/plain": [
       "10"
      ]
     },
     "execution_count": 153,
     "metadata": {},
     "output_type": "execute_result"
    }
   ],
   "source": [
    "# d1.setdefault('Address') # --> None\n",
    "d1.setdefault('Second Address', 10)"
   ]
  },
  {
   "cell_type": "code",
   "execution_count": 154,
   "id": "a2e40b97",
   "metadata": {},
   "outputs": [
    {
     "data": {
      "text/plain": [
       "{'Name': 'Jack',\n",
       " 'Age': 12,\n",
       " 'Phone': '6576545443',\n",
       " 'PO': 65458,\n",
       " 'Address': None,\n",
       " 'Second Address': 10}"
      ]
     },
     "execution_count": 154,
     "metadata": {},
     "output_type": "execute_result"
    }
   ],
   "source": [
    "d1"
   ]
  },
  {
   "cell_type": "code",
   "execution_count": null,
   "id": "6a5ee664",
   "metadata": {},
   "outputs": [],
   "source": []
  },
  {
   "cell_type": "code",
   "execution_count": null,
   "id": "ad05b21d",
   "metadata": {},
   "outputs": [],
   "source": []
  }
 ],
 "metadata": {
  "kernelspec": {
   "display_name": "Python 3 (ipykernel)",
   "language": "python",
   "name": "python3"
  },
  "language_info": {
   "codemirror_mode": {
    "name": "ipython",
    "version": 3
   },
   "file_extension": ".py",
   "mimetype": "text/x-python",
   "name": "python",
   "nbconvert_exporter": "python",
   "pygments_lexer": "ipython3",
   "version": "3.11.1"
  }
 },
 "nbformat": 4,
 "nbformat_minor": 5
}
