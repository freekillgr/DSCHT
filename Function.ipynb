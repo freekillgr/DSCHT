{
 "cells": [
  {
   "cell_type": "code",
   "execution_count": 1,
   "id": "c6b3f699",
   "metadata": {},
   "outputs": [],
   "source": [
    "def get_weight():\n",
    "    weight = int(input('Enter weight: '))\n",
    "    \n",
    "    # defensive programming\n",
    "    while weight <= 0:\n",
    "        print(f'Wrong weight. Please enter again...')\n",
    "        weight = int(input('Enter weight:'))\n",
    "    \n",
    "    return weight "
   ]
  },
  {
   "cell_type": "code",
   "execution_count": 2,
   "id": "4f95a3ae",
   "metadata": {},
   "outputs": [],
   "source": [
    "def calculate_cost(weight):\n",
    "#     total_cost = 100 + weight * 0.5\n",
    "#     return total_cost\n",
    "\n",
    "    return 100 + weight * 0.5"
   ]
  },
  {
   "cell_type": "code",
   "execution_count": 3,
   "id": "2775445e",
   "metadata": {},
   "outputs": [],
   "source": [
    "def display_receipt(weight = 0, cost = 0):\n",
    "    print(f'Total cost of package weighting {weight} gr is {cost}')"
   ]
  },
  {
   "cell_type": "code",
   "execution_count": 4,
   "id": "b831cb29",
   "metadata": {},
   "outputs": [
    {
     "name": "stdout",
     "output_type": "stream",
     "text": [
      "Enter weight: 20\n",
      "Total cost of package weighting 20 gr is 110.0\n"
     ]
    }
   ],
   "source": [
    "weight = get_weight()\n",
    "cost = calculate_cost(weight)\n",
    "display_receipt(weight,cost)"
   ]
  },
  {
   "cell_type": "code",
   "execution_count": 5,
   "id": "7e2e8576",
   "metadata": {},
   "outputs": [
    {
     "name": "stdout",
     "output_type": "stream",
     "text": [
      "Total cost of package weighting 0 gr is 0\n",
      "Total cost of package weighting 20 gr is 0\n",
      "Total cost of package weighting 20 gr is 30\n",
      "Total cost of package weighting 0 gr is 30\n"
     ]
    }
   ],
   "source": [
    "display_receipt()\n",
    "display_receipt(20)\n",
    "display_receipt(20, 30)\n",
    "display_receipt(cost=30)"
   ]
  },
  {
   "cell_type": "code",
   "execution_count": 9,
   "id": "40ac6335",
   "metadata": {},
   "outputs": [],
   "source": [
    "var = display_receipt"
   ]
  },
  {
   "cell_type": "code",
   "execution_count": 10,
   "id": "36f121d5",
   "metadata": {},
   "outputs": [
    {
     "name": "stdout",
     "output_type": "stream",
     "text": [
      "<function display_receipt at 0x000002CF31903380>\n"
     ]
    }
   ],
   "source": [
    "print(var)"
   ]
  },
  {
   "cell_type": "code",
   "execution_count": 11,
   "id": "5eae1c26",
   "metadata": {},
   "outputs": [
    {
     "name": "stdout",
     "output_type": "stream",
     "text": [
      "Total cost of package weighting 40 gr is 0\n"
     ]
    }
   ],
   "source": [
    "var(40)\n",
    "var(45, 23)"
   ]
  },
  {
   "cell_type": "code",
   "execution_count": 62,
   "id": "ebc08dcc",
   "metadata": {},
   "outputs": [
    {
     "data": {
      "text/plain": [
       "(10, 20)"
      ]
     },
     "execution_count": 62,
     "metadata": {},
     "output_type": "execute_result"
    }
   ],
   "source": [
    "def example():\n",
    "    a = 10\n",
    "    b = 20\n",
    "    return a, b\n",
    "\n",
    "x, y = example()\n",
    "x, y"
   ]
  },
  {
   "cell_type": "code",
   "execution_count": 64,
   "id": "6bd70bac",
   "metadata": {},
   "outputs": [
    {
     "data": {
      "text/plain": [
       "20"
      ]
     },
     "execution_count": 64,
     "metadata": {},
     "output_type": "execute_result"
    }
   ],
   "source": [
    "def example():\n",
    "    a = 10\n",
    "    b = 20\n",
    "    \n",
    "    if 0 < a < 20:\n",
    "        return b \n",
    "\n",
    "x = example()\n",
    "x"
   ]
  },
  {
   "cell_type": "markdown",
   "id": "5f4e2ad6",
   "metadata": {},
   "source": [
    "### Lambdas"
   ]
  },
  {
   "cell_type": "code",
   "execution_count": 19,
   "id": "51d6e77d",
   "metadata": {},
   "outputs": [
    {
     "data": {
      "text/plain": [
       "25"
      ]
     },
     "execution_count": 19,
     "metadata": {},
     "output_type": "execute_result"
    }
   ],
   "source": [
    "def sq(num):\n",
    "    ''' a function that squares a number '''\n",
    "    return num ** 2\n",
    "\n",
    "sq(5)"
   ]
  },
  {
   "cell_type": "code",
   "execution_count": 21,
   "id": "acc69ca5",
   "metadata": {},
   "outputs": [
    {
     "data": {
      "text/plain": [
       "25"
      ]
     },
     "execution_count": 21,
     "metadata": {},
     "output_type": "execute_result"
    }
   ],
   "source": [
    "square = lambda num: num ** 2\n",
    "\n",
    "square(5)\n",
    "# square(2)"
   ]
  },
  {
   "cell_type": "code",
   "execution_count": 15,
   "id": "c9938089",
   "metadata": {},
   "outputs": [
    {
     "name": "stdout",
     "output_type": "stream",
     "text": [
      "Help on function sq in module __main__:\n",
      "\n",
      "sq(num)\n",
      "    a function that squares a number\n",
      "\n"
     ]
    }
   ],
   "source": [
    "help(sq)"
   ]
  },
  {
   "cell_type": "code",
   "execution_count": 17,
   "id": "fb58b359",
   "metadata": {},
   "outputs": [
    {
     "data": {
      "text/plain": [
       "' a function that squares a number '"
      ]
     },
     "execution_count": 17,
     "metadata": {},
     "output_type": "execute_result"
    }
   ],
   "source": [
    "sq.__doc__"
   ]
  },
  {
   "cell_type": "code",
   "execution_count": 18,
   "id": "32781d38",
   "metadata": {},
   "outputs": [],
   "source": [
    "??sq"
   ]
  },
  {
   "cell_type": "code",
   "execution_count": 25,
   "id": "f5061607",
   "metadata": {},
   "outputs": [],
   "source": [
    "names = [('nik', 25), ('anna', 49), ('vaso', 22), ('petros', 30)]"
   ]
  },
  {
   "cell_type": "code",
   "execution_count": 28,
   "id": "97e618ee",
   "metadata": {},
   "outputs": [
    {
     "data": {
      "text/plain": [
       "[2, 5, 8, 9]"
      ]
     },
     "execution_count": 28,
     "metadata": {},
     "output_type": "execute_result"
    }
   ],
   "source": [
    "numbers = [9, 5, 2 , 8]\n",
    "numbers.sort()\n",
    "numbers"
   ]
  },
  {
   "cell_type": "code",
   "execution_count": 29,
   "id": "f047d5cb",
   "metadata": {},
   "outputs": [
    {
     "data": {
      "text/plain": [
       "[('anna', 49), ('nik', 25), ('petros', 30), ('vaso', 22)]"
      ]
     },
     "execution_count": 29,
     "metadata": {},
     "output_type": "execute_result"
    }
   ],
   "source": [
    "names.sort()\n",
    "names"
   ]
  },
  {
   "cell_type": "code",
   "execution_count": 30,
   "id": "8672c10e",
   "metadata": {},
   "outputs": [
    {
     "data": {
      "text/plain": [
       "[('vaso', 22), ('nik', 25), ('petros', 30), ('anna', 49)]"
      ]
     },
     "execution_count": 30,
     "metadata": {},
     "output_type": "execute_result"
    }
   ],
   "source": [
    "names.sort(key=lambda x: x[1])\n",
    "names"
   ]
  },
  {
   "cell_type": "markdown",
   "id": "d0341780",
   "metadata": {},
   "source": [
    "### Scopes"
   ]
  },
  {
   "cell_type": "code",
   "execution_count": 31,
   "id": "87ddee08",
   "metadata": {},
   "outputs": [
    {
     "name": "stdout",
     "output_type": "stream",
     "text": [
      "1\n",
      "1\n"
     ]
    }
   ],
   "source": [
    "a = 1  # declared in global scope\n",
    "\n",
    "def func1():\n",
    "    print(a) # access --> global scope\n",
    "    \n",
    "func1()\n",
    "\n",
    "print(a)   # no change"
   ]
  },
  {
   "cell_type": "code",
   "execution_count": 32,
   "id": "24c6dd41",
   "metadata": {},
   "outputs": [
    {
     "name": "stdout",
     "output_type": "stream",
     "text": [
      "3\n",
      "2\n"
     ]
    }
   ],
   "source": [
    "b = 2   # global\n",
    "\n",
    "def func2():\n",
    "    b = 3     # function scope\n",
    "    print(b)\n",
    "\n",
    "func2()\n",
    "print(b)"
   ]
  },
  {
   "cell_type": "code",
   "execution_count": 34,
   "id": "4bd42c88",
   "metadata": {},
   "outputs": [
    {
     "name": "stdout",
     "output_type": "stream",
     "text": [
      "3\n"
     ]
    }
   ],
   "source": [
    "c = 3   # global\n",
    "\n",
    "def func3():\n",
    "    c = c + 1   # local\n",
    "    print(c)\n",
    "    \n",
    "func3()"
   ]
  },
  {
   "cell_type": "code",
   "execution_count": 36,
   "id": "169ee3bf",
   "metadata": {},
   "outputs": [
    {
     "name": "stdout",
     "output_type": "stream",
     "text": [
      "5\n",
      "5\n"
     ]
    }
   ],
   "source": [
    "e = 15\n",
    "\n",
    "def func6():\n",
    "    global e\n",
    "    e = 5\n",
    "    print(e)\n",
    "\n",
    "func6()\n",
    "\n",
    "print(e)"
   ]
  },
  {
   "cell_type": "code",
   "execution_count": 37,
   "id": "f26c744f",
   "metadata": {},
   "outputs": [
    {
     "name": "stdout",
     "output_type": "stream",
     "text": [
      "6 10\n",
      "6\n",
      "10\n"
     ]
    }
   ],
   "source": [
    "f = 6\n",
    "if f > 5:\n",
    "    g = 10\n",
    "    print(f, g)\n",
    "    \n",
    "print(f)\n",
    "print(g)"
   ]
  },
  {
   "cell_type": "code",
   "execution_count": 47,
   "id": "de3cc2ee",
   "metadata": {},
   "outputs": [
    {
     "name": "stdout",
     "output_type": "stream",
     "text": [
      "5\n",
      "6\n",
      "7\n",
      "8\n",
      "9\n"
     ]
    }
   ],
   "source": [
    "d = 10\n",
    "\n",
    "def func4():\n",
    "    d = 4      # local stin 4\n",
    "    \n",
    "    def func5():\n",
    "#         global d\n",
    "        nonlocal d\n",
    "        d += 1    # local stin 5   d  = d + 1\n",
    "        print(d)\n",
    "        \n",
    "    return func5\n",
    "\n",
    "run_now = func4()\n",
    "run_now()\n",
    "run_now()\n",
    "run_now()\n",
    "run_now()\n",
    "run_now()"
   ]
  },
  {
   "cell_type": "code",
   "execution_count": 39,
   "id": "2d344416",
   "metadata": {},
   "outputs": [
    {
     "data": {
      "text/plain": [
       "<function __main__.func4()>"
      ]
     },
     "execution_count": 39,
     "metadata": {},
     "output_type": "execute_result"
    }
   ],
   "source": [
    "run_now"
   ]
  },
  {
   "cell_type": "code",
   "execution_count": 55,
   "id": "f2c149ba",
   "metadata": {},
   "outputs": [],
   "source": [
    "def counter():\n",
    "    count = 5\n",
    "    count = count + 1\n",
    "    print(count)"
   ]
  },
  {
   "cell_type": "code",
   "execution_count": 58,
   "id": "b72b6f0b",
   "metadata": {},
   "outputs": [],
   "source": [
    "var = counter"
   ]
  },
  {
   "cell_type": "code",
   "execution_count": 59,
   "id": "22cce6e3",
   "metadata": {},
   "outputs": [
    {
     "name": "stdout",
     "output_type": "stream",
     "text": [
      "6\n"
     ]
    }
   ],
   "source": [
    "counter()"
   ]
  },
  {
   "cell_type": "code",
   "execution_count": 60,
   "id": "2dd19026",
   "metadata": {},
   "outputs": [
    {
     "name": "stdout",
     "output_type": "stream",
     "text": [
      "6\n"
     ]
    }
   ],
   "source": [
    "var()"
   ]
  },
  {
   "cell_type": "code",
   "execution_count": 61,
   "id": "b24efc7f",
   "metadata": {},
   "outputs": [
    {
     "name": "stdout",
     "output_type": "stream",
     "text": [
      "6\n"
     ]
    }
   ],
   "source": [
    "var()"
   ]
  },
  {
   "cell_type": "code",
   "execution_count": null,
   "id": "bbf941f9",
   "metadata": {},
   "outputs": [],
   "source": []
  },
  {
   "cell_type": "code",
   "execution_count": null,
   "id": "44a4c6b7",
   "metadata": {},
   "outputs": [],
   "source": []
  },
  {
   "cell_type": "code",
   "execution_count": null,
   "id": "9be1fd77",
   "metadata": {},
   "outputs": [],
   "source": []
  },
  {
   "cell_type": "code",
   "execution_count": null,
   "id": "0244a156",
   "metadata": {},
   "outputs": [],
   "source": []
  }
 ],
 "metadata": {
  "kernelspec": {
   "display_name": "Python 3 (ipykernel)",
   "language": "python",
   "name": "python3"
  },
  "language_info": {
   "codemirror_mode": {
    "name": "ipython",
    "version": 3
   },
   "file_extension": ".py",
   "mimetype": "text/x-python",
   "name": "python",
   "nbconvert_exporter": "python",
   "pygments_lexer": "ipython3",
   "version": "3.11.1"
  }
 },
 "nbformat": 4,
 "nbformat_minor": 5
}
