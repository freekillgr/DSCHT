{
 "cells": [
  {
   "cell_type": "code",
   "execution_count": 54,
   "id": "eb1a5ed6",
   "metadata": {},
   "outputs": [],
   "source": [
    "class Account:\n",
    "    \n",
    "    # constructor\n",
    "    def __init__(self, balance, rate):\n",
    "        self.balance = balance\n",
    "        self.rate = rate\n",
    "        \n",
    "    # ------------------------------------------       \n",
    "    # methods    \n",
    "    def printAccount(self):\n",
    "        print(f'{self.balance}, {self.rate}')\n",
    "    \n",
    "    def increase(self):\n",
    "        self.balance = self.balance * self.rate\n",
    "        \n",
    "    # -------------------------------------------\n",
    "    # setters\n",
    "    def setBalance(self, balance):\n",
    "        self.balance = balance\n",
    "        \n",
    "    def setRate(self, rate):\n",
    "        self.rate = rate\n",
    "        \n",
    "    # getters\n",
    "    def getBalance(self):\n",
    "        return self.balance\n",
    "    \n",
    "    def getRate(self):\n",
    "        return self.rate\n",
    "    \n",
    "    # to string \n",
    "    def __str__(self):\n",
    "        return f'{self.balance}, {self.rate}'\n",
    "        "
   ]
  },
  {
   "cell_type": "code",
   "execution_count": 55,
   "id": "29dd3ebf",
   "metadata": {},
   "outputs": [],
   "source": [
    "account1 = Account(100, 5)\n",
    "account2 = Account(200, 3)"
   ]
  },
  {
   "cell_type": "code",
   "execution_count": 56,
   "id": "3faaccba",
   "metadata": {},
   "outputs": [
    {
     "name": "stdout",
     "output_type": "stream",
     "text": [
      "100, 5\n",
      "200, 3\n"
     ]
    }
   ],
   "source": [
    "account1.printAccount()\n",
    "account2.printAccount()"
   ]
  },
  {
   "cell_type": "code",
   "execution_count": 57,
   "id": "e41f1f0e",
   "metadata": {},
   "outputs": [
    {
     "name": "stdout",
     "output_type": "stream",
     "text": [
      "1500, 5\n"
     ]
    }
   ],
   "source": [
    "account1.setBalance(1500)\n",
    "account1.printAccount()"
   ]
  },
  {
   "cell_type": "code",
   "execution_count": 58,
   "id": "e4f378f9",
   "metadata": {},
   "outputs": [
    {
     "name": "stdout",
     "output_type": "stream",
     "text": [
      "Balance: 1500\n"
     ]
    }
   ],
   "source": [
    "print(f'Balance: {account1.getBalance()}')"
   ]
  },
  {
   "cell_type": "code",
   "execution_count": 59,
   "id": "7d296d45",
   "metadata": {},
   "outputs": [
    {
     "name": "stdout",
     "output_type": "stream",
     "text": [
      "1500, 5\n"
     ]
    }
   ],
   "source": [
    "print(account1)"
   ]
  },
  {
   "cell_type": "code",
   "execution_count": 60,
   "id": "81f45c01",
   "metadata": {},
   "outputs": [
    {
     "name": "stdout",
     "output_type": "stream",
     "text": [
      "7500, 5\n"
     ]
    }
   ],
   "source": [
    "account1.increase()\n",
    "print(account1)"
   ]
  },
  {
   "cell_type": "code",
   "execution_count": 61,
   "id": "7bd39720",
   "metadata": {},
   "outputs": [
    {
     "name": "stdout",
     "output_type": "stream",
     "text": [
      "7500\n"
     ]
    }
   ],
   "source": [
    "# correct but wrong (logically) - don't use\n",
    "print(account1.balance)\n",
    "\n",
    "account1.balance = 1201\n",
    "print(account1)"
   ]
  },
  {
   "cell_type": "code",
   "execution_count": null,
   "id": "d1d61e0f",
   "metadata": {},
   "outputs": [],
   "source": []
  },
  {
   "cell_type": "code",
   "execution_count": null,
   "id": "39058eab",
   "metadata": {},
   "outputs": [],
   "source": []
  }
 ],
 "metadata": {
  "kernelspec": {
   "display_name": "Python 3 (ipykernel)",
   "language": "python",
   "name": "python3"
  },
  "language_info": {
   "codemirror_mode": {
    "name": "ipython",
    "version": 3
   },
   "file_extension": ".py",
   "mimetype": "text/x-python",
   "name": "python",
   "nbconvert_exporter": "python",
   "pygments_lexer": "ipython3",
   "version": "3.11.1"
  }
 },
 "nbformat": 4,
 "nbformat_minor": 5
}
