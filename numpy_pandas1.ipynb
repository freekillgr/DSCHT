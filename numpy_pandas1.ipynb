{
  "nbformat": 4,
  "nbformat_minor": 0,
  "metadata": {
    "colab": {
      "provenance": []
    },
    "kernelspec": {
      "name": "python3",
      "display_name": "Python 3"
    },
    "language_info": {
      "name": "python"
    }
  },
  "cells": [
    {
      "cell_type": "markdown",
      "source": [
        "# Numpy\n",
        "\n",
        "Arrays have:\n",
        "- fixed size\n",
        "- same data type in the whole array"
      ],
      "metadata": {
        "id": "i2mewIpC-OcC"
      }
    },
    {
      "cell_type": "code",
      "source": [
        "import numpy as np"
      ],
      "metadata": {
        "id": "fL42tG1l-ZdY"
      },
      "execution_count": 3,
      "outputs": []
    },
    {
      "cell_type": "markdown",
      "source": [
        "### 1D arrays"
      ],
      "metadata": {
        "id": "vKhT_TlN_6i1"
      }
    },
    {
      "cell_type": "code",
      "source": [
        "a = np.array([1, 2, 3, 4, 5])\n",
        "\n",
        "a"
      ],
      "metadata": {
        "colab": {
          "base_uri": "https://localhost:8080/"
        },
        "id": "VlPAm1tU-1LF",
        "outputId": "02f0d1d8-1367-4a84-9483-49ac202e4eef"
      },
      "execution_count": 5,
      "outputs": [
        {
          "output_type": "execute_result",
          "data": {
            "text/plain": [
              "array([1, 2, 3, 4, 5])"
            ]
          },
          "metadata": {},
          "execution_count": 5
        }
      ]
    },
    {
      "cell_type": "code",
      "source": [
        "a.dtype"
      ],
      "metadata": {
        "colab": {
          "base_uri": "https://localhost:8080/"
        },
        "id": "Ye1lEpt7-96h",
        "outputId": "363596e2-6927-4cb7-f2ed-5140ce29c072"
      },
      "execution_count": 6,
      "outputs": [
        {
          "output_type": "execute_result",
          "data": {
            "text/plain": [
              "dtype('int64')"
            ]
          },
          "metadata": {},
          "execution_count": 6
        }
      ]
    },
    {
      "cell_type": "code",
      "source": [
        "b = np.array([1, 2, 3, 4, 5], dtype='float32')\n",
        "\n",
        "b"
      ],
      "metadata": {
        "colab": {
          "base_uri": "https://localhost:8080/"
        },
        "id": "8jX1wyUr_HXN",
        "outputId": "076d8f8d-da8d-4292-a545-d737e5378ea2"
      },
      "execution_count": 7,
      "outputs": [
        {
          "output_type": "execute_result",
          "data": {
            "text/plain": [
              "array([1., 2., 3., 4., 5.], dtype=float32)"
            ]
          },
          "metadata": {},
          "execution_count": 7
        }
      ]
    },
    {
      "cell_type": "code",
      "source": [
        "b.size"
      ],
      "metadata": {
        "colab": {
          "base_uri": "https://localhost:8080/"
        },
        "id": "PwzqNIVb_ghG",
        "outputId": "3c595c35-c9a3-4451-aae5-0f276dc370a9"
      },
      "execution_count": 8,
      "outputs": [
        {
          "output_type": "execute_result",
          "data": {
            "text/plain": [
              "5"
            ]
          },
          "metadata": {},
          "execution_count": 8
        }
      ]
    },
    {
      "cell_type": "code",
      "source": [
        "b.shape"
      ],
      "metadata": {
        "colab": {
          "base_uri": "https://localhost:8080/"
        },
        "id": "kBeMh3zw_m3x",
        "outputId": "66d352ae-d3d0-4f75-d496-66505c400118"
      },
      "execution_count": 9,
      "outputs": [
        {
          "output_type": "execute_result",
          "data": {
            "text/plain": [
              "(5,)"
            ]
          },
          "metadata": {},
          "execution_count": 9
        }
      ]
    },
    {
      "cell_type": "markdown",
      "source": [
        "### 2D arrays"
      ],
      "metadata": {
        "id": "JOGI1l4x_4BG"
      }
    },
    {
      "cell_type": "code",
      "source": [
        "c = np.array([[1, 2, 3, 4, 5],\n",
        "              [6, 7, 8, 9, 10]])\n",
        "\n",
        "c"
      ],
      "metadata": {
        "colab": {
          "base_uri": "https://localhost:8080/"
        },
        "id": "SWPtexHc__8N",
        "outputId": "fb774dc6-3548-49ef-9d0d-07a17b5fc5be"
      },
      "execution_count": 10,
      "outputs": [
        {
          "output_type": "execute_result",
          "data": {
            "text/plain": [
              "array([[ 1,  2,  3,  4,  5],\n",
              "       [ 6,  7,  8,  9, 10]])"
            ]
          },
          "metadata": {},
          "execution_count": 10
        }
      ]
    },
    {
      "cell_type": "code",
      "source": [
        "c.size"
      ],
      "metadata": {
        "colab": {
          "base_uri": "https://localhost:8080/"
        },
        "id": "c9lEP_TjAWF2",
        "outputId": "3d057cb3-4395-420b-c5c9-e3533df915a6"
      },
      "execution_count": 12,
      "outputs": [
        {
          "output_type": "execute_result",
          "data": {
            "text/plain": [
              "10"
            ]
          },
          "metadata": {},
          "execution_count": 12
        }
      ]
    },
    {
      "cell_type": "code",
      "source": [
        "c.shape"
      ],
      "metadata": {
        "colab": {
          "base_uri": "https://localhost:8080/"
        },
        "id": "MNQd74TQASrH",
        "outputId": "4de321db-9273-480f-8528-1427c7f80425"
      },
      "execution_count": 11,
      "outputs": [
        {
          "output_type": "execute_result",
          "data": {
            "text/plain": [
              "(2, 5)"
            ]
          },
          "metadata": {},
          "execution_count": 11
        }
      ]
    },
    {
      "cell_type": "markdown",
      "source": [
        "### Indexing and sclicing\n",
        "\n",
        "With integer"
      ],
      "metadata": {
        "id": "0dcZ-0Z1_rJE"
      }
    },
    {
      "cell_type": "code",
      "source": [
        "a[3] = 44\n",
        "\n",
        "a"
      ],
      "metadata": {
        "colab": {
          "base_uri": "https://localhost:8080/"
        },
        "id": "2Q6G-5ANA115",
        "outputId": "b21029fa-3087-474a-e1ad-d568130f79d8"
      },
      "execution_count": 15,
      "outputs": [
        {
          "output_type": "execute_result",
          "data": {
            "text/plain": [
              "array([ 1,  2,  3, 44,  5])"
            ]
          },
          "metadata": {},
          "execution_count": 15
        }
      ]
    },
    {
      "cell_type": "markdown",
      "source": [
        "With slice"
      ],
      "metadata": {
        "id": "uMGWWuKcB3Y0"
      }
    },
    {
      "cell_type": "code",
      "source": [
        "a[1:4]"
      ],
      "metadata": {
        "colab": {
          "base_uri": "https://localhost:8080/"
        },
        "id": "rsxY-1imA5ow",
        "outputId": "dea875c4-2675-4b95-cf41-424b37142bef"
      },
      "execution_count": 16,
      "outputs": [
        {
          "output_type": "execute_result",
          "data": {
            "text/plain": [
              "array([ 2,  3, 44])"
            ]
          },
          "metadata": {},
          "execution_count": 16
        }
      ]
    },
    {
      "cell_type": "markdown",
      "source": [
        "With list"
      ],
      "metadata": {
        "id": "QlXGSp5TB4lT"
      }
    },
    {
      "cell_type": "code",
      "source": [
        "indices = [0, 1, 3, 1]\n",
        "\n",
        "a[indices]"
      ],
      "metadata": {
        "colab": {
          "base_uri": "https://localhost:8080/"
        },
        "id": "9dd-OEGbBKtV",
        "outputId": "a3bda4f6-47f2-4452-a8a7-d411c22947c0"
      },
      "execution_count": 18,
      "outputs": [
        {
          "output_type": "execute_result",
          "data": {
            "text/plain": [
              "array([ 1,  2, 44,  2])"
            ]
          },
          "metadata": {},
          "execution_count": 18
        }
      ]
    },
    {
      "cell_type": "markdown",
      "source": [
        "With mask"
      ],
      "metadata": {
        "id": "MSN2CFEoB50k"
      }
    },
    {
      "cell_type": "code",
      "source": [
        "mask = [True, True, False, True, False]\n",
        "\n",
        "a[mask]"
      ],
      "metadata": {
        "colab": {
          "base_uri": "https://localhost:8080/"
        },
        "id": "vCnZDUt0Bp2d",
        "outputId": "e339a6af-33ce-44ee-ca40-34321298ea42"
      },
      "execution_count": 19,
      "outputs": [
        {
          "output_type": "execute_result",
          "data": {
            "text/plain": [
              "array([ 1,  2, 44])"
            ]
          },
          "metadata": {},
          "execution_count": 19
        }
      ]
    },
    {
      "cell_type": "markdown",
      "source": [
        "2D"
      ],
      "metadata": {
        "id": "AJVTKePjCEQr"
      }
    },
    {
      "cell_type": "code",
      "source": [
        "c[1, 3]"
      ],
      "metadata": {
        "colab": {
          "base_uri": "https://localhost:8080/"
        },
        "id": "iAYC2XzFCqHT",
        "outputId": "75b5d113-5ac5-4627-d288-d4a9d597d0d4"
      },
      "execution_count": 22,
      "outputs": [
        {
          "output_type": "execute_result",
          "data": {
            "text/plain": [
              "9"
            ]
          },
          "metadata": {},
          "execution_count": 22
        }
      ]
    },
    {
      "cell_type": "code",
      "source": [
        "c[1, :3]  # :3 --> from beginning to index 3 (not including)\n",
        "          # i.e. \"first 3 elements\""
      ],
      "metadata": {
        "colab": {
          "base_uri": "https://localhost:8080/"
        },
        "id": "L78-m__sCrUB",
        "outputId": "e3e9db29-b9ea-4752-cbb6-15f93e946126"
      },
      "execution_count": 24,
      "outputs": [
        {
          "output_type": "execute_result",
          "data": {
            "text/plain": [
              "array([6, 7, 8])"
            ]
          },
          "metadata": {},
          "execution_count": 24
        }
      ]
    },
    {
      "cell_type": "code",
      "source": [
        "c[0, 1:4]  # [2, 3, 4]"
      ],
      "metadata": {
        "colab": {
          "base_uri": "https://localhost:8080/"
        },
        "id": "gHB718jRC2x_",
        "outputId": "6a733542-73e1-435e-b561-a98fe0647610"
      },
      "execution_count": 27,
      "outputs": [
        {
          "output_type": "execute_result",
          "data": {
            "text/plain": [
              "array([2, 3, 4])"
            ]
          },
          "metadata": {},
          "execution_count": 27
        }
      ]
    },
    {
      "cell_type": "code",
      "source": [
        "c[:, 3:]   # [[4, 5]\n",
        "           #  [9, 10]]\n",
        "           # 3: --> from index 3 (including) to end "
      ],
      "metadata": {
        "colab": {
          "base_uri": "https://localhost:8080/"
        },
        "id": "Ject6JeuC9vk",
        "outputId": "26044e0a-d38f-4837-9ed7-43804b0a746e"
      },
      "execution_count": 28,
      "outputs": [
        {
          "output_type": "execute_result",
          "data": {
            "text/plain": [
              "array([[ 4,  5],\n",
              "       [ 9, 10]])"
            ]
          },
          "metadata": {},
          "execution_count": 28
        }
      ]
    },
    {
      "cell_type": "code",
      "source": [
        "c"
      ],
      "metadata": {
        "colab": {
          "base_uri": "https://localhost:8080/"
        },
        "id": "Wob0l6t2EE-7",
        "outputId": "bced6a4a-b149-4e00-9cba-b61d1401b736"
      },
      "execution_count": 29,
      "outputs": [
        {
          "output_type": "execute_result",
          "data": {
            "text/plain": [
              "array([[ 1,  2,  3,  4,  5],\n",
              "       [ 6,  7,  8,  9, 10]])"
            ]
          },
          "metadata": {},
          "execution_count": 29
        }
      ]
    },
    {
      "cell_type": "code",
      "source": [
        "c[:, -2:]  # -2: --> from index -2 (including) to end \n",
        "           # i.e. \"last two elements\""
      ],
      "metadata": {
        "colab": {
          "base_uri": "https://localhost:8080/"
        },
        "id": "y2gi7IwfEFSU",
        "outputId": "1794ca05-161f-4692-dce2-657be318aed7"
      },
      "execution_count": 30,
      "outputs": [
        {
          "output_type": "execute_result",
          "data": {
            "text/plain": [
              "array([[ 4,  5],\n",
              "       [ 9, 10]])"
            ]
          },
          "metadata": {},
          "execution_count": 30
        }
      ]
    },
    {
      "cell_type": "code",
      "source": [
        "c[[0, 0, 1, 1], [3, 4, 0, 1]]  # [4, 5, 6, 7]"
      ],
      "metadata": {
        "colab": {
          "base_uri": "https://localhost:8080/"
        },
        "id": "onN474ubE52f",
        "outputId": "5477baf4-1449-454b-f9fb-b40908c8b3e2"
      },
      "execution_count": 32,
      "outputs": [
        {
          "output_type": "execute_result",
          "data": {
            "text/plain": [
              "array([4, 5, 6, 7])"
            ]
          },
          "metadata": {},
          "execution_count": 32
        }
      ]
    },
    {
      "cell_type": "code",
      "source": [
        "c"
      ],
      "metadata": {
        "colab": {
          "base_uri": "https://localhost:8080/"
        },
        "id": "f9X6m-JXGD0b",
        "outputId": "181899b6-f944-415c-d3c0-29167f9f8e1a"
      },
      "execution_count": 38,
      "outputs": [
        {
          "output_type": "execute_result",
          "data": {
            "text/plain": [
              "array([[ 1,  2,  3,  4,  5],\n",
              "       [ 6,  7,  8,  9, 10]])"
            ]
          },
          "metadata": {},
          "execution_count": 38
        }
      ]
    },
    {
      "cell_type": "code",
      "source": [
        "c[[True, False], 2]"
      ],
      "metadata": {
        "colab": {
          "base_uri": "https://localhost:8080/"
        },
        "id": "ATZveuGSEU-6",
        "outputId": "4427f779-48e7-4be1-822a-5c8d3e440a5f"
      },
      "execution_count": 39,
      "outputs": [
        {
          "output_type": "execute_result",
          "data": {
            "text/plain": [
              "array([3])"
            ]
          },
          "metadata": {},
          "execution_count": 39
        }
      ]
    },
    {
      "cell_type": "code",
      "source": [
        "c[[0, 0, 1], :2]"
      ],
      "metadata": {
        "colab": {
          "base_uri": "https://localhost:8080/"
        },
        "id": "K6nnBwDsGF17",
        "outputId": "a5eb04a5-6bf0-46de-9be3-193c7db3d81f"
      },
      "execution_count": 40,
      "outputs": [
        {
          "output_type": "execute_result",
          "data": {
            "text/plain": [
              "array([[1, 2],\n",
              "       [1, 2],\n",
              "       [6, 7]])"
            ]
          },
          "metadata": {},
          "execution_count": 40
        }
      ]
    },
    {
      "cell_type": "markdown",
      "source": [
        "## Operations\n",
        "\n",
        "By default ops between arrays are elementwise"
      ],
      "metadata": {
        "id": "_3c3-NOGHCKf"
      }
    },
    {
      "cell_type": "code",
      "source": [
        "a"
      ],
      "metadata": {
        "colab": {
          "base_uri": "https://localhost:8080/"
        },
        "id": "_upvyZ3YHfZ_",
        "outputId": "6ce073c0-617e-467e-9414-ee20fab931a8"
      },
      "execution_count": 41,
      "outputs": [
        {
          "output_type": "execute_result",
          "data": {
            "text/plain": [
              "array([ 1,  2,  3, 44,  5])"
            ]
          },
          "metadata": {},
          "execution_count": 41
        }
      ]
    },
    {
      "cell_type": "code",
      "source": [
        "b"
      ],
      "metadata": {
        "colab": {
          "base_uri": "https://localhost:8080/"
        },
        "id": "5qwOiWOTHg-e",
        "outputId": "13114ce4-7fef-4747-e58b-2be79a7f4270"
      },
      "execution_count": 42,
      "outputs": [
        {
          "output_type": "execute_result",
          "data": {
            "text/plain": [
              "array([1., 2., 3., 4., 5.], dtype=float32)"
            ]
          },
          "metadata": {},
          "execution_count": 42
        }
      ]
    },
    {
      "cell_type": "code",
      "source": [
        "a + b  # elementwise addition"
      ],
      "metadata": {
        "colab": {
          "base_uri": "https://localhost:8080/"
        },
        "id": "CPTKWhAvHhOe",
        "outputId": "fb25d900-8a6f-40d2-a021-54fc26a4d3d2"
      },
      "execution_count": 43,
      "outputs": [
        {
          "output_type": "execute_result",
          "data": {
            "text/plain": [
              "array([ 2.,  4.,  6., 48., 10.])"
            ]
          },
          "metadata": {},
          "execution_count": 43
        }
      ]
    },
    {
      "cell_type": "code",
      "source": [
        "a - b  # elementwise subtraction"
      ],
      "metadata": {
        "colab": {
          "base_uri": "https://localhost:8080/"
        },
        "id": "plBaN44bHlsH",
        "outputId": "7fddea22-2d95-49f8-b151-9789c1e19ce6"
      },
      "execution_count": 44,
      "outputs": [
        {
          "output_type": "execute_result",
          "data": {
            "text/plain": [
              "array([ 0.,  0.,  0., 40.,  0.])"
            ]
          },
          "metadata": {},
          "execution_count": 44
        }
      ]
    },
    {
      "cell_type": "code",
      "source": [
        "a * b  # elementwise multiplication"
      ],
      "metadata": {
        "colab": {
          "base_uri": "https://localhost:8080/"
        },
        "id": "EfZHcn0rHnO6",
        "outputId": "a2b8e412-2817-4910-c1ab-2ab9df469d22"
      },
      "execution_count": 45,
      "outputs": [
        {
          "output_type": "execute_result",
          "data": {
            "text/plain": [
              "array([  1.,   4.,   9., 176.,  25.])"
            ]
          },
          "metadata": {},
          "execution_count": 45
        }
      ]
    },
    {
      "cell_type": "code",
      "source": [
        "a / b  # elementwise division"
      ],
      "metadata": {
        "colab": {
          "base_uri": "https://localhost:8080/"
        },
        "id": "QJMh6Cy7H7sD",
        "outputId": "d48ef2c8-5c92-4e3f-acc3-0d78f319dcac"
      },
      "execution_count": 46,
      "outputs": [
        {
          "output_type": "execute_result",
          "data": {
            "text/plain": [
              "array([ 1.,  1.,  1., 11.,  1.])"
            ]
          },
          "metadata": {},
          "execution_count": 46
        }
      ]
    },
    {
      "cell_type": "code",
      "source": [
        "d = np.array([[1, 2],\n",
        "              [6, 2],\n",
        "              [5, 2],\n",
        "              [6, 1],\n",
        "              [1, 1]])"
      ],
      "metadata": {
        "id": "p5gv_qtgH9G0"
      },
      "execution_count": 48,
      "outputs": []
    },
    {
      "cell_type": "code",
      "source": [
        "np.dot(c, d)  # matrix multiplication"
      ],
      "metadata": {
        "colab": {
          "base_uri": "https://localhost:8080/"
        },
        "id": "5EmRqYrDIiej",
        "outputId": "0ab615e9-b8a6-4d72-dfeb-56153746358a"
      },
      "execution_count": 51,
      "outputs": [
        {
          "output_type": "execute_result",
          "data": {
            "text/plain": [
              "array([[ 57,  21],\n",
              "       [152,  61]])"
            ]
          },
          "metadata": {},
          "execution_count": 51
        }
      ]
    },
    {
      "cell_type": "code",
      "source": [
        "c @ d  # matrix multiplication"
      ],
      "metadata": {
        "colab": {
          "base_uri": "https://localhost:8080/"
        },
        "id": "n9_tcPy3Ij3j",
        "outputId": "e2cff62f-28b5-4e12-f304-e8278ecbd103"
      },
      "execution_count": 52,
      "outputs": [
        {
          "output_type": "execute_result",
          "data": {
            "text/plain": [
              "array([[ 57,  21],\n",
              "       [152,  61]])"
            ]
          },
          "metadata": {},
          "execution_count": 52
        }
      ]
    },
    {
      "cell_type": "code",
      "source": [
        "c * d  # can't elementwise multiply these arrays"
      ],
      "metadata": {
        "colab": {
          "base_uri": "https://localhost:8080/",
          "height": 167
        },
        "id": "igkmCg1KIwYi",
        "outputId": "46e8890c-e6aa-4858-837c-5d23935597e3"
      },
      "execution_count": 53,
      "outputs": [
        {
          "output_type": "error",
          "ename": "ValueError",
          "evalue": "ignored",
          "traceback": [
            "\u001b[0;31m---------------------------------------------------------------------------\u001b[0m",
            "\u001b[0;31mValueError\u001b[0m                                Traceback (most recent call last)",
            "\u001b[0;32m<ipython-input-53-704f84dd75d8>\u001b[0m in \u001b[0;36m<cell line: 1>\u001b[0;34m()\u001b[0m\n\u001b[0;32m----> 1\u001b[0;31m \u001b[0mc\u001b[0m \u001b[0;34m*\u001b[0m \u001b[0md\u001b[0m\u001b[0;34m\u001b[0m\u001b[0;34m\u001b[0m\u001b[0m\n\u001b[0m",
            "\u001b[0;31mValueError\u001b[0m: operands could not be broadcast together with shapes (2,5) (5,2) "
          ]
        }
      ]
    },
    {
      "cell_type": "markdown",
      "source": [
        "Broadcasting\n",
        "\n",
        "![](https://i.stack.imgur.com/JcKv1.png)"
      ],
      "metadata": {
        "id": "_n3kSiPRI1bh"
      }
    },
    {
      "cell_type": "code",
      "source": [
        "c"
      ],
      "metadata": {
        "colab": {
          "base_uri": "https://localhost:8080/"
        },
        "id": "9H9_yAVqJWGp",
        "outputId": "d1355f35-432b-4d42-feed-ce3a7644d2fe"
      },
      "execution_count": 54,
      "outputs": [
        {
          "output_type": "execute_result",
          "data": {
            "text/plain": [
              "array([[ 1,  2,  3,  4,  5],\n",
              "       [ 6,  7,  8,  9, 10]])"
            ]
          },
          "metadata": {},
          "execution_count": 54
        }
      ]
    },
    {
      "cell_type": "code",
      "source": [
        "a"
      ],
      "metadata": {
        "colab": {
          "base_uri": "https://localhost:8080/"
        },
        "id": "mAHL-uojJWlE",
        "outputId": "872ec37a-4b5b-483c-d224-2c277b519d4a"
      },
      "execution_count": 55,
      "outputs": [
        {
          "output_type": "execute_result",
          "data": {
            "text/plain": [
              "array([ 1,  2,  3, 44,  5])"
            ]
          },
          "metadata": {},
          "execution_count": 55
        }
      ]
    },
    {
      "cell_type": "code",
      "source": [
        "c * a"
      ],
      "metadata": {
        "colab": {
          "base_uri": "https://localhost:8080/"
        },
        "id": "JI0IUVYiJIst",
        "outputId": "c31c360f-f2a4-4034-ff76-924117f97277"
      },
      "execution_count": 56,
      "outputs": [
        {
          "output_type": "execute_result",
          "data": {
            "text/plain": [
              "array([[  1,   4,   9, 176,  25],\n",
              "       [  6,  14,  24, 396,  50]])"
            ]
          },
          "metadata": {},
          "execution_count": 56
        }
      ]
    },
    {
      "cell_type": "code",
      "source": [
        "a2 = np.array([[ 1,  2,  3, 44,  5],\n",
        "               [ 1,  2,  3, 44,  5]])\n",
        "\n",
        "c * a2"
      ],
      "metadata": {
        "colab": {
          "base_uri": "https://localhost:8080/"
        },
        "id": "r_cHBXJ7JZqQ",
        "outputId": "bd8f1322-9f75-43d7-9d95-0e62f0e08246"
      },
      "execution_count": 57,
      "outputs": [
        {
          "output_type": "execute_result",
          "data": {
            "text/plain": [
              "array([[  1,   4,   9, 176,  25],\n",
              "       [  6,  14,  24, 396,  50]])"
            ]
          },
          "metadata": {},
          "execution_count": 57
        }
      ]
    },
    {
      "cell_type": "code",
      "source": [
        "c - 10"
      ],
      "metadata": {
        "colab": {
          "base_uri": "https://localhost:8080/"
        },
        "id": "AXpaPWosJ3xa",
        "outputId": "57cf7572-f938-4b7e-c6c8-1e9d2543b074"
      },
      "execution_count": 60,
      "outputs": [
        {
          "output_type": "execute_result",
          "data": {
            "text/plain": [
              "array([[-9, -8, -7, -6, -5],\n",
              "       [-4, -3, -2, -1,  0]])"
            ]
          },
          "metadata": {},
          "execution_count": 60
        }
      ]
    },
    {
      "cell_type": "markdown",
      "source": [
        "### Creating arrays"
      ],
      "metadata": {
        "id": "TrB5DflgK9mw"
      }
    },
    {
      "cell_type": "code",
      "source": [
        "np.arange(5)  # equivalent to python's range but returns array"
      ],
      "metadata": {
        "colab": {
          "base_uri": "https://localhost:8080/"
        },
        "id": "IcDqdFb8LdeU",
        "outputId": "54804e1b-6a50-4edd-c24a-a1036e2809b5"
      },
      "execution_count": 63,
      "outputs": [
        {
          "output_type": "execute_result",
          "data": {
            "text/plain": [
              "array([0, 1, 2, 3, 4])"
            ]
          },
          "metadata": {},
          "execution_count": 63
        }
      ]
    },
    {
      "cell_type": "code",
      "source": [
        "np.arange(1, 10)"
      ],
      "metadata": {
        "colab": {
          "base_uri": "https://localhost:8080/"
        },
        "id": "aBe8SsEoLoNO",
        "outputId": "726c07c5-a70d-4123-dd41-78e94083e70b"
      },
      "execution_count": 64,
      "outputs": [
        {
          "output_type": "execute_result",
          "data": {
            "text/plain": [
              "array([1, 2, 3, 4, 5, 6, 7, 8, 9])"
            ]
          },
          "metadata": {},
          "execution_count": 64
        }
      ]
    },
    {
      "cell_type": "code",
      "source": [
        "np.arange(1, 10, 2)"
      ],
      "metadata": {
        "colab": {
          "base_uri": "https://localhost:8080/"
        },
        "id": "67XEk2kFLqRq",
        "outputId": "da2b5c1e-9ce9-4110-8c10-4f2217180db0"
      },
      "execution_count": 65,
      "outputs": [
        {
          "output_type": "execute_result",
          "data": {
            "text/plain": [
              "array([1, 3, 5, 7, 9])"
            ]
          },
          "metadata": {},
          "execution_count": 65
        }
      ]
    },
    {
      "cell_type": "code",
      "source": [
        "np.linspace(0, 7, 20)  # create a range from 0 to 7 with 20 equal sized steps"
      ],
      "metadata": {
        "colab": {
          "base_uri": "https://localhost:8080/"
        },
        "id": "KFyM97KhLsBy",
        "outputId": "44620f43-aee8-45b0-88b9-b5f772152e27"
      },
      "execution_count": 66,
      "outputs": [
        {
          "output_type": "execute_result",
          "data": {
            "text/plain": [
              "array([0.        , 0.36842105, 0.73684211, 1.10526316, 1.47368421,\n",
              "       1.84210526, 2.21052632, 2.57894737, 2.94736842, 3.31578947,\n",
              "       3.68421053, 4.05263158, 4.42105263, 4.78947368, 5.15789474,\n",
              "       5.52631579, 5.89473684, 6.26315789, 6.63157895, 7.        ])"
            ]
          },
          "metadata": {},
          "execution_count": 66
        }
      ]
    },
    {
      "cell_type": "code",
      "source": [
        "np.zeros(shape=(2, 5))  # create array with shape (2, 5) filled with zeros"
      ],
      "metadata": {
        "colab": {
          "base_uri": "https://localhost:8080/"
        },
        "id": "isPOVeqlL-Ho",
        "outputId": "d32518f1-f607-4f13-8e2c-f705156346e5"
      },
      "execution_count": 68,
      "outputs": [
        {
          "output_type": "execute_result",
          "data": {
            "text/plain": [
              "array([[0., 0., 0., 0., 0.],\n",
              "       [0., 0., 0., 0., 0.]])"
            ]
          },
          "metadata": {},
          "execution_count": 68
        }
      ]
    },
    {
      "cell_type": "code",
      "source": [
        "np.random.random(size=20)  # create an array with 20 random values from 0 to 1"
      ],
      "metadata": {
        "colab": {
          "base_uri": "https://localhost:8080/"
        },
        "id": "UgROPwp7MJ-g",
        "outputId": "fc352b91-2d1d-4b26-ae2e-c5d123dcaf85"
      },
      "execution_count": 69,
      "outputs": [
        {
          "output_type": "execute_result",
          "data": {
            "text/plain": [
              "array([0.23238019, 0.15219462, 0.77472454, 0.06419771, 0.56919991,\n",
              "       0.77629892, 0.05937261, 0.74056963, 0.08119358, 0.55147968,\n",
              "       0.89636093, 0.53784587, 0.05575655, 0.61700024, 0.03697198,\n",
              "       0.91259831, 0.23774385, 0.23796646, 0.87915133, 0.02178697])"
            ]
          },
          "metadata": {},
          "execution_count": 69
        }
      ]
    },
    {
      "cell_type": "markdown",
      "source": [
        "### Reshaping arrays"
      ],
      "metadata": {
        "id": "aDRAnuZVMQal"
      }
    },
    {
      "cell_type": "code",
      "source": [
        "c"
      ],
      "metadata": {
        "colab": {
          "base_uri": "https://localhost:8080/"
        },
        "id": "yxyEDO68MoJZ",
        "outputId": "18a347f4-4634-4f21-96a6-66f37facc8df"
      },
      "execution_count": 71,
      "outputs": [
        {
          "output_type": "execute_result",
          "data": {
            "text/plain": [
              "array([[ 1,  2,  3,  4,  5],\n",
              "       [ 6,  7,  8,  9, 10]])"
            ]
          },
          "metadata": {},
          "execution_count": 71
        }
      ]
    },
    {
      "cell_type": "code",
      "source": [
        "np.arange(1, 11).reshape(2, 5)"
      ],
      "metadata": {
        "colab": {
          "base_uri": "https://localhost:8080/"
        },
        "id": "ijHDHnnpM0cc",
        "outputId": "80b9afed-3e5e-4db3-b5b6-1c2bad4faf0c"
      },
      "execution_count": 73,
      "outputs": [
        {
          "output_type": "execute_result",
          "data": {
            "text/plain": [
              "array([[ 1,  2,  3,  4,  5],\n",
              "       [ 6,  7,  8,  9, 10]])"
            ]
          },
          "metadata": {},
          "execution_count": 73
        }
      ]
    },
    {
      "cell_type": "code",
      "source": [
        "c.reshape(-1, 2)"
      ],
      "metadata": {
        "colab": {
          "base_uri": "https://localhost:8080/"
        },
        "id": "ELeg3xNGM6dq",
        "outputId": "28b0f82a-18bc-4d49-8a15-f69c392903fd"
      },
      "execution_count": 76,
      "outputs": [
        {
          "output_type": "execute_result",
          "data": {
            "text/plain": [
              "array([[ 1,  2],\n",
              "       [ 3,  4],\n",
              "       [ 5,  6],\n",
              "       [ 7,  8],\n",
              "       [ 9, 10]])"
            ]
          },
          "metadata": {},
          "execution_count": 76
        }
      ]
    },
    {
      "cell_type": "code",
      "source": [
        "c.T  # transpose"
      ],
      "metadata": {
        "colab": {
          "base_uri": "https://localhost:8080/"
        },
        "id": "tjdeUL14NCmb",
        "outputId": "d2700283-8b4d-46ef-c15f-67e602c1c1b6"
      },
      "execution_count": 77,
      "outputs": [
        {
          "output_type": "execute_result",
          "data": {
            "text/plain": [
              "array([[ 1,  6],\n",
              "       [ 2,  7],\n",
              "       [ 3,  8],\n",
              "       [ 4,  9],\n",
              "       [ 5, 10]])"
            ]
          },
          "metadata": {},
          "execution_count": 77
        }
      ]
    },
    {
      "cell_type": "markdown",
      "source": [
        "# Pandas\n",
        "\n",
        "Data strutctures:\n",
        "- **Series** <-- we will discuss today\n",
        "- DataFrame"
      ],
      "metadata": {
        "id": "A8jhxp0LNWwI"
      }
    },
    {
      "cell_type": "code",
      "source": [
        "import pandas as pd"
      ],
      "metadata": {
        "id": "tKz76gzgUQG1"
      },
      "execution_count": 79,
      "outputs": []
    },
    {
      "cell_type": "code",
      "source": [
        "ser = pd.Series([1, 2, 3, 4, 5], index=['a', 'b', 'c', 'd', 'e'])\n",
        "\n",
        "ser"
      ],
      "metadata": {
        "colab": {
          "base_uri": "https://localhost:8080/"
        },
        "id": "qJg7nFhkVZoZ",
        "outputId": "9b142a67-fa9f-41cc-f9a0-fb6953ef3940"
      },
      "execution_count": 81,
      "outputs": [
        {
          "output_type": "execute_result",
          "data": {
            "text/plain": [
              "a    1\n",
              "b    2\n",
              "c    3\n",
              "d    4\n",
              "e    5\n",
              "dtype: int64"
            ]
          },
          "metadata": {},
          "execution_count": 81
        }
      ]
    },
    {
      "cell_type": "markdown",
      "source": [
        "Indexing/slicing with position"
      ],
      "metadata": {
        "id": "846bvRnYWDgP"
      }
    },
    {
      "cell_type": "code",
      "source": [
        "ser.iloc[2]  # integer"
      ],
      "metadata": {
        "colab": {
          "base_uri": "https://localhost:8080/"
        },
        "id": "Ey2Px8NuViiX",
        "outputId": "77f1db2f-c1b5-4689-c79d-2d14d6bf04c5"
      },
      "execution_count": 82,
      "outputs": [
        {
          "output_type": "execute_result",
          "data": {
            "text/plain": [
              "3"
            ]
          },
          "metadata": {},
          "execution_count": 82
        }
      ]
    },
    {
      "cell_type": "code",
      "source": [
        "ser.iloc[2:]  # slice"
      ],
      "metadata": {
        "colab": {
          "base_uri": "https://localhost:8080/"
        },
        "id": "iMDkc6miWIQV",
        "outputId": "d89d2ac0-3af8-42f6-eb54-8982719ea039"
      },
      "execution_count": 83,
      "outputs": [
        {
          "output_type": "execute_result",
          "data": {
            "text/plain": [
              "c    3\n",
              "d    4\n",
              "e    5\n",
              "dtype: int64"
            ]
          },
          "metadata": {},
          "execution_count": 83
        }
      ]
    },
    {
      "cell_type": "code",
      "source": [
        "ser.iloc[[2, 1, 4]]  # list"
      ],
      "metadata": {
        "colab": {
          "base_uri": "https://localhost:8080/"
        },
        "id": "g5xd_7ogWKT3",
        "outputId": "e524b629-6222-4a98-e0b6-88f2623792ec"
      },
      "execution_count": 84,
      "outputs": [
        {
          "output_type": "execute_result",
          "data": {
            "text/plain": [
              "c    3\n",
              "b    2\n",
              "e    5\n",
              "dtype: int64"
            ]
          },
          "metadata": {},
          "execution_count": 84
        }
      ]
    },
    {
      "cell_type": "code",
      "source": [
        "ser.iloc[[True, False, True, True, False]]  # mask"
      ],
      "metadata": {
        "colab": {
          "base_uri": "https://localhost:8080/"
        },
        "id": "PwTFCzKSWOrM",
        "outputId": "14c2b7cd-9105-46c3-c3c6-ea2c34f87c7d"
      },
      "execution_count": 85,
      "outputs": [
        {
          "output_type": "execute_result",
          "data": {
            "text/plain": [
              "a    1\n",
              "c    3\n",
              "d    4\n",
              "dtype: int64"
            ]
          },
          "metadata": {},
          "execution_count": 85
        }
      ]
    },
    {
      "cell_type": "markdown",
      "source": [
        "Indexing/slicing with names"
      ],
      "metadata": {
        "id": "JGZ7PikOWTrP"
      }
    },
    {
      "cell_type": "code",
      "source": [
        "ser.loc['c']  # with name"
      ],
      "metadata": {
        "colab": {
          "base_uri": "https://localhost:8080/"
        },
        "id": "JWR9nqEdWf_f",
        "outputId": "65c32f53-1a54-4ea2-ecc3-19563207b847"
      },
      "execution_count": 87,
      "outputs": [
        {
          "output_type": "execute_result",
          "data": {
            "text/plain": [
              "3"
            ]
          },
          "metadata": {},
          "execution_count": 87
        }
      ]
    },
    {
      "cell_type": "code",
      "source": [
        "ser.loc['c':]  # slice"
      ],
      "metadata": {
        "colab": {
          "base_uri": "https://localhost:8080/"
        },
        "id": "f3HLoGlOWojS",
        "outputId": "9bda1307-63ad-4b1d-dbf1-3462c0275c1a"
      },
      "execution_count": 88,
      "outputs": [
        {
          "output_type": "execute_result",
          "data": {
            "text/plain": [
              "c    3\n",
              "d    4\n",
              "e    5\n",
              "dtype: int64"
            ]
          },
          "metadata": {},
          "execution_count": 88
        }
      ]
    },
    {
      "cell_type": "code",
      "source": [
        "ser.loc[['c', 'b', 'e']]  # list"
      ],
      "metadata": {
        "colab": {
          "base_uri": "https://localhost:8080/"
        },
        "id": "Ke5D3L7GWtPL",
        "outputId": "169083e9-db6d-409b-864d-c7624c258c3f"
      },
      "execution_count": 90,
      "outputs": [
        {
          "output_type": "execute_result",
          "data": {
            "text/plain": [
              "c    3\n",
              "b    2\n",
              "e    5\n",
              "dtype: int64"
            ]
          },
          "metadata": {},
          "execution_count": 90
        }
      ]
    },
    {
      "cell_type": "code",
      "source": [
        "ser.loc[[True, False, True, True, False]]"
      ],
      "metadata": {
        "colab": {
          "base_uri": "https://localhost:8080/"
        },
        "id": "2aBQz4K0W2Tc",
        "outputId": "0435e9a8-23a9-4369-aa30-720c5d2e0803"
      },
      "execution_count": 91,
      "outputs": [
        {
          "output_type": "execute_result",
          "data": {
            "text/plain": [
              "a    1\n",
              "c    3\n",
              "d    4\n",
              "dtype: int64"
            ]
          },
          "metadata": {},
          "execution_count": 91
        }
      ]
    },
    {
      "cell_type": "markdown",
      "source": [
        "Difference with slicing"
      ],
      "metadata": {
        "id": "X1Ogme1AW7_Q"
      }
    },
    {
      "cell_type": "code",
      "source": [
        "ser"
      ],
      "metadata": {
        "colab": {
          "base_uri": "https://localhost:8080/"
        },
        "id": "065_NA7eXEoH",
        "outputId": "6f88ddbe-787d-4669-98ed-0f948c581e07"
      },
      "execution_count": 92,
      "outputs": [
        {
          "output_type": "execute_result",
          "data": {
            "text/plain": [
              "a    1\n",
              "b    2\n",
              "c    3\n",
              "d    4\n",
              "e    5\n",
              "dtype: int64"
            ]
          },
          "metadata": {},
          "execution_count": 92
        }
      ]
    },
    {
      "cell_type": "code",
      "source": [
        "ser.loc['b': 'd']  # inclusive"
      ],
      "metadata": {
        "colab": {
          "base_uri": "https://localhost:8080/"
        },
        "id": "qfQCOerBXFAM",
        "outputId": "16833a12-cd9e-41de-b93a-779302f6f027"
      },
      "execution_count": 93,
      "outputs": [
        {
          "output_type": "execute_result",
          "data": {
            "text/plain": [
              "b    2\n",
              "c    3\n",
              "d    4\n",
              "dtype: int64"
            ]
          },
          "metadata": {},
          "execution_count": 93
        }
      ]
    },
    {
      "cell_type": "code",
      "source": [
        "ser.iloc[1: 3]  # not inclusive"
      ],
      "metadata": {
        "colab": {
          "base_uri": "https://localhost:8080/"
        },
        "id": "oB3QmGv4XKsK",
        "outputId": "e30d673e-6223-4f6d-a406-8c8cb2083833"
      },
      "execution_count": 95,
      "outputs": [
        {
          "output_type": "execute_result",
          "data": {
            "text/plain": [
              "b    2\n",
              "c    3\n",
              "dtype: int64"
            ]
          },
          "metadata": {},
          "execution_count": 95
        }
      ]
    },
    {
      "cell_type": "code",
      "source": [
        "ser2 = pd.Series([1, 2, 3, 4, 5])"
      ],
      "metadata": {
        "id": "Mn4EZ3FCXoQd"
      },
      "execution_count": 97,
      "outputs": []
    },
    {
      "cell_type": "code",
      "source": [
        "ser2.loc[2]"
      ],
      "metadata": {
        "colab": {
          "base_uri": "https://localhost:8080/"
        },
        "id": "8PGuvE7YXrwd",
        "outputId": "3c17485e-cbad-49d6-d182-47bba3387036"
      },
      "execution_count": 99,
      "outputs": [
        {
          "output_type": "execute_result",
          "data": {
            "text/plain": [
              "3"
            ]
          },
          "metadata": {},
          "execution_count": 99
        }
      ]
    },
    {
      "cell_type": "code",
      "source": [
        "ser2.iloc[2]"
      ],
      "metadata": {
        "colab": {
          "base_uri": "https://localhost:8080/"
        },
        "id": "IJUEf6t6XtwT",
        "outputId": "3f4aec46-fa65-49bb-9601-04e389438945"
      },
      "execution_count": 102,
      "outputs": [
        {
          "output_type": "execute_result",
          "data": {
            "text/plain": [
              "3"
            ]
          },
          "metadata": {},
          "execution_count": 102
        }
      ]
    },
    {
      "cell_type": "code",
      "source": [
        "ser2.loc[2:4]"
      ],
      "metadata": {
        "colab": {
          "base_uri": "https://localhost:8080/"
        },
        "id": "XBft5hTjXyse",
        "outputId": "1a101be8-a86d-447b-f710-60b903fdf7c0"
      },
      "execution_count": 103,
      "outputs": [
        {
          "output_type": "execute_result",
          "data": {
            "text/plain": [
              "2    3\n",
              "3    4\n",
              "4    5\n",
              "dtype: int64"
            ]
          },
          "metadata": {},
          "execution_count": 103
        }
      ]
    },
    {
      "cell_type": "code",
      "source": [
        "ser2.iloc[2:4]"
      ],
      "metadata": {
        "colab": {
          "base_uri": "https://localhost:8080/"
        },
        "id": "NAa7vE1iX2XU",
        "outputId": "6e7b1bd2-a3dc-4fee-b265-c48dbb3825d9"
      },
      "execution_count": 104,
      "outputs": [
        {
          "output_type": "execute_result",
          "data": {
            "text/plain": [
              "2    3\n",
              "3    4\n",
              "dtype: int64"
            ]
          },
          "metadata": {},
          "execution_count": 104
        }
      ]
    },
    {
      "cell_type": "markdown",
      "source": [
        "## Built-in methods\n",
        "\n",
        "Statistical aggregations"
      ],
      "metadata": {
        "id": "7d40rxOtYe9X"
      }
    },
    {
      "cell_type": "code",
      "source": [
        "print(f'{ser.min() = }')\n",
        "print(f'{ser.max() = }')\n",
        "print(f'{ser.mean() = }')\n",
        "print(f'{ser.sum() = }')\n",
        "print(f'{ser.prod() = }')\n",
        "print(f'{ser.var() = }')\n",
        "print(f'{ser.std() = }')"
      ],
      "metadata": {
        "colab": {
          "base_uri": "https://localhost:8080/"
        },
        "id": "vO7b7gRmY95W",
        "outputId": "9c0e9237-2920-48a8-d0d1-bf40fe26f31b"
      },
      "execution_count": 113,
      "outputs": [
        {
          "output_type": "stream",
          "name": "stdout",
          "text": [
            "ser.min() = 1\n",
            "ser.max() = 5\n",
            "ser.mean() = 3.0\n",
            "ser.sum() = 15\n",
            "ser.prod() = 120\n",
            "ser.var() = 2.5\n",
            "ser.std() = 1.5811388300841898\n"
          ]
        }
      ]
    },
    {
      "cell_type": "markdown",
      "source": [
        "Unique values and histograms"
      ],
      "metadata": {
        "id": "fTZd0WPUZy-l"
      }
    },
    {
      "cell_type": "code",
      "source": [
        "ser = pd.Series([1, 2, 1, 1, 2, 3, 1, 2, 3, 1, 2, 3, 4, 2, 3, 5,\n",
        "                 1, 2, 3, 4, 2, 1, 4, 2, 1, 1, 2, 2, 3, 1, 2, 1])"
      ],
      "metadata": {
        "id": "r6GdKsXLaKAA"
      },
      "execution_count": 121,
      "outputs": []
    },
    {
      "cell_type": "code",
      "source": [
        "ser.unique()  # unique values in series"
      ],
      "metadata": {
        "colab": {
          "base_uri": "https://localhost:8080/"
        },
        "id": "-F99giYOaV9k",
        "outputId": "437a8022-38af-463b-bab1-e744b8dfcdba"
      },
      "execution_count": 122,
      "outputs": [
        {
          "output_type": "execute_result",
          "data": {
            "text/plain": [
              "array([1, 2, 3, 4, 5])"
            ]
          },
          "metadata": {},
          "execution_count": 122
        }
      ]
    },
    {
      "cell_type": "code",
      "source": [
        "ser.value_counts()  # histogram of series' values"
      ],
      "metadata": {
        "colab": {
          "base_uri": "https://localhost:8080/"
        },
        "id": "BSRh1mU3ahW7",
        "outputId": "de74c6da-8d2c-4c21-f46f-880d6d20790a"
      },
      "execution_count": 123,
      "outputs": [
        {
          "output_type": "execute_result",
          "data": {
            "text/plain": [
              "1    11\n",
              "2    11\n",
              "3     6\n",
              "4     3\n",
              "5     1\n",
              "dtype: int64"
            ]
          },
          "metadata": {},
          "execution_count": 123
        }
      ]
    },
    {
      "cell_type": "markdown",
      "source": [
        "Change values in array"
      ],
      "metadata": {
        "id": "v6Jq0mJfaqb6"
      }
    },
    {
      "cell_type": "code",
      "source": [
        "values_map = {1: 1, 2: 2, 3: 3, 4: 3, 5: 3}\n",
        "\n",
        "ser.map(values_map).value_counts()\n",
        "\n",
        "# map is not an inplace operation, if I wanted persistent changes:\n",
        "# ser = ser.map(values_map)"
      ],
      "metadata": {
        "colab": {
          "base_uri": "https://localhost:8080/"
        },
        "id": "T6YOhEzMbphw",
        "outputId": "69c96f6c-5542-4bb7-f360-f1b646eea3cf"
      },
      "execution_count": 127,
      "outputs": [
        {
          "output_type": "execute_result",
          "data": {
            "text/plain": [
              "1    11\n",
              "2    11\n",
              "3    10\n",
              "dtype: int64"
            ]
          },
          "metadata": {},
          "execution_count": 127
        }
      ]
    },
    {
      "cell_type": "code",
      "source": [
        "ser2 = pd.Series(['a']* 20 + ['b'] * 10 + ['c'] * 15 + ['d'] * 5)\n",
        "\n",
        "ser2.value_counts()"
      ],
      "metadata": {
        "colab": {
          "base_uri": "https://localhost:8080/"
        },
        "id": "31ge9yVpcKgo",
        "outputId": "51563f4d-ddd5-4773-f53e-f23fee433533"
      },
      "execution_count": 130,
      "outputs": [
        {
          "output_type": "execute_result",
          "data": {
            "text/plain": [
              "a    20\n",
              "c    15\n",
              "b    10\n",
              "d     5\n",
              "dtype: int64"
            ]
          },
          "metadata": {},
          "execution_count": 130
        }
      ]
    },
    {
      "cell_type": "code",
      "source": [
        "capitals_map = {'a': 'A', 'b' : 'B', 'c': 'C', 'd': 'D'}\n",
        "\n",
        "ser2 = ser2.map(capitals_map)"
      ],
      "metadata": {
        "id": "_Av2WuqScVJ_"
      },
      "execution_count": 132,
      "outputs": []
    },
    {
      "cell_type": "code",
      "source": [
        "ser2.value_counts()"
      ],
      "metadata": {
        "colab": {
          "base_uri": "https://localhost:8080/"
        },
        "id": "2P9XaQSVdg6o",
        "outputId": "7f126fc8-0f75-40c2-faa8-1bd4e8b77641"
      },
      "execution_count": 135,
      "outputs": [
        {
          "output_type": "execute_result",
          "data": {
            "text/plain": [
              "A    20\n",
              "C    15\n",
              "B    10\n",
              "D     5\n",
              "dtype: int64"
            ]
          },
          "metadata": {},
          "execution_count": 135
        }
      ]
    },
    {
      "cell_type": "code",
      "source": [
        "capitals_map = {'A': 'A', 'B' : 'BD', 'C': 'C', 'D': 'BD'}\n",
        "\n",
        "ser2 = ser2.map(capitals_map)\n",
        "\n",
        "ser2.value_counts()"
      ],
      "metadata": {
        "colab": {
          "base_uri": "https://localhost:8080/"
        },
        "id": "A8UTk6NOdVd0",
        "outputId": "69888d02-8605-4949-866e-97d6478fbbbe"
      },
      "execution_count": 136,
      "outputs": [
        {
          "output_type": "execute_result",
          "data": {
            "text/plain": [
              "A     20\n",
              "BD    15\n",
              "C     15\n",
              "dtype: int64"
            ]
          },
          "metadata": {},
          "execution_count": 136
        }
      ]
    },
    {
      "cell_type": "markdown",
      "source": [
        "Missing values"
      ],
      "metadata": {
        "id": "1o8SAMigdXDQ"
      }
    },
    {
      "cell_type": "code",
      "source": [
        "ser[[3, 15, 21, 27, 30]] = np.nan  # replce some values with NaN"
      ],
      "metadata": {
        "id": "r2vfNT1Vd2GD"
      },
      "execution_count": 152,
      "outputs": []
    },
    {
      "cell_type": "code",
      "source": [
        "ser.isna()  # Binary mask showing if an element is NaN or not"
      ],
      "metadata": {
        "colab": {
          "base_uri": "https://localhost:8080/"
        },
        "id": "0nEc6y0ReGPm",
        "outputId": "99f964ff-b718-45ff-9019-dcdb81720b74"
      },
      "execution_count": 153,
      "outputs": [
        {
          "output_type": "execute_result",
          "data": {
            "text/plain": [
              "0     False\n",
              "1     False\n",
              "2     False\n",
              "3      True\n",
              "4     False\n",
              "5     False\n",
              "6     False\n",
              "7     False\n",
              "8     False\n",
              "9     False\n",
              "10    False\n",
              "11    False\n",
              "12    False\n",
              "13    False\n",
              "14    False\n",
              "15     True\n",
              "16    False\n",
              "17    False\n",
              "18    False\n",
              "19    False\n",
              "20    False\n",
              "21     True\n",
              "22    False\n",
              "23    False\n",
              "24    False\n",
              "25    False\n",
              "26    False\n",
              "27     True\n",
              "28    False\n",
              "29    False\n",
              "30     True\n",
              "31    False\n",
              "dtype: bool"
            ]
          },
          "metadata": {},
          "execution_count": 153
        }
      ]
    },
    {
      "cell_type": "code",
      "source": [
        "print(f'Does my series have any missing values? {ser.isna().any()}')\n",
        "print(f'How many missing values does my array have? {ser.isna().sum()}')"
      ],
      "metadata": {
        "colab": {
          "base_uri": "https://localhost:8080/"
        },
        "id": "newyDfq4eN6w",
        "outputId": "17b26149-f9f5-4310-95de-eddae8306690"
      },
      "execution_count": 154,
      "outputs": [
        {
          "output_type": "stream",
          "name": "stdout",
          "text": [
            "Does my series have any missing values? True\n",
            "How many missing values does my array have? 5\n"
          ]
        }
      ]
    },
    {
      "cell_type": "code",
      "source": [
        "print('Which values are missing?')\n",
        "\n",
        "ser[ser.isna()]"
      ],
      "metadata": {
        "colab": {
          "base_uri": "https://localhost:8080/"
        },
        "id": "IalRfVeYfP-s",
        "outputId": "43dc6fb1-58b6-4af9-a3b3-ff6d68e9d827"
      },
      "execution_count": 155,
      "outputs": [
        {
          "output_type": "stream",
          "name": "stdout",
          "text": [
            "Which values are missing?\n"
          ]
        },
        {
          "output_type": "execute_result",
          "data": {
            "text/plain": [
              "3    NaN\n",
              "15   NaN\n",
              "21   NaN\n",
              "27   NaN\n",
              "30   NaN\n",
              "dtype: float64"
            ]
          },
          "metadata": {},
          "execution_count": 155
        }
      ]
    },
    {
      "cell_type": "code",
      "source": [
        "ser2 = ser.fillna(ser.mean())  # fill missing values with series mean"
      ],
      "metadata": {
        "id": "o_Arl8XmfhsS"
      },
      "execution_count": 156,
      "outputs": []
    },
    {
      "cell_type": "code",
      "source": [
        "print(f'Does my series have any missing values? {ser2.isna().any()}')\n",
        "print(f'How many missing values does my array have? {ser2.isna().sum()}')"
      ],
      "metadata": {
        "colab": {
          "base_uri": "https://localhost:8080/"
        },
        "id": "m5sDqe_agNzC",
        "outputId": "1c08d620-e4e8-4d50-dd7f-cbbd107cecff"
      },
      "execution_count": 157,
      "outputs": [
        {
          "output_type": "stream",
          "name": "stdout",
          "text": [
            "Does my series have any missing values? False\n",
            "How many missing values does my array have? 0\n"
          ]
        }
      ]
    },
    {
      "cell_type": "code",
      "source": [
        "ser3 = ser.dropna()  # drop missing values entirely"
      ],
      "metadata": {
        "id": "Sje_CjBBgmfS"
      },
      "execution_count": 160,
      "outputs": []
    },
    {
      "cell_type": "markdown",
      "source": [
        "Inspection"
      ],
      "metadata": {
        "id": "WkO6pvZag7eZ"
      }
    },
    {
      "cell_type": "code",
      "source": [
        "ser.head(7)  # return first 7 elements in series"
      ],
      "metadata": {
        "colab": {
          "base_uri": "https://localhost:8080/"
        },
        "id": "Y0S7rzrKhWbN",
        "outputId": "c993d274-56b6-4107-8dce-edac1ffb1b61"
      },
      "execution_count": 162,
      "outputs": [
        {
          "output_type": "execute_result",
          "data": {
            "text/plain": [
              "0    1.0\n",
              "1    2.0\n",
              "2    1.0\n",
              "3    NaN\n",
              "4    2.0\n",
              "5    3.0\n",
              "6    1.0\n",
              "dtype: float64"
            ]
          },
          "metadata": {},
          "execution_count": 162
        }
      ]
    },
    {
      "cell_type": "code",
      "source": [
        "ser.tail()  # return last 5 elements (by default) in series"
      ],
      "metadata": {
        "colab": {
          "base_uri": "https://localhost:8080/"
        },
        "id": "kX2W-9lghghu",
        "outputId": "8f060c94-411b-4016-c030-898e491d119a"
      },
      "execution_count": 163,
      "outputs": [
        {
          "output_type": "execute_result",
          "data": {
            "text/plain": [
              "27    NaN\n",
              "28    3.0\n",
              "29    1.0\n",
              "30    NaN\n",
              "31    1.0\n",
              "dtype: float64"
            ]
          },
          "metadata": {},
          "execution_count": 163
        }
      ]
    },
    {
      "cell_type": "code",
      "source": [
        "ser.sample(5)  # return 5 random elements from series"
      ],
      "metadata": {
        "colab": {
          "base_uri": "https://localhost:8080/"
        },
        "id": "PYrQwOsohvIM",
        "outputId": "6d23e967-6656-4b6f-dc6f-791e7b3c6170"
      },
      "execution_count": 164,
      "outputs": [
        {
          "output_type": "execute_result",
          "data": {
            "text/plain": [
              "20    2.0\n",
              "31    1.0\n",
              "16    1.0\n",
              "14    3.0\n",
              "11    3.0\n",
              "dtype: float64"
            ]
          },
          "metadata": {},
          "execution_count": 164
        }
      ]
    },
    {
      "cell_type": "code",
      "source": [
        "ser.info()  # see info on series"
      ],
      "metadata": {
        "colab": {
          "base_uri": "https://localhost:8080/"
        },
        "id": "UXjqMVZYh4nt",
        "outputId": "aa50f2b5-135d-4baf-ac72-5a0820c47691"
      },
      "execution_count": 166,
      "outputs": [
        {
          "output_type": "stream",
          "name": "stdout",
          "text": [
            "<class 'pandas.core.series.Series'>\n",
            "RangeIndex: 32 entries, 0 to 31\n",
            "Series name: None\n",
            "Non-Null Count  Dtype  \n",
            "--------------  -----  \n",
            "27 non-null     float64\n",
            "dtypes: float64(1)\n",
            "memory usage: 384.0 bytes\n"
          ]
        }
      ]
    },
    {
      "cell_type": "code",
      "source": [
        "ser.describe()  # statistical information on series"
      ],
      "metadata": {
        "colab": {
          "base_uri": "https://localhost:8080/"
        },
        "id": "airss5KaiBp5",
        "outputId": "3fba2d73-ef35-4f99-b83e-2ef96463ffb0"
      },
      "execution_count": 167,
      "outputs": [
        {
          "output_type": "execute_result",
          "data": {
            "text/plain": [
              "count    27.000000\n",
              "mean      2.111111\n",
              "std       1.012739\n",
              "min       1.000000\n",
              "25%       1.000000\n",
              "50%       2.000000\n",
              "75%       3.000000\n",
              "max       4.000000\n",
              "dtype: float64"
            ]
          },
          "metadata": {},
          "execution_count": 167
        }
      ]
    },
    {
      "cell_type": "code",
      "source": [
        "len(ser)"
      ],
      "metadata": {
        "colab": {
          "base_uri": "https://localhost:8080/"
        },
        "id": "80WtX9UCiKmz",
        "outputId": "61747f62-4c31-4f11-fe9c-92caf39382e3"
      },
      "execution_count": 169,
      "outputs": [
        {
          "output_type": "execute_result",
          "data": {
            "text/plain": [
              "32"
            ]
          },
          "metadata": {},
          "execution_count": 169
        }
      ]
    },
    {
      "cell_type": "code",
      "source": [
        "ser.shape"
      ],
      "metadata": {
        "colab": {
          "base_uri": "https://localhost:8080/"
        },
        "id": "qSkBEpXZiSzg",
        "outputId": "8f67638f-415f-4f25-b6ed-93fdb7f63407"
      },
      "execution_count": 170,
      "outputs": [
        {
          "output_type": "execute_result",
          "data": {
            "text/plain": [
              "(32,)"
            ]
          },
          "metadata": {},
          "execution_count": 170
        }
      ]
    },
    {
      "cell_type": "markdown",
      "source": [
        "apply"
      ],
      "metadata": {
        "id": "b0BTdfQ8iU2P"
      }
    },
    {
      "cell_type": "code",
      "source": [
        "def is_even(num):\n",
        "    return num % 2 == 0\n",
        "\n",
        "\n",
        "ser.apply(is_even)"
      ],
      "metadata": {
        "colab": {
          "base_uri": "https://localhost:8080/"
        },
        "id": "13SSVZygi8Ra",
        "outputId": "deed8385-f261-4184-af75-4a38fde7f524"
      },
      "execution_count": 179,
      "outputs": [
        {
          "output_type": "execute_result",
          "data": {
            "text/plain": [
              "0     False\n",
              "1      True\n",
              "2     False\n",
              "3     False\n",
              "4      True\n",
              "5     False\n",
              "6     False\n",
              "7      True\n",
              "8     False\n",
              "9     False\n",
              "10     True\n",
              "11    False\n",
              "12     True\n",
              "13     True\n",
              "14    False\n",
              "15    False\n",
              "16    False\n",
              "17     True\n",
              "18    False\n",
              "19     True\n",
              "20     True\n",
              "21    False\n",
              "22     True\n",
              "23     True\n",
              "24    False\n",
              "25    False\n",
              "26     True\n",
              "27    False\n",
              "28    False\n",
              "29    False\n",
              "30    False\n",
              "31    False\n",
              "dtype: bool"
            ]
          },
          "metadata": {},
          "execution_count": 179
        }
      ]
    },
    {
      "cell_type": "code",
      "source": [
        "def fill_nan_with_mean(num):\n",
        "    if np.isnan(num):\n",
        "        return 2.111\n",
        "    return num\n",
        "\n",
        "\n",
        "ser.apply(fill_nan_with_mean)"
      ],
      "metadata": {
        "colab": {
          "base_uri": "https://localhost:8080/"
        },
        "id": "UiaHZbwtjyCy",
        "outputId": "9c0b7758-eb65-4d7d-aa8e-e5e77f7d832b"
      },
      "execution_count": 181,
      "outputs": [
        {
          "output_type": "execute_result",
          "data": {
            "text/plain": [
              "0     1.000\n",
              "1     2.000\n",
              "2     1.000\n",
              "3     2.111\n",
              "4     2.000\n",
              "5     3.000\n",
              "6     1.000\n",
              "7     2.000\n",
              "8     3.000\n",
              "9     1.000\n",
              "10    2.000\n",
              "11    3.000\n",
              "12    4.000\n",
              "13    2.000\n",
              "14    3.000\n",
              "15    2.111\n",
              "16    1.000\n",
              "17    2.000\n",
              "18    3.000\n",
              "19    4.000\n",
              "20    2.000\n",
              "21    2.111\n",
              "22    4.000\n",
              "23    2.000\n",
              "24    1.000\n",
              "25    1.000\n",
              "26    2.000\n",
              "27    2.111\n",
              "28    3.000\n",
              "29    1.000\n",
              "30    2.111\n",
              "31    1.000\n",
              "dtype: float64"
            ]
          },
          "metadata": {},
          "execution_count": 181
        }
      ]
    },
    {
      "cell_type": "code",
      "source": [
        "# def replace_values(num):\n",
        "#     if num > 2 or np.isnan(num):\n",
        "#         return 3\n",
        "#     return num\n",
        "\n",
        "\n",
        "# ser.apply(replace_values)\n",
        "\n",
        "ser.apply(lambda num: 3 if num > 2 or np.isnan(num) else num)"
      ],
      "metadata": {
        "colab": {
          "base_uri": "https://localhost:8080/"
        },
        "id": "bxou7S6Xkl88",
        "outputId": "7065843c-afaf-4907-d97c-36bfa642062b"
      },
      "execution_count": 184,
      "outputs": [
        {
          "output_type": "execute_result",
          "data": {
            "text/plain": [
              "0     1.0\n",
              "1     2.0\n",
              "2     1.0\n",
              "3     3.0\n",
              "4     2.0\n",
              "5     3.0\n",
              "6     1.0\n",
              "7     2.0\n",
              "8     3.0\n",
              "9     1.0\n",
              "10    2.0\n",
              "11    3.0\n",
              "12    3.0\n",
              "13    2.0\n",
              "14    3.0\n",
              "15    3.0\n",
              "16    1.0\n",
              "17    2.0\n",
              "18    3.0\n",
              "19    3.0\n",
              "20    2.0\n",
              "21    3.0\n",
              "22    3.0\n",
              "23    2.0\n",
              "24    1.0\n",
              "25    1.0\n",
              "26    2.0\n",
              "27    3.0\n",
              "28    3.0\n",
              "29    1.0\n",
              "30    3.0\n",
              "31    1.0\n",
              "dtype: float64"
            ]
          },
          "metadata": {},
          "execution_count": 184
        }
      ]
    },
    {
      "cell_type": "code",
      "source": [],
      "metadata": {
        "id": "84SKmDBXktv3"
      },
      "execution_count": null,
      "outputs": []
    }
  ]
}