{
 "cells": [
  {
   "cell_type": "code",
   "execution_count": 5,
   "id": "a4d09c17",
   "metadata": {},
   "outputs": [
    {
     "name": "stdout",
     "output_type": "stream",
     "text": [
      "10\n"
     ]
    },
    {
     "data": {
      "text/plain": [
       "int"
      ]
     },
     "execution_count": 5,
     "metadata": {},
     "output_type": "execute_result"
    }
   ],
   "source": [
    "num = 10\n",
    "print(num)\n",
    "type(num)"
   ]
  },
  {
   "cell_type": "code",
   "execution_count": 15,
   "id": "4e9d8a16",
   "metadata": {},
   "outputs": [
    {
     "name": "stdout",
     "output_type": "stream",
     "text": [
      "Enter a number: 10\n",
      "20\n"
     ]
    }
   ],
   "source": [
    "num1 = input('Enter a number: ')\n",
    "num1 = int(num1)\n",
    "num2 = 10    \n",
    "print(num1 + num2)"
   ]
  },
  {
   "cell_type": "code",
   "execution_count": 23,
   "id": "73d55f36",
   "metadata": {},
   "outputs": [
    {
     "name": "stdout",
     "output_type": "stream",
     "text": [
      "Enter a number: 10\n",
      "10\n",
      "Number:  10\n",
      "Number: 10\n",
      "Number: 10\n",
      "Number: 10\n",
      "Number: 10\n"
     ]
    }
   ],
   "source": [
    "num = int(input('Enter a number: '))\n",
    "print(num)\n",
    "print('Number: ', num)\n",
    "print('Number: ' + str(num))\n",
    "print('Number: %s' %num)\n",
    "print('Number: {}'.format(num))\n",
    "print(f'Number: {num}')"
   ]
  },
  {
   "cell_type": "code",
   "execution_count": 32,
   "id": "6e38fcce",
   "metadata": {},
   "outputs": [
    {
     "data": {
      "text/plain": [
       "25"
      ]
     },
     "execution_count": 32,
     "metadata": {},
     "output_type": "execute_result"
    }
   ],
   "source": [
    "# Arithmetic + - * / // %\n",
    "a = 5\n",
    "b = 2\n",
    "a / b\n",
    "a // b\n",
    "a % b\n",
    "a ** b"
   ]
  },
  {
   "cell_type": "code",
   "execution_count": 33,
   "id": "f3285b9b",
   "metadata": {},
   "outputs": [
    {
     "data": {
      "text/plain": [
       "15"
      ]
     },
     "execution_count": 33,
     "metadata": {},
     "output_type": "execute_result"
    }
   ],
   "source": [
    "a += 10  # a = a + 10 \n",
    "a"
   ]
  },
  {
   "cell_type": "code",
   "execution_count": 34,
   "id": "40138d0e",
   "metadata": {},
   "outputs": [
    {
     "data": {
      "text/plain": [
       "True"
      ]
     },
     "execution_count": 34,
     "metadata": {},
     "output_type": "execute_result"
    }
   ],
   "source": [
    "# Relational: > >= < <= == !=\n",
    "a != 10"
   ]
  },
  {
   "cell_type": "code",
   "execution_count": null,
   "id": "80ec5f27",
   "metadata": {},
   "outputs": [],
   "source": [
    "# logical: and or not"
   ]
  },
  {
   "cell_type": "code",
   "execution_count": 35,
   "id": "5154dcdf",
   "metadata": {},
   "outputs": [
    {
     "data": {
      "text/plain": [
       "False"
      ]
     },
     "execution_count": 35,
     "metadata": {},
     "output_type": "execute_result"
    }
   ],
   "source": [
    "a == 15 and b != 2"
   ]
  },
  {
   "cell_type": "code",
   "execution_count": 42,
   "id": "f22e33c0",
   "metadata": {},
   "outputs": [
    {
     "name": "stdout",
     "output_type": "stream",
     "text": [
      "Negative\n"
     ]
    }
   ],
   "source": [
    "num = -6\n",
    "\n",
    "if num < 0: \n",
    "    print('Negative')"
   ]
  },
  {
   "cell_type": "code",
   "execution_count": 43,
   "id": "3e24af36",
   "metadata": {},
   "outputs": [
    {
     "name": "stdout",
     "output_type": "stream",
     "text": [
      "Non Zero\n"
     ]
    }
   ],
   "source": [
    "num = 13\n",
    "if num == 0: \n",
    "    print('Zero')\n",
    "else:\n",
    "    print('Non Zero')"
   ]
  },
  {
   "cell_type": "code",
   "execution_count": 49,
   "id": "7ee1539b",
   "metadata": {
    "scrolled": true
   },
   "outputs": [
    {
     "name": "stdout",
     "output_type": "stream",
     "text": [
      "Error...\n"
     ]
    }
   ],
   "source": [
    "num = 10       # 0.5\n",
    "if num == 0: \n",
    "    print('Zero')\n",
    "elif num % 2 == 0:\n",
    "    print('even')\n",
    "elif num % 2 == 1:\n",
    "    print('odd')\n",
    "else:\n",
    "    print('Error...')"
   ]
  },
  {
   "cell_type": "code",
   "execution_count": 51,
   "id": "945d3770",
   "metadata": {},
   "outputs": [
    {
     "name": "stdout",
     "output_type": "stream",
     "text": [
      "0\n",
      "1\n",
      "2\n",
      "3\n",
      "4\n",
      "5\n",
      "6\n",
      "7\n",
      "8\n",
      "9\n"
     ]
    }
   ],
   "source": [
    "i = 0\n",
    "while i < 10: \n",
    "    print(i)\n",
    "    i += 1"
   ]
  },
  {
   "cell_type": "code",
   "execution_count": 52,
   "id": "c2416ea0",
   "metadata": {},
   "outputs": [
    {
     "name": "stdout",
     "output_type": "stream",
     "text": [
      "3\n",
      "9\n",
      "Hello\n",
      "world\n",
      "3.4\n",
      "True\n",
      "None\n",
      "a\n"
     ]
    }
   ],
   "source": [
    "for i in [3, 9, \"Hello\", 'world', 3.4, True, None, 'a']:\n",
    "    print(i)"
   ]
  },
  {
   "cell_type": "code",
   "execution_count": 53,
   "id": "560783aa",
   "metadata": {},
   "outputs": [
    {
     "name": "stdout",
     "output_type": "stream",
     "text": [
      "3\n",
      "4\n",
      "5\n",
      "6\n",
      "7\n",
      "8\n"
     ]
    }
   ],
   "source": [
    "for i in [3, 4, 5, 6, 7, 8]:\n",
    "    print(i)"
   ]
  },
  {
   "cell_type": "code",
   "execution_count": 59,
   "id": "77a408dc",
   "metadata": {},
   "outputs": [
    {
     "name": "stdout",
     "output_type": "stream",
     "text": [
      "10\n",
      "15\n",
      "20\n",
      "25\n",
      "30\n",
      "35\n",
      "40\n",
      "45\n",
      "50\n",
      "55\n",
      "60\n",
      "65\n",
      "70\n",
      "75\n",
      "80\n"
     ]
    }
   ],
   "source": [
    "# for i in range(14):\n",
    "#     print(i)\n",
    "    \n",
    "# for i in range(14, 21):\n",
    "#     print(i)\n",
    "\n",
    "for i in range(10, 85, 5):\n",
    "    print(i)"
   ]
  },
  {
   "cell_type": "code",
   "execution_count": null,
   "id": "c47c591b",
   "metadata": {},
   "outputs": [],
   "source": []
  }
 ],
 "metadata": {
  "kernelspec": {
   "display_name": "Python 3 (ipykernel)",
   "language": "python",
   "name": "python3"
  },
  "language_info": {
   "codemirror_mode": {
    "name": "ipython",
    "version": 3
   },
   "file_extension": ".py",
   "mimetype": "text/x-python",
   "name": "python",
   "nbconvert_exporter": "python",
   "pygments_lexer": "ipython3",
   "version": "3.11.1"
  }
 },
 "nbformat": 4,
 "nbformat_minor": 5
}
