{
 "cells": [
  {
   "cell_type": "code",
   "execution_count": 9,
   "id": "b6c30014",
   "metadata": {},
   "outputs": [],
   "source": [
    "import numpy as np\n",
    "import pandas as pd\n",
    "\n",
    "from sklearn.datasets import load_breast_cancer, load_digits\n",
    "from sklearn.model_selection import train_test_split\n",
    "from sklearn.linear_model import LogisticRegression\n",
    "from sklearn.neighbors import KNeighborsClassifier\n",
    "from sklearn.dummy import DummyClassifier\n",
    "from sklearn.tree import DecisionTreeClassifier\n",
    "from sklearn.svm import SVC\n",
    "\n",
    "from sklearn.metrics import accuracy_score\n",
    "\n",
    "import warnings\n",
    "warnings.filterwarnings('ignore')\n",
    "\n",
    "import matplotlib.pyplot as plt\n",
    "%matplotlib inline"
   ]
  },
  {
   "cell_type": "code",
   "execution_count": 8,
   "id": "06242e96",
   "metadata": {},
   "outputs": [],
   "source": [
    "bc = load_breast_cancer()\n",
    "X = bc.data\n",
    "y = bc.target"
   ]
  },
  {
   "cell_type": "code",
   "execution_count": 30,
   "id": "8cb22517",
   "metadata": {},
   "outputs": [
    {
     "name": "stdout",
     "output_type": "stream",
     "text": [
      "(512, 30) (57, 30)\n",
      "(409, 30) (103, 30)\n"
     ]
    }
   ],
   "source": [
    "X_train, X_test, y_train, y_test = train_test_split(X, y, test_size=0.1, random_state=42)\n",
    "print(X_train.shape, X_test.shape)\n",
    "\n",
    "X_train, X_val, y_train, y_val = train_test_split(X_train, y_train, test_size=0.2, random_state=42)\n",
    "print(X_train.shape, X_val.shape)"
   ]
  },
  {
   "cell_type": "code",
   "execution_count": 24,
   "id": "64bdf383",
   "metadata": {},
   "outputs": [],
   "source": [
    "model = LogisticRegression(penalty='l2')\n",
    "model.fit(X_train, y_train)\n",
    "y_hat = model.predict(X_val)"
   ]
  },
  {
   "cell_type": "code",
   "execution_count": 25,
   "id": "f5c80b0f",
   "metadata": {},
   "outputs": [
    {
     "name": "stdout",
     "output_type": "stream",
     "text": [
      "Accuracy:  95.370%\n"
     ]
    }
   ],
   "source": [
    "print(f'Accuracy: {accuracy_score(y_val, y_hat)*100 : .3f}%')"
   ]
  },
  {
   "cell_type": "code",
   "execution_count": 33,
   "id": "1b5cf738",
   "metadata": {},
   "outputs": [
    {
     "name": "stdout",
     "output_type": "stream",
     "text": [
      "Accuracy:  98.246%\n"
     ]
    }
   ],
   "source": [
    "y_hat = model.predict(X_test)\n",
    "print(f'Accuracy: {accuracy_score(y_test, y_hat)*100 : .3f}%')"
   ]
  },
  {
   "cell_type": "markdown",
   "id": "588bcc7b",
   "metadata": {},
   "source": [
    "### Multiclass classification & Harness Test"
   ]
  },
  {
   "cell_type": "code",
   "execution_count": 2,
   "id": "4a8b43f4",
   "metadata": {},
   "outputs": [],
   "source": [
    "digits = load_digits()\n",
    "# digits"
   ]
  },
  {
   "cell_type": "code",
   "execution_count": 3,
   "id": "7236f20c",
   "metadata": {},
   "outputs": [
    {
     "data": {
      "text/plain": [
       "((1797, 64), (1797,))"
      ]
     },
     "execution_count": 3,
     "metadata": {},
     "output_type": "execute_result"
    }
   ],
   "source": [
    "digits.data.shape, digits.target.shape"
   ]
  },
  {
   "cell_type": "code",
   "execution_count": 4,
   "id": "36cbf722",
   "metadata": {},
   "outputs": [
    {
     "data": {
      "text/plain": [
       "<matplotlib.image.AxesImage at 0x27d0fbd2150>"
      ]
     },
     "execution_count": 4,
     "metadata": {},
     "output_type": "execute_result"
    },
    {
     "data": {
      "image/png": "[encoded data removed]",
      "text/plain": [
       "<Figure size 640x480 with 1 Axes>"
      ]
     },
     "metadata": {},
     "output_type": "display_data"
    }
   ],
   "source": [
    "plt.imshow(digits.images[0])"
   ]
  },
  {
   "cell_type": "code",
   "execution_count": 5,
   "id": "6e5bf7bb",
   "metadata": {},
   "outputs": [],
   "source": [
    "X = digits.data\n",
    "y = digits.target"
   ]
  },
  {
   "cell_type": "code",
   "execution_count": 6,
   "id": "af18909b",
   "metadata": {},
   "outputs": [
    {
     "name": "stdout",
     "output_type": "stream",
     "text": [
      "(1617, 64) (180, 64)\n",
      "(1293, 64) (324, 64)\n"
     ]
    }
   ],
   "source": [
    "X_train, X_test, y_train, y_test = train_test_split(X, y, test_size=0.1, random_state=42)\n",
    "print(X_train.shape, X_test.shape)\n",
    "\n",
    "X_train, X_val, y_train, y_val = train_test_split(X_train, y_train, test_size=0.2, random_state=42)\n",
    "print(X_train.shape, X_val.shape)"
   ]
  },
  {
   "cell_type": "code",
   "execution_count": 11,
   "id": "6e0bef93",
   "metadata": {},
   "outputs": [
    {
     "name": "stdout",
     "output_type": "stream",
     "text": [
      "               Dummy:  7.099%\n",
      "          KNeighbors:  98.148%\n",
      "       Decision Tree:  85.185%\n",
      " Logistic Regression:  95.370%\n",
      "                 SVM:  98.457%\n"
     ]
    }
   ],
   "source": [
    "classifiers = {\n",
    "    'Dummy': DummyClassifier(),\n",
    "    'KNeighbors': KNeighborsClassifier(),\n",
    "    'Decision Tree': DecisionTreeClassifier(),\n",
    "    'Logistic Regression': LogisticRegression(),\n",
    "    'SVM': SVC()\n",
    "}\n",
    "\n",
    "for name, model in classifiers.items():\n",
    "    model.fit(X_train, y_train)\n",
    "    y_hat = model.predict(X_val)\n",
    "    print(f'{name : >20}: {accuracy_score(y_val, y_hat)*100 : .3f}%')"
   ]
  },
  {
   "cell_type": "code",
   "execution_count": null,
   "id": "0fd0f551",
   "metadata": {},
   "outputs": [],
   "source": [
    "# choose 2 or 3 having best accuracy --> hyperparameter tunning"
   ]
  },
  {
   "cell_type": "code",
   "execution_count": 12,
   "id": "46e15ee4",
   "metadata": {},
   "outputs": [
    {
     "name": "stdout",
     "output_type": "stream",
     "text": [
      "1 -->  98.14815 %\n",
      "2 -->  98.45679 %\n",
      "3 -->  99.07407 %\n",
      "4 -->  98.45679 %\n",
      "5 -->  98.14815 %\n",
      "6 -->  98.14815 %\n",
      "7 -->  97.83951 %\n",
      "8 -->  97.83951 %\n",
      "9 -->  97.83951 %\n",
      "10 -->  97.22222 %\n",
      "11 -->  97.83951 %\n",
      "12 -->  97.53086 %\n",
      "13 -->  97.22222 %\n",
      "14 -->  96.91358 %\n",
      "15 -->  97.22222 %\n",
      "16 -->  96.60494 %\n",
      "17 -->  96.60494 %\n",
      "18 -->  96.60494 %\n",
      "19 -->  96.91358 %\n"
     ]
    }
   ],
   "source": [
    "for k in range(1, 20):\n",
    "    knn = KNeighborsClassifier(n_neighbors=k)\n",
    "    knn.fit(X_train, y_train)\n",
    "    print(f'{k} --> {knn.score(X_val, y_val)*100 : .5f} %')"
   ]
  },
  {
   "cell_type": "code",
   "execution_count": null,
   "id": "65dc4e7f",
   "metadata": {},
   "outputs": [],
   "source": [
    "# svm -> tuning"
   ]
  },
  {
   "cell_type": "code",
   "execution_count": 17,
   "id": "04ca0b28",
   "metadata": {},
   "outputs": [
    {
     "name": "stdout",
     "output_type": "stream",
     "text": [
      "19 -->  98.88889 %\n"
     ]
    }
   ],
   "source": [
    "final_model = KNeighborsClassifier(n_neighbors=3)\n",
    "final_model.fit(X_train, y_train)\n",
    "print(f'{k} --> {final_model.score(X_test, y_test)*100 : .5f} %')"
   ]
  },
  {
   "cell_type": "code",
   "execution_count": null,
   "id": "8a370be4",
   "metadata": {},
   "outputs": [],
   "source": []
  }
 ],
 "metadata": {
  "kernelspec": {
   "display_name": "Python 3 (ipykernel)",
   "language": "python",
   "name": "python3"
  },
  "language_info": {
   "codemirror_mode": {
    "name": "ipython",
    "version": 3
   },
   "file_extension": ".py",
   "mimetype": "text/x-python",
   "name": "python",
   "nbconvert_exporter": "python",
   "pygments_lexer": "ipython3",
   "version": "3.11.1"
  }
 },
 "nbformat": 4,
 "nbformat_minor": 5
}
